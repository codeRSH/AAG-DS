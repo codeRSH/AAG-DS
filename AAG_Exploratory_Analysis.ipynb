{
  "nbformat": 4,
  "nbformat_minor": 0,
  "metadata": {
    "colab": {
      "name": "AAG Exploratory Analysis.ipynb",
      "provenance": [],
      "collapsed_sections": [],
      "mount_file_id": "https://github.com/codeRSH/AAG-DS/blob/main/AAG_Exploratory_Analysis.ipynb",
      "authorship_tag": "ABX9TyMqZca6XX7o9F43eAfmdB3n",
      "include_colab_link": true
    },
    "kernelspec": {
      "name": "python3",
      "display_name": "Python 3"
    },
    "accelerator": "GPU"
  },
  "cells": [
    {
      "cell_type": "markdown",
      "metadata": {
        "id": "view-in-github",
        "colab_type": "text"
      },
      "source": [
        "<a href=\"https://colab.research.google.com/github/codeRSH/AAG-DS/blob/main/AAG_Exploratory_Analysis.ipynb\" target=\"_parent\"><img src=\"https://colab.research.google.com/assets/colab-badge.svg\" alt=\"Open In Colab\"/></a>"
      ]
    },
    {
      "cell_type": "markdown",
      "metadata": {
        "id": "WHr86D4sqoOg"
      },
      "source": [
        "# Exploratory Analysis using Python"
      ]
    },
    {
      "cell_type": "markdown",
      "metadata": {
        "id": "YzA0iwGOq0Pm"
      },
      "source": [
        "## Initial Setup"
      ]
    },
    {
      "cell_type": "markdown",
      "metadata": {
        "id": "B3ekGsF9qj0T"
      },
      "source": [
        "### Mount Drive to Read files"
      ]
    },
    {
      "cell_type": "code",
      "metadata": {
        "id": "BhBkh7OAgIu0",
        "colab": {
          "base_uri": "https://localhost:8080/"
        },
        "outputId": "fe0fbe4d-64f8-468e-bb03-6e47b759c80b"
      },
      "source": [
        "from google.colab import drive\n",
        "\n",
        "drive.mount('/content/drive')"
      ],
      "execution_count": 139,
      "outputs": [
        {
          "output_type": "stream",
          "text": [
            "Drive already mounted at /content/drive; to attempt to forcibly remount, call drive.mount(\"/content/drive\", force_remount=True).\n"
          ],
          "name": "stdout"
        }
      ]
    },
    {
      "cell_type": "markdown",
      "metadata": {
        "id": "3crOX2IwgUIq"
      },
      "source": [
        "### Import All Relevant Libraries"
      ]
    },
    {
      "cell_type": "code",
      "metadata": {
        "id": "QvlOLYb6gN3T"
      },
      "source": [
        "import glob\n",
        "import pandas as pd\n",
        "import numpy as np\n",
        "import warnings"
      ],
      "execution_count": 151,
      "outputs": []
    },
    {
      "cell_type": "markdown",
      "metadata": {
        "id": "z0xukazU33I1"
      },
      "source": [
        "### Ignore Warnings (for clean output)"
      ]
    },
    {
      "cell_type": "code",
      "metadata": {
        "id": "rbLT-i5v3107"
      },
      "source": [
        "warnings.filterwarnings('ignore')"
      ],
      "execution_count": 141,
      "outputs": []
    },
    {
      "cell_type": "markdown",
      "metadata": {
        "id": "TlbbMgIghPqS"
      },
      "source": [
        "### Define File Paths"
      ]
    },
    {
      "cell_type": "code",
      "metadata": {
        "id": "QuLKHcEnhUop"
      },
      "source": [
        "init_input_path = \"/content/drive/MyDrive/AAG DS Folder/Capstone/input/\"\n",
        "init_output_path = \"/content/drive/MyDrive/AAG DS Folder/Capstone/output/\"\n",
        "\n",
        "linfol_path = init_input_path + \"LINFOL/*CSV\"\n",
        "kna1_path = init_input_path + \"KNA1/*csv\"\n",
        "hueres_path = init_input_path + \"HUERES/*csv\"\n",
        "rsrvs_path =  init_input_path + \"RSRVS/*csv\""
      ],
      "execution_count": 143,
      "outputs": []
    },
    {
      "cell_type": "markdown",
      "metadata": {
        "id": "83d79DN3gker"
      },
      "source": [
        "## Data Loading and Wrangling"
      ]
    },
    {
      "cell_type": "markdown",
      "metadata": {
        "id": "1WRlyKJ4Ocwt"
      },
      "source": [
        "### LINFOL - Hotel Revenue Data"
      ]
    },
    {
      "cell_type": "code",
      "metadata": {
        "id": "jbfFw1M-JOVl"
      },
      "source": [
        "# Linfol Data\n",
        "linfol_data = pd.DataFrame()\n",
        "\n",
        "# print(glob.glob(kna1_path))\n",
        "\n",
        "# Read the LINFOL data from all the available csv files\n",
        "for file in glob.glob(linfol_path):\n",
        "    data = pd.read_csv(file, parse_dates=True, encoding=\"unicode_escape\", sep='\\t', \n",
        "                       header=None, skiprows=[0],\n",
        "                       error_bad_lines=False, warn_bad_lines=False)\n",
        "    linfol_data = linfol_data.append(data)"
      ],
      "execution_count": 150,
      "outputs": []
    },
    {
      "cell_type": "code",
      "metadata": {
        "id": "_GPf54Ego1kS"
      },
      "source": [
        "# Remove onwands columns. Also, keep a copy so as to not have to re-read the data. \n",
        "linfol_copy = linfol_data.drop(columns=[2, 4])\n",
        "linfol_data = linfol_copy"
      ],
      "execution_count": 145,
      "outputs": []
    },
    {
      "cell_type": "code",
      "metadata": {
        "colab": {
          "base_uri": "https://localhost:8080/",
          "height": 197
        },
        "id": "vzA7jp_87Hlx",
        "outputId": "2f6bad5c-d71c-4f9e-cbc6-34c5db75a07b"
      },
      "source": [
        "# Provide the Column Names\n",
        "linfol_data.columns = [\"Hotel_ID\", \"Reservation_ID\", \"Concept\", \"Revenue_Date\", \"Revenue\", \"Tax\"]\n",
        "linfol_data.head()"
      ],
      "execution_count": 146,
      "outputs": [
        {
          "output_type": "execute_result",
          "data": {
            "text/html": [
              "<div>\n",
              "<style scoped>\n",
              "    .dataframe tbody tr th:only-of-type {\n",
              "        vertical-align: middle;\n",
              "    }\n",
              "\n",
              "    .dataframe tbody tr th {\n",
              "        vertical-align: top;\n",
              "    }\n",
              "\n",
              "    .dataframe thead th {\n",
              "        text-align: right;\n",
              "    }\n",
              "</style>\n",
              "<table border=\"1\" class=\"dataframe\">\n",
              "  <thead>\n",
              "    <tr style=\"text-align: right;\">\n",
              "      <th></th>\n",
              "      <th>Hotel_ID</th>\n",
              "      <th>Reservation_ID</th>\n",
              "      <th>Concept</th>\n",
              "      <th>Revenue_Date</th>\n",
              "      <th>Revenue</th>\n",
              "      <th>Tax</th>\n",
              "    </tr>\n",
              "  </thead>\n",
              "  <tbody>\n",
              "    <tr>\n",
              "      <th>0</th>\n",
              "      <td>AGR1</td>\n",
              "      <td>3750093.0</td>\n",
              "      <td>BREAKFAST</td>\n",
              "      <td>24.07.2018</td>\n",
              "      <td>400</td>\n",
              "      <td>72</td>\n",
              "    </tr>\n",
              "    <tr>\n",
              "      <th>1</th>\n",
              "      <td>AGR1</td>\n",
              "      <td>3750093.0</td>\n",
              "      <td>SERVCHRG</td>\n",
              "      <td>24.07.2018</td>\n",
              "      <td>120</td>\n",
              "      <td>21.6</td>\n",
              "    </tr>\n",
              "    <tr>\n",
              "      <th>2</th>\n",
              "      <td>AGR1</td>\n",
              "      <td>3750093.0</td>\n",
              "      <td>ALLOWFNB</td>\n",
              "      <td>26.07.2018</td>\n",
              "      <td>519.200000+AC0-</td>\n",
              "      <td>0</td>\n",
              "    </tr>\n",
              "    <tr>\n",
              "      <th>3</th>\n",
              "      <td>AGR1</td>\n",
              "      <td>3750102.0</td>\n",
              "      <td>BREAKFAST</td>\n",
              "      <td>24.07.2018</td>\n",
              "      <td>400</td>\n",
              "      <td>72</td>\n",
              "    </tr>\n",
              "    <tr>\n",
              "      <th>4</th>\n",
              "      <td>AGR1</td>\n",
              "      <td>3750102.0</td>\n",
              "      <td>SERVCHRG</td>\n",
              "      <td>24.07.2018</td>\n",
              "      <td>120</td>\n",
              "      <td>21.6</td>\n",
              "    </tr>\n",
              "  </tbody>\n",
              "</table>\n",
              "</div>"
            ],
            "text/plain": [
              "  Hotel_ID  Reservation_ID    Concept Revenue_Date          Revenue   Tax\n",
              "0     AGR1       3750093.0  BREAKFAST   24.07.2018              400    72\n",
              "1     AGR1       3750093.0   SERVCHRG   24.07.2018              120  21.6\n",
              "2     AGR1       3750093.0   ALLOWFNB   26.07.2018  519.200000+AC0-     0\n",
              "3     AGR1       3750102.0  BREAKFAST   24.07.2018              400    72\n",
              "4     AGR1       3750102.0   SERVCHRG   24.07.2018              120  21.6"
            ]
          },
          "metadata": {
            "tags": []
          },
          "execution_count": 146
        }
      ]
    },
    {
      "cell_type": "code",
      "metadata": {
        "colab": {
          "base_uri": "https://localhost:8080/"
        },
        "id": "VEEvTUtVMUXL",
        "outputId": "fa829c83-d00a-45ea-d876-ec65e036eb5d"
      },
      "source": [
        "# Determine null values in each columns\r\n",
        "linfol_data.isna( ).mean().round(4) * 100"
      ],
      "execution_count": 149,
      "outputs": [
        {
          "output_type": "execute_result",
          "data": {
            "text/plain": [
              "Hotel_ID          0.0\n",
              "Reservation_ID    0.0\n",
              "Concept           0.0\n",
              "Revenue_Date      0.0\n",
              "Revenue           0.0\n",
              "Tax               0.0\n",
              "dtype: float64"
            ]
          },
          "metadata": {
            "tags": []
          },
          "execution_count": 149
        }
      ]
    },
    {
      "cell_type": "code",
      "metadata": {
        "colab": {
          "base_uri": "https://localhost:8080/",
          "height": 197
        },
        "id": "kQcRhpd1fNAT",
        "outputId": "c850d3e1-73bb-4777-d81b-87c4c1520c38"
      },
      "source": [
        "# Convert Null Reservation ID to 0 and convert it to Integer\n",
        "linfol_data = linfol_data[linfol_data['Reservation_ID'].notna()]\n",
        "linfol_data[\"Reservation_ID\"] = linfol_data[\"Reservation_ID\"].astype(int)\n",
        "linfol_data.head()"
      ],
      "execution_count": 148,
      "outputs": [
        {
          "output_type": "execute_result",
          "data": {
            "text/html": [
              "<div>\n",
              "<style scoped>\n",
              "    .dataframe tbody tr th:only-of-type {\n",
              "        vertical-align: middle;\n",
              "    }\n",
              "\n",
              "    .dataframe tbody tr th {\n",
              "        vertical-align: top;\n",
              "    }\n",
              "\n",
              "    .dataframe thead th {\n",
              "        text-align: right;\n",
              "    }\n",
              "</style>\n",
              "<table border=\"1\" class=\"dataframe\">\n",
              "  <thead>\n",
              "    <tr style=\"text-align: right;\">\n",
              "      <th></th>\n",
              "      <th>Hotel_ID</th>\n",
              "      <th>Reservation_ID</th>\n",
              "      <th>Concept</th>\n",
              "      <th>Revenue_Date</th>\n",
              "      <th>Revenue</th>\n",
              "      <th>Tax</th>\n",
              "    </tr>\n",
              "  </thead>\n",
              "  <tbody>\n",
              "    <tr>\n",
              "      <th>0</th>\n",
              "      <td>AGR1</td>\n",
              "      <td>3750093</td>\n",
              "      <td>BREAKFAST</td>\n",
              "      <td>24.07.2018</td>\n",
              "      <td>400</td>\n",
              "      <td>72</td>\n",
              "    </tr>\n",
              "    <tr>\n",
              "      <th>1</th>\n",
              "      <td>AGR1</td>\n",
              "      <td>3750093</td>\n",
              "      <td>SERVCHRG</td>\n",
              "      <td>24.07.2018</td>\n",
              "      <td>120</td>\n",
              "      <td>21.6</td>\n",
              "    </tr>\n",
              "    <tr>\n",
              "      <th>2</th>\n",
              "      <td>AGR1</td>\n",
              "      <td>3750093</td>\n",
              "      <td>ALLOWFNB</td>\n",
              "      <td>26.07.2018</td>\n",
              "      <td>519.200000+AC0-</td>\n",
              "      <td>0</td>\n",
              "    </tr>\n",
              "    <tr>\n",
              "      <th>3</th>\n",
              "      <td>AGR1</td>\n",
              "      <td>3750102</td>\n",
              "      <td>BREAKFAST</td>\n",
              "      <td>24.07.2018</td>\n",
              "      <td>400</td>\n",
              "      <td>72</td>\n",
              "    </tr>\n",
              "    <tr>\n",
              "      <th>4</th>\n",
              "      <td>AGR1</td>\n",
              "      <td>3750102</td>\n",
              "      <td>SERVCHRG</td>\n",
              "      <td>24.07.2018</td>\n",
              "      <td>120</td>\n",
              "      <td>21.6</td>\n",
              "    </tr>\n",
              "  </tbody>\n",
              "</table>\n",
              "</div>"
            ],
            "text/plain": [
              "  Hotel_ID  Reservation_ID    Concept Revenue_Date          Revenue   Tax\n",
              "0     AGR1         3750093  BREAKFAST   24.07.2018              400    72\n",
              "1     AGR1         3750093   SERVCHRG   24.07.2018              120  21.6\n",
              "2     AGR1         3750093   ALLOWFNB   26.07.2018  519.200000+AC0-     0\n",
              "3     AGR1         3750102  BREAKFAST   24.07.2018              400    72\n",
              "4     AGR1         3750102   SERVCHRG   24.07.2018              120  21.6"
            ]
          },
          "metadata": {
            "tags": []
          },
          "execution_count": 148
        }
      ]
    },
    {
      "cell_type": "code",
      "metadata": {
        "colab": {
          "base_uri": "https://localhost:8080/",
          "height": 197
        },
        "id": "G_HLO-S7lXdG",
        "outputId": "31947e5c-b0fe-4dbd-886b-c5ef3ade6be5"
      },
      "source": [
        "# Remove +AC0- which is a wrong text in Revenue and Tax fields\n",
        "linfol_data['Revenue'] = linfol_data['Revenue'].apply(lambda x : np.float(\n",
        "                            x.replace(\"+AC0-\", \"\").replace(\",\", \"\") \n",
        "                            if \"+AC0-\" in str(x) else np.float(x)))\n",
        "linfol_data['Tax']     = linfol_data['Tax'].apply(lambda x : np.float(\n",
        "                            x.replace(\"+AC0-\", \"\").replace(\",\", \"\") \n",
        "                            if \"+AC0-\" in str(x) else np.float(x)))\n",
        "\n",
        "# Create Total Column and remove the Revenue and Tax columns\n",
        "linfol_data['Total'] = linfol_data['Revenue'] + linfol_data['Tax']\n",
        "linfol_data.drop(columns = [\"Revenue\", \"Tax\"], inplace = True)\n",
        "linfol_data.head()"
      ],
      "execution_count": 10,
      "outputs": [
        {
          "output_type": "execute_result",
          "data": {
            "text/html": [
              "<div>\n",
              "<style scoped>\n",
              "    .dataframe tbody tr th:only-of-type {\n",
              "        vertical-align: middle;\n",
              "    }\n",
              "\n",
              "    .dataframe tbody tr th {\n",
              "        vertical-align: top;\n",
              "    }\n",
              "\n",
              "    .dataframe thead th {\n",
              "        text-align: right;\n",
              "    }\n",
              "</style>\n",
              "<table border=\"1\" class=\"dataframe\">\n",
              "  <thead>\n",
              "    <tr style=\"text-align: right;\">\n",
              "      <th></th>\n",
              "      <th>Hotel_ID</th>\n",
              "      <th>Reservation_ID</th>\n",
              "      <th>Concept</th>\n",
              "      <th>Revenue_Date</th>\n",
              "      <th>Total</th>\n",
              "    </tr>\n",
              "  </thead>\n",
              "  <tbody>\n",
              "    <tr>\n",
              "      <th>0</th>\n",
              "      <td>AGR1</td>\n",
              "      <td>3750093</td>\n",
              "      <td>BREAKFAST</td>\n",
              "      <td>24.07.2018</td>\n",
              "      <td>472.0</td>\n",
              "    </tr>\n",
              "    <tr>\n",
              "      <th>1</th>\n",
              "      <td>AGR1</td>\n",
              "      <td>3750093</td>\n",
              "      <td>SERVCHRG</td>\n",
              "      <td>24.07.2018</td>\n",
              "      <td>141.6</td>\n",
              "    </tr>\n",
              "    <tr>\n",
              "      <th>2</th>\n",
              "      <td>AGR1</td>\n",
              "      <td>3750093</td>\n",
              "      <td>ALLOWFNB</td>\n",
              "      <td>26.07.2018</td>\n",
              "      <td>519.2</td>\n",
              "    </tr>\n",
              "    <tr>\n",
              "      <th>3</th>\n",
              "      <td>AGR1</td>\n",
              "      <td>3750102</td>\n",
              "      <td>BREAKFAST</td>\n",
              "      <td>24.07.2018</td>\n",
              "      <td>472.0</td>\n",
              "    </tr>\n",
              "    <tr>\n",
              "      <th>4</th>\n",
              "      <td>AGR1</td>\n",
              "      <td>3750102</td>\n",
              "      <td>SERVCHRG</td>\n",
              "      <td>24.07.2018</td>\n",
              "      <td>141.6</td>\n",
              "    </tr>\n",
              "  </tbody>\n",
              "</table>\n",
              "</div>"
            ],
            "text/plain": [
              "  Hotel_ID  Reservation_ID    Concept Revenue_Date  Total\n",
              "0     AGR1         3750093  BREAKFAST   24.07.2018  472.0\n",
              "1     AGR1         3750093   SERVCHRG   24.07.2018  141.6\n",
              "2     AGR1         3750093   ALLOWFNB   26.07.2018  519.2\n",
              "3     AGR1         3750102  BREAKFAST   24.07.2018  472.0\n",
              "4     AGR1         3750102   SERVCHRG   24.07.2018  141.6"
            ]
          },
          "metadata": {
            "tags": []
          },
          "execution_count": 10
        }
      ]
    },
    {
      "cell_type": "code",
      "metadata": {
        "colab": {
          "base_uri": "https://localhost:8080/"
        },
        "id": "8yRYwU_OhpWK",
        "outputId": "cd88151a-da07-49db-d9f0-0afe450079c7"
      },
      "source": [
        "# Again check the null values\r\n",
        "linfol_data.isna( ).mean().round(4) * 100"
      ],
      "execution_count": 137,
      "outputs": [
        {
          "output_type": "execute_result",
          "data": {
            "text/plain": [
              "Hotel_ID          0.0\n",
              "Reservation_ID    0.0\n",
              "Concept           0.0\n",
              "Revenue_Date      0.0\n",
              "Total             0.0\n",
              "dtype: float64"
            ]
          },
          "metadata": {
            "tags": []
          },
          "execution_count": 137
        }
      ]
    },
    {
      "cell_type": "markdown",
      "metadata": {
        "id": "bsFCkKndMs-X"
      },
      "source": [
        "### KNA1 - Customer Data"
      ]
    },
    {
      "cell_type": "code",
      "metadata": {
        "id": "TgVeEe3JpIzj"
      },
      "source": [
        "# KNA1 Data\n",
        "kna1_data = pd.DataFrame()\n",
        "\n",
        "# print(glob.glob(kna1_path))\n",
        "# Read the KNA1 data from all the available csv files\n",
        "for file in glob.glob(kna1_path):\n",
        "    data = pd.read_csv(file, parse_dates=True, encoding=\"latin1\",\n",
        "                       error_bad_lines=False, usecols = [0, 1, 2, 3, 4, 6, 12, 29] )\n",
        "    kna1_data = kna1_data.append(data)\n",
        "\n",
        "kna1_data.columns = [\"Cust_ID\", \"Country_ID\", \"Name\", \"Name2\", \"City\", \"Region\", \"Gender\", \"Company\"]"
      ],
      "execution_count": 20,
      "outputs": []
    },
    {
      "cell_type": "code",
      "metadata": {
        "colab": {
          "base_uri": "https://localhost:8080/"
        },
        "id": "r6wAuHA7igk2",
        "outputId": "4982d777-a1a9-4e04-fcbf-a469ce0d6b51"
      },
      "source": [
        "kna1_data.isna( ).mean().round(4) * 100"
      ],
      "execution_count": 42,
      "outputs": [
        {
          "output_type": "execute_result",
          "data": {
            "text/plain": [
              "Cust_ID       0.00\n",
              "Country_ID    0.00\n",
              "Name          0.04\n",
              "City          1.59\n",
              "Region        4.17\n",
              "Gender        0.00\n",
              "Company       0.00\n",
              "dtype: float64"
            ]
          },
          "metadata": {
            "tags": []
          },
          "execution_count": 42
        }
      ]
    },
    {
      "cell_type": "code",
      "metadata": {
        "colab": {
          "base_uri": "https://localhost:8080/",
          "height": 197
        },
        "id": "cVjRtb9XxPug",
        "outputId": "94d8f33a-f1e4-41e7-a9e4-65003e346185"
      },
      "source": [
        "# Convert Null to blank in Name2 and combine Name1 and Name2 fields to get full name. Drop Name2\r\n",
        "kna1_data[\"Name2\"].fillna( value = \" \", inplace = True)\r\n",
        "kna1_data[\"Name\"] = kna1_data[\"Name\"] + kna1_data[\"Name2\"]\r\n",
        "kna1_data.drop(columns=[\"Name2\"], axis = 1, inplace=True)"
      ],
      "execution_count": 21,
      "outputs": [
        {
          "output_type": "execute_result",
          "data": {
            "text/html": [
              "<div>\n",
              "<style scoped>\n",
              "    .dataframe tbody tr th:only-of-type {\n",
              "        vertical-align: middle;\n",
              "    }\n",
              "\n",
              "    .dataframe tbody tr th {\n",
              "        vertical-align: top;\n",
              "    }\n",
              "\n",
              "    .dataframe thead th {\n",
              "        text-align: right;\n",
              "    }\n",
              "</style>\n",
              "<table border=\"1\" class=\"dataframe\">\n",
              "  <thead>\n",
              "    <tr style=\"text-align: right;\">\n",
              "      <th></th>\n",
              "      <th>Cust_ID</th>\n",
              "      <th>Country_ID</th>\n",
              "      <th>Name</th>\n",
              "      <th>City</th>\n",
              "      <th>Region</th>\n",
              "      <th>Gender</th>\n",
              "      <th>Company</th>\n",
              "    </tr>\n",
              "  </thead>\n",
              "  <tbody>\n",
              "    <tr>\n",
              "      <th>0</th>\n",
              "      <td>1</td>\n",
              "      <td>IN</td>\n",
              "      <td>N.k Bhandari</td>\n",
              "      <td>Ahmedabad</td>\n",
              "      <td>13</td>\n",
              "      <td>NaN</td>\n",
              "      <td>NaN</td>\n",
              "    </tr>\n",
              "    <tr>\n",
              "      <th>1</th>\n",
              "      <td>2</td>\n",
              "      <td>IN</td>\n",
              "      <td>Sandip Laxman</td>\n",
              "      <td>Maharashtra</td>\n",
              "      <td>13</td>\n",
              "      <td>NaN</td>\n",
              "      <td>NaN</td>\n",
              "    </tr>\n",
              "    <tr>\n",
              "      <th>2</th>\n",
              "      <td>3</td>\n",
              "      <td>IN</td>\n",
              "      <td>Sushmita Choudhary</td>\n",
              "      <td>Jaipur</td>\n",
              "      <td>20</td>\n",
              "      <td>NaN</td>\n",
              "      <td>NaN</td>\n",
              "    </tr>\n",
              "    <tr>\n",
              "      <th>3</th>\n",
              "      <td>7</td>\n",
              "      <td>IN</td>\n",
              "      <td>RAJKUMAR SHAH</td>\n",
              "      <td>AHMEDABAD</td>\n",
              "      <td>6</td>\n",
              "      <td>Mr.</td>\n",
              "      <td>ROOTS CORPORATION LIMITED</td>\n",
              "    </tr>\n",
              "    <tr>\n",
              "      <th>4</th>\n",
              "      <td>8</td>\n",
              "      <td>IN</td>\n",
              "      <td>Vasanti Gokal</td>\n",
              "      <td>Mumbai</td>\n",
              "      <td>13</td>\n",
              "      <td>Ms.</td>\n",
              "      <td>TECHNOSALE</td>\n",
              "    </tr>\n",
              "  </tbody>\n",
              "</table>\n",
              "</div>"
            ],
            "text/plain": [
              "  Cust_ID Country_ID  ... Gender                    Company\n",
              "0       1         IN  ...    NaN                        NaN\n",
              "1       2         IN  ...    NaN                        NaN\n",
              "2       3         IN  ...    NaN                        NaN\n",
              "3       7         IN  ...    Mr.  ROOTS CORPORATION LIMITED\n",
              "4       8         IN  ...    Ms.                 TECHNOSALE\n",
              "\n",
              "[5 rows x 7 columns]"
            ]
          },
          "metadata": {
            "tags": []
          },
          "execution_count": 21
        }
      ]
    },
    {
      "cell_type": "code",
      "metadata": {
        "colab": {
          "base_uri": "https://localhost:8080/",
          "height": 197
        },
        "id": "8o7mlRHUjExh",
        "outputId": "f0df8cdf-281e-4f25-cfd1-b69e5e719257"
      },
      "source": [
        "# 99% Company values are null. Make them blank\r\n",
        "kna1_data[\"Company\"].fillna(value = \" \" , inplace = True )\r\n",
        "kna1_data.head()"
      ],
      "execution_count": 25,
      "outputs": [
        {
          "output_type": "execute_result",
          "data": {
            "text/html": [
              "<div>\n",
              "<style scoped>\n",
              "    .dataframe tbody tr th:only-of-type {\n",
              "        vertical-align: middle;\n",
              "    }\n",
              "\n",
              "    .dataframe tbody tr th {\n",
              "        vertical-align: top;\n",
              "    }\n",
              "\n",
              "    .dataframe thead th {\n",
              "        text-align: right;\n",
              "    }\n",
              "</style>\n",
              "<table border=\"1\" class=\"dataframe\">\n",
              "  <thead>\n",
              "    <tr style=\"text-align: right;\">\n",
              "      <th></th>\n",
              "      <th>Cust_ID</th>\n",
              "      <th>Country_ID</th>\n",
              "      <th>Name</th>\n",
              "      <th>City</th>\n",
              "      <th>Region</th>\n",
              "      <th>Gender</th>\n",
              "      <th>Company</th>\n",
              "    </tr>\n",
              "  </thead>\n",
              "  <tbody>\n",
              "    <tr>\n",
              "      <th>0</th>\n",
              "      <td>1</td>\n",
              "      <td>IN</td>\n",
              "      <td>N.k Bhandari</td>\n",
              "      <td>Ahmedabad</td>\n",
              "      <td>13</td>\n",
              "      <td>NaN</td>\n",
              "      <td></td>\n",
              "    </tr>\n",
              "    <tr>\n",
              "      <th>1</th>\n",
              "      <td>2</td>\n",
              "      <td>IN</td>\n",
              "      <td>Sandip Laxman</td>\n",
              "      <td>Maharashtra</td>\n",
              "      <td>13</td>\n",
              "      <td>NaN</td>\n",
              "      <td></td>\n",
              "    </tr>\n",
              "    <tr>\n",
              "      <th>2</th>\n",
              "      <td>3</td>\n",
              "      <td>IN</td>\n",
              "      <td>Sushmita Choudhary</td>\n",
              "      <td>Jaipur</td>\n",
              "      <td>20</td>\n",
              "      <td>NaN</td>\n",
              "      <td></td>\n",
              "    </tr>\n",
              "    <tr>\n",
              "      <th>3</th>\n",
              "      <td>7</td>\n",
              "      <td>IN</td>\n",
              "      <td>RAJKUMAR SHAH</td>\n",
              "      <td>AHMEDABAD</td>\n",
              "      <td>6</td>\n",
              "      <td>Mr.</td>\n",
              "      <td>ROOTS CORPORATION LIMITED</td>\n",
              "    </tr>\n",
              "    <tr>\n",
              "      <th>4</th>\n",
              "      <td>8</td>\n",
              "      <td>IN</td>\n",
              "      <td>Vasanti Gokal</td>\n",
              "      <td>Mumbai</td>\n",
              "      <td>13</td>\n",
              "      <td>Ms.</td>\n",
              "      <td>TECHNOSALE</td>\n",
              "    </tr>\n",
              "  </tbody>\n",
              "</table>\n",
              "</div>"
            ],
            "text/plain": [
              "  Cust_ID Country_ID  ... Gender                    Company\n",
              "0       1         IN  ...    NaN                           \n",
              "1       2         IN  ...    NaN                           \n",
              "2       3         IN  ...    NaN                           \n",
              "3       7         IN  ...    Mr.  ROOTS CORPORATION LIMITED\n",
              "4       8         IN  ...    Ms.                 TECHNOSALE\n",
              "\n",
              "[5 rows x 7 columns]"
            ]
          },
          "metadata": {
            "tags": []
          },
          "execution_count": 25
        }
      ]
    },
    {
      "cell_type": "code",
      "metadata": {
        "colab": {
          "base_uri": "https://localhost:8080/"
        },
        "id": "VFLuBZewjz79",
        "outputId": "949e7ac6-f5af-4c96-9b63-3631576cc866"
      },
      "source": [
        "# Determine the Percentage of Males\r\n",
        "kna1_data[kna1_data[\"Gender\"] == \"Mr.\"][\"Gender\"].count( )/(len(kna1_data[\"Gender\"]))  * 100"
      ],
      "execution_count": 43,
      "outputs": [
        {
          "output_type": "execute_result",
          "data": {
            "text/plain": [
              "82.03851140323421"
            ]
          },
          "metadata": {
            "tags": []
          },
          "execution_count": 43
        }
      ]
    },
    {
      "cell_type": "code",
      "metadata": {
        "colab": {
          "base_uri": "https://localhost:8080/"
        },
        "id": "1HP6fVPnluxE",
        "outputId": "ec32aff9-d8be-4c5a-f72f-93575abdc9ca"
      },
      "source": [
        "# Determine the  Percentage of Females\r\n",
        "kna1_data[kna1_data[\"Gender\"] == \"Ms.\"][\"Gender\"].count( )/(len(kna1_data[\"Gender\"]))  * 100"
      ],
      "execution_count": 44,
      "outputs": [
        {
          "output_type": "execute_result",
          "data": {
            "text/plain": [
              "17.460668543425307"
            ]
          },
          "metadata": {
            "tags": []
          },
          "execution_count": 44
        }
      ]
    },
    {
      "cell_type": "code",
      "metadata": {
        "id": "-wLcytcqmJ-C"
      },
      "source": [
        "# For now consider all null values as Males\r\n",
        "kna1_data[\"Gender\"].fillna(value = \"Mr.\", inplace = True )"
      ],
      "execution_count": 45,
      "outputs": []
    },
    {
      "cell_type": "code",
      "metadata": {
        "colab": {
          "base_uri": "https://localhost:8080/"
        },
        "id": "FmES9jTEmlxT",
        "outputId": "31098cdc-eeee-4c92-a165-dd05c33ab874"
      },
      "source": [
        "# Count the number of unmarried females (Ms.)\r\n",
        "kna1_data[(kna1_data[\"Gender\"] != \"Mr.\") & (kna1_data[\"Gender\"] != \"Mrs.\") ][\"Gender\"].count( )"
      ],
      "execution_count": 49,
      "outputs": [
        {
          "output_type": "execute_result",
          "data": {
            "text/plain": [
              "181903"
            ]
          },
          "metadata": {
            "tags": []
          },
          "execution_count": 49
        }
      ]
    },
    {
      "cell_type": "markdown",
      "metadata": {
        "id": "IZjIny7ON-zL"
      },
      "source": [
        "### HUERES - Guest/Reservation ID Combination Data "
      ]
    },
    {
      "cell_type": "code",
      "metadata": {
        "colab": {
          "base_uri": "https://localhost:8080/",
          "height": 235
        },
        "id": "B-BqLzuIxSJ5",
        "outputId": "d17cf985-ca6f-476a-d0ed-679728e70d41"
      },
      "source": [
        "# HUERES Data\r\n",
        "hueres_data = pd.DataFrame()\r\n",
        "\r\n",
        "# print(glob.glob(hueres_path))\r\n",
        "# Read the HUERES data from all the available csv files\r\n",
        "for file in glob.glob(hueres_path):\r\n",
        "    data = pd.read_csv(file, parse_dates=True, encoding=\"latin1\",\r\n",
        "                       error_bad_lines=False, usecols = [0, 1, 2, 3] )\r\n",
        "    hueres_data = hueres_data.append(data)\r\n",
        "\r\n",
        "hueres_data.columns = [\"Hotel_ID\", \"Reservation_ID\", \"Pers_Pos\", \"Guest_ID\"]\r\n",
        "hueres_data.head()"
      ],
      "execution_count": 52,
      "outputs": [
        {
          "output_type": "stream",
          "text": [
            "['/content/drive/MyDrive/AAG DS Folder/Capstone/input/HUERES/Copy of Hueres 1st Feb to 28th Feb 2019.csv', '/content/drive/MyDrive/AAG DS Folder/Capstone/input/HUERES/Copy of Hueres 1st Aug to 31st Aug 2017.csv', '/content/drive/MyDrive/AAG DS Folder/Capstone/input/HUERES/Copy of Hueres 1st Aug to 31st Aug 2018.csv', '/content/drive/MyDrive/AAG DS Folder/Capstone/input/HUERES/Copy of Hueres 1st Feb to 28th Feb 2018.csv', '/content/drive/MyDrive/AAG DS Folder/Capstone/input/HUERES/Copy of Hueres 1st Jan to 31st Jan 2019.csv', '/content/drive/MyDrive/AAG DS Folder/Capstone/input/HUERES/Copy of Hueres 1st Apr to 30th Apr 2018.csv', '/content/drive/MyDrive/AAG DS Folder/Capstone/input/HUERES/Copy of Hueres 1st Apr to 30th Apr 2019.csv', '/content/drive/MyDrive/AAG DS Folder/Capstone/input/HUERES/Copy of Hueres 1st Dec to 3st Dec 2018.csv', '/content/drive/MyDrive/AAG DS Folder/Capstone/input/HUERES/Copy of Hueres 1st Dec to 31st Dec 2017.csv', '/content/drive/MyDrive/AAG DS Folder/Capstone/input/HUERES/Copy of Hueres 1st Jan to 31st Jan 2018.csv', '/content/drive/MyDrive/AAG DS Folder/Capstone/input/HUERES/Copy of Hueres 1st Nov to 30th Nov 2018.csv', '/content/drive/MyDrive/AAG DS Folder/Capstone/input/HUERES/Copy of Hueres 1st May to 31st May 2018.csv', '/content/drive/MyDrive/AAG DS Folder/Capstone/input/HUERES/Copy of Hueres 1st June to 30th June 2018.csv', '/content/drive/MyDrive/AAG DS Folder/Capstone/input/HUERES/Copy of Hueres 1st July to 31st July 2018.csv', '/content/drive/MyDrive/AAG DS Folder/Capstone/input/HUERES/Copy of Hueres 1st March to 31st March 2018.csv', '/content/drive/MyDrive/AAG DS Folder/Capstone/input/HUERES/Copy of Hueres 1st May to 31st May 2017.csv', '/content/drive/MyDrive/AAG DS Folder/Capstone/input/HUERES/Copy of Hueres 1st March to 31st March 2019.csv', '/content/drive/MyDrive/AAG DS Folder/Capstone/input/HUERES/Copy of Hueres 1st July to 31st July 2017.csv', '/content/drive/MyDrive/AAG DS Folder/Capstone/input/HUERES/Copy of Hueres 1st June to 30th June 2017.csv', '/content/drive/MyDrive/AAG DS Folder/Capstone/input/HUERES/Copy of Hueres 1st Nov to 30th Nov 2017.csv', '/content/drive/MyDrive/AAG DS Folder/Capstone/input/HUERES/Copy of Hueres 1st Sept to 30st Sept 2017.csv', '/content/drive/MyDrive/AAG DS Folder/Capstone/input/HUERES/Copy of Hueres 1st Oct to 31st Oct 2017.csv', '/content/drive/MyDrive/AAG DS Folder/Capstone/input/HUERES/Copy of Hueres 1st Sept to 30th Sept 2018.csv', '/content/drive/MyDrive/AAG DS Folder/Capstone/input/HUERES/Copy of Hueres 1st Oct to 31st Oct 2018.csv']\n"
          ],
          "name": "stdout"
        },
        {
          "output_type": "execute_result",
          "data": {
            "text/html": [
              "<div>\n",
              "<style scoped>\n",
              "    .dataframe tbody tr th:only-of-type {\n",
              "        vertical-align: middle;\n",
              "    }\n",
              "\n",
              "    .dataframe tbody tr th {\n",
              "        vertical-align: top;\n",
              "    }\n",
              "\n",
              "    .dataframe thead th {\n",
              "        text-align: right;\n",
              "    }\n",
              "</style>\n",
              "<table border=\"1\" class=\"dataframe\">\n",
              "  <thead>\n",
              "    <tr style=\"text-align: right;\">\n",
              "      <th></th>\n",
              "      <th>Hotel_ID</th>\n",
              "      <th>Reservation_ID</th>\n",
              "      <th>Pers_pos</th>\n",
              "      <th>Guest_ID</th>\n",
              "    </tr>\n",
              "  </thead>\n",
              "  <tbody>\n",
              "    <tr>\n",
              "      <th>0</th>\n",
              "      <td>LKO2</td>\n",
              "      <td>3338617</td>\n",
              "      <td>1</td>\n",
              "      <td>NaN</td>\n",
              "    </tr>\n",
              "    <tr>\n",
              "      <th>1</th>\n",
              "      <td>LKO2</td>\n",
              "      <td>3338617</td>\n",
              "      <td>2</td>\n",
              "      <td>NaN</td>\n",
              "    </tr>\n",
              "    <tr>\n",
              "      <th>2</th>\n",
              "      <td>LKO2</td>\n",
              "      <td>3338620</td>\n",
              "      <td>1</td>\n",
              "      <td>NaN</td>\n",
              "    </tr>\n",
              "    <tr>\n",
              "      <th>3</th>\n",
              "      <td>LKO2</td>\n",
              "      <td>3338620</td>\n",
              "      <td>2</td>\n",
              "      <td>NaN</td>\n",
              "    </tr>\n",
              "    <tr>\n",
              "      <th>4</th>\n",
              "      <td>LKO2</td>\n",
              "      <td>3338621</td>\n",
              "      <td>1</td>\n",
              "      <td>NaN</td>\n",
              "    </tr>\n",
              "  </tbody>\n",
              "</table>\n",
              "</div>"
            ],
            "text/plain": [
              "  Hotel_ID  Reservation_ID  Pers_pos  Guest_ID\n",
              "0     LKO2         3338617         1       NaN\n",
              "1     LKO2         3338617         2       NaN\n",
              "2     LKO2         3338620         1       NaN\n",
              "3     LKO2         3338620         2       NaN\n",
              "4     LKO2         3338621         1       NaN"
            ]
          },
          "metadata": {
            "tags": []
          },
          "execution_count": 52
        }
      ]
    },
    {
      "cell_type": "code",
      "metadata": {
        "colab": {
          "base_uri": "https://localhost:8080/"
        },
        "id": "CcB79gLknIX1",
        "outputId": "bda699f2-932b-443f-902d-ec6bdf7225e6"
      },
      "source": [
        "# Find the percentage of Nulls in each column\r\n",
        "hueres_data.isna( ).mean().round(4) * 100"
      ],
      "execution_count": 53,
      "outputs": [
        {
          "output_type": "execute_result",
          "data": {
            "text/plain": [
              "Hotel_ID           0.00\n",
              "Reservation_ID     0.00\n",
              "Pers_pos           0.00\n",
              "Guest_ID          14.03\n",
              "dtype: float64"
            ]
          },
          "metadata": {
            "tags": []
          },
          "execution_count": 53
        }
      ]
    },
    {
      "cell_type": "code",
      "metadata": {
        "colab": {
          "base_uri": "https://localhost:8080/",
          "height": 197
        },
        "collapsed": true,
        "id": "k1RXEb6029PV",
        "outputId": "9f0b6a53-d8c8-4530-87e5-d2433a38bbc1"
      },
      "source": [
        "# Make Null Guest ID blank and convert it into integer\r\n",
        "hueres_data[\"Guest_ID\"].fillna( value = 0, inplace = True)\r\n",
        "hueres_data[\"Guest_ID\"] = hueres_data[\"Guest_ID\"].astype(int)\r\n",
        "hueres_data.head()"
      ],
      "execution_count": 54,
      "outputs": [
        {
          "output_type": "execute_result",
          "data": {
            "text/html": [
              "<div>\n",
              "<style scoped>\n",
              "    .dataframe tbody tr th:only-of-type {\n",
              "        vertical-align: middle;\n",
              "    }\n",
              "\n",
              "    .dataframe tbody tr th {\n",
              "        vertical-align: top;\n",
              "    }\n",
              "\n",
              "    .dataframe thead th {\n",
              "        text-align: right;\n",
              "    }\n",
              "</style>\n",
              "<table border=\"1\" class=\"dataframe\">\n",
              "  <thead>\n",
              "    <tr style=\"text-align: right;\">\n",
              "      <th></th>\n",
              "      <th>Hotel_ID</th>\n",
              "      <th>Reservation_ID</th>\n",
              "      <th>Pers_pos</th>\n",
              "      <th>Guest_ID</th>\n",
              "    </tr>\n",
              "  </thead>\n",
              "  <tbody>\n",
              "    <tr>\n",
              "      <th>0</th>\n",
              "      <td>LKO2</td>\n",
              "      <td>3338617</td>\n",
              "      <td>1</td>\n",
              "      <td>0</td>\n",
              "    </tr>\n",
              "    <tr>\n",
              "      <th>1</th>\n",
              "      <td>LKO2</td>\n",
              "      <td>3338617</td>\n",
              "      <td>2</td>\n",
              "      <td>0</td>\n",
              "    </tr>\n",
              "    <tr>\n",
              "      <th>2</th>\n",
              "      <td>LKO2</td>\n",
              "      <td>3338620</td>\n",
              "      <td>1</td>\n",
              "      <td>0</td>\n",
              "    </tr>\n",
              "    <tr>\n",
              "      <th>3</th>\n",
              "      <td>LKO2</td>\n",
              "      <td>3338620</td>\n",
              "      <td>2</td>\n",
              "      <td>0</td>\n",
              "    </tr>\n",
              "    <tr>\n",
              "      <th>4</th>\n",
              "      <td>LKO2</td>\n",
              "      <td>3338621</td>\n",
              "      <td>1</td>\n",
              "      <td>0</td>\n",
              "    </tr>\n",
              "  </tbody>\n",
              "</table>\n",
              "</div>"
            ],
            "text/plain": [
              "  Hotel_ID  Reservation_ID  Pers_pos  Guest_ID\n",
              "0     LKO2         3338617         1         0\n",
              "1     LKO2         3338617         2         0\n",
              "2     LKO2         3338620         1         0\n",
              "3     LKO2         3338620         2         0\n",
              "4     LKO2         3338621         1         0"
            ]
          },
          "metadata": {
            "tags": []
          },
          "execution_count": 54
        }
      ]
    },
    {
      "cell_type": "markdown",
      "metadata": {
        "id": "QuNPZJfVOOVc"
      },
      "source": [
        "### RSRVS - Reservation Data"
      ]
    },
    {
      "cell_type": "code",
      "metadata": {
        "colab": {
          "base_uri": "https://localhost:8080/",
          "height": 217
        },
        "id": "XadhGK6fzhi7",
        "outputId": "34460452-b646-4a78-fb40-9641b1243d24"
      },
      "source": [
        "# RSRVS Data\r\n",
        "rsrvs_data = pd.DataFrame()\r\n",
        "\r\n",
        "# print(glob.glob(rsrvs_path))\r\n",
        "# Read the RSRVS data from all the available csv files\r\n",
        "for file in glob.glob(rsrvs_path):\r\n",
        "    data = pd.read_csv(file, parse_dates=True, encoding=\"latin1\",\r\n",
        "                       error_bad_lines=False, usecols = [0, 1, 2, 3, 4, 7, 12, 13, 16, 18, 24, 25, 26] )\r\n",
        "    rsrvs_data = rsrvs_data.append(data)\r\n",
        "\r\n",
        "rsrvs_data.columns = [\"Hotel_ID\", \"Reservation_ID\", \"Main_Cust_ID\",  \"Checkin_Date\", \"Checkout_Date\", \"PAX\", \"Room_Type\", \"Upg_or_Real\", \"Reservation_Status\", \"Board_ID\", \"Cancel_Date\", \"Cancel_Rsn_ID\", \"Reg_Date\"]\r\n",
        "rsrvs_data.head()"
      ],
      "execution_count": 16,
      "outputs": [
        {
          "output_type": "execute_result",
          "data": {
            "text/html": [
              "<div>\n",
              "<style scoped>\n",
              "    .dataframe tbody tr th:only-of-type {\n",
              "        vertical-align: middle;\n",
              "    }\n",
              "\n",
              "    .dataframe tbody tr th {\n",
              "        vertical-align: top;\n",
              "    }\n",
              "\n",
              "    .dataframe thead th {\n",
              "        text-align: right;\n",
              "    }\n",
              "</style>\n",
              "<table border=\"1\" class=\"dataframe\">\n",
              "  <thead>\n",
              "    <tr style=\"text-align: right;\">\n",
              "      <th></th>\n",
              "      <th>Hotel_ID</th>\n",
              "      <th>Reservation_ID</th>\n",
              "      <th>Main_Cust_ID</th>\n",
              "      <th>Checkin_Date</th>\n",
              "      <th>Checkout_Date</th>\n",
              "      <th>PAX</th>\n",
              "      <th>Room_Type</th>\n",
              "      <th>Upg_or_Real</th>\n",
              "      <th>Reservation_Status</th>\n",
              "      <th>Board_ID</th>\n",
              "      <th>Cancel_Date</th>\n",
              "      <th>Cancel_Rsn_ID</th>\n",
              "      <th>Reg_Date</th>\n",
              "    </tr>\n",
              "  </thead>\n",
              "  <tbody>\n",
              "    <tr>\n",
              "      <th>0</th>\n",
              "      <td>AGR1</td>\n",
              "      <td>3681294</td>\n",
              "      <td>90003186.0</td>\n",
              "      <td>16.02.2019</td>\n",
              "      <td>17.02.2019</td>\n",
              "      <td>2</td>\n",
              "      <td>DBL</td>\n",
              "      <td>NaN</td>\n",
              "      <td>6</td>\n",
              "      <td>ONLYROOM</td>\n",
              "      <td>23.01.2019</td>\n",
              "      <td>1</td>\n",
              "      <td>05.06.2018</td>\n",
              "    </tr>\n",
              "    <tr>\n",
              "      <th>1</th>\n",
              "      <td>AGR1</td>\n",
              "      <td>3681296</td>\n",
              "      <td>90003186.0</td>\n",
              "      <td>16.02.2019</td>\n",
              "      <td>17.02.2019</td>\n",
              "      <td>2</td>\n",
              "      <td>DBL</td>\n",
              "      <td>NaN</td>\n",
              "      <td>6</td>\n",
              "      <td>ONLYROOM</td>\n",
              "      <td>23.01.2019</td>\n",
              "      <td>1</td>\n",
              "      <td>05.06.2018</td>\n",
              "    </tr>\n",
              "    <tr>\n",
              "      <th>2</th>\n",
              "      <td>AGR1</td>\n",
              "      <td>3681298</td>\n",
              "      <td>90003186.0</td>\n",
              "      <td>16.02.2019</td>\n",
              "      <td>17.02.2019</td>\n",
              "      <td>2</td>\n",
              "      <td>DBL</td>\n",
              "      <td>NaN</td>\n",
              "      <td>6</td>\n",
              "      <td>ONLYROOM</td>\n",
              "      <td>23.01.2019</td>\n",
              "      <td>1</td>\n",
              "      <td>05.06.2018</td>\n",
              "    </tr>\n",
              "    <tr>\n",
              "      <th>3</th>\n",
              "      <td>AGR1</td>\n",
              "      <td>3681299</td>\n",
              "      <td>90003186.0</td>\n",
              "      <td>16.02.2019</td>\n",
              "      <td>17.02.2019</td>\n",
              "      <td>2</td>\n",
              "      <td>DBL</td>\n",
              "      <td>NaN</td>\n",
              "      <td>6</td>\n",
              "      <td>ONLYROOM</td>\n",
              "      <td>23.01.2019</td>\n",
              "      <td>1</td>\n",
              "      <td>05.06.2018</td>\n",
              "    </tr>\n",
              "    <tr>\n",
              "      <th>4</th>\n",
              "      <td>AGR1</td>\n",
              "      <td>3681300</td>\n",
              "      <td>90003186.0</td>\n",
              "      <td>16.02.2019</td>\n",
              "      <td>17.02.2019</td>\n",
              "      <td>2</td>\n",
              "      <td>DBL</td>\n",
              "      <td>NaN</td>\n",
              "      <td>6</td>\n",
              "      <td>ONLYROOM</td>\n",
              "      <td>23.01.2019</td>\n",
              "      <td>1</td>\n",
              "      <td>05.06.2018</td>\n",
              "    </tr>\n",
              "  </tbody>\n",
              "</table>\n",
              "</div>"
            ],
            "text/plain": [
              "  Hotel_ID  Reservation_ID  Main_Cust_ID  ... Cancel_Date Cancel_Rsn_ID    Reg_Date\n",
              "0     AGR1         3681294    90003186.0  ...  23.01.2019             1  05.06.2018\n",
              "1     AGR1         3681296    90003186.0  ...  23.01.2019             1  05.06.2018\n",
              "2     AGR1         3681298    90003186.0  ...  23.01.2019             1  05.06.2018\n",
              "3     AGR1         3681299    90003186.0  ...  23.01.2019             1  05.06.2018\n",
              "4     AGR1         3681300    90003186.0  ...  23.01.2019             1  05.06.2018\n",
              "\n",
              "[5 rows x 13 columns]"
            ]
          },
          "metadata": {
            "tags": []
          },
          "execution_count": 16
        }
      ]
    },
    {
      "cell_type": "code",
      "metadata": {
        "colab": {
          "base_uri": "https://localhost:8080/",
          "height": 217
        },
        "id": "MLo2aCQl39UO",
        "outputId": "7dbed006-e22b-4f41-dc07-c64c004d78b9"
      },
      "source": [
        "# Convert Null Main Customer ID to blank and convert it to integer. \r\n",
        "rsrvs_data[\"Main_Cust_ID\"].fillna(value = 0, inplace = True)\r\n",
        "rsrvs_data[\"Main_Cust_ID\"] = rsrvs_data[\"Main_Cust_ID\"].astype(int)\r\n",
        "rsrvs_data.head()"
      ],
      "execution_count": 17,
      "outputs": [
        {
          "output_type": "execute_result",
          "data": {
            "text/html": [
              "<div>\n",
              "<style scoped>\n",
              "    .dataframe tbody tr th:only-of-type {\n",
              "        vertical-align: middle;\n",
              "    }\n",
              "\n",
              "    .dataframe tbody tr th {\n",
              "        vertical-align: top;\n",
              "    }\n",
              "\n",
              "    .dataframe thead th {\n",
              "        text-align: right;\n",
              "    }\n",
              "</style>\n",
              "<table border=\"1\" class=\"dataframe\">\n",
              "  <thead>\n",
              "    <tr style=\"text-align: right;\">\n",
              "      <th></th>\n",
              "      <th>Hotel_ID</th>\n",
              "      <th>Reservation_ID</th>\n",
              "      <th>Main_Cust_ID</th>\n",
              "      <th>Checkin_Date</th>\n",
              "      <th>Checkout_Date</th>\n",
              "      <th>PAX</th>\n",
              "      <th>Room_Type</th>\n",
              "      <th>Upg_or_Real</th>\n",
              "      <th>Reservation_Status</th>\n",
              "      <th>Board_ID</th>\n",
              "      <th>Cancel_Date</th>\n",
              "      <th>Cancel_Rsn_ID</th>\n",
              "      <th>Reg_Date</th>\n",
              "    </tr>\n",
              "  </thead>\n",
              "  <tbody>\n",
              "    <tr>\n",
              "      <th>0</th>\n",
              "      <td>AGR1</td>\n",
              "      <td>3681294</td>\n",
              "      <td>90003186</td>\n",
              "      <td>16.02.2019</td>\n",
              "      <td>17.02.2019</td>\n",
              "      <td>2</td>\n",
              "      <td>DBL</td>\n",
              "      <td>NaN</td>\n",
              "      <td>6</td>\n",
              "      <td>ONLYROOM</td>\n",
              "      <td>23.01.2019</td>\n",
              "      <td>1</td>\n",
              "      <td>05.06.2018</td>\n",
              "    </tr>\n",
              "    <tr>\n",
              "      <th>1</th>\n",
              "      <td>AGR1</td>\n",
              "      <td>3681296</td>\n",
              "      <td>90003186</td>\n",
              "      <td>16.02.2019</td>\n",
              "      <td>17.02.2019</td>\n",
              "      <td>2</td>\n",
              "      <td>DBL</td>\n",
              "      <td>NaN</td>\n",
              "      <td>6</td>\n",
              "      <td>ONLYROOM</td>\n",
              "      <td>23.01.2019</td>\n",
              "      <td>1</td>\n",
              "      <td>05.06.2018</td>\n",
              "    </tr>\n",
              "    <tr>\n",
              "      <th>2</th>\n",
              "      <td>AGR1</td>\n",
              "      <td>3681298</td>\n",
              "      <td>90003186</td>\n",
              "      <td>16.02.2019</td>\n",
              "      <td>17.02.2019</td>\n",
              "      <td>2</td>\n",
              "      <td>DBL</td>\n",
              "      <td>NaN</td>\n",
              "      <td>6</td>\n",
              "      <td>ONLYROOM</td>\n",
              "      <td>23.01.2019</td>\n",
              "      <td>1</td>\n",
              "      <td>05.06.2018</td>\n",
              "    </tr>\n",
              "    <tr>\n",
              "      <th>3</th>\n",
              "      <td>AGR1</td>\n",
              "      <td>3681299</td>\n",
              "      <td>90003186</td>\n",
              "      <td>16.02.2019</td>\n",
              "      <td>17.02.2019</td>\n",
              "      <td>2</td>\n",
              "      <td>DBL</td>\n",
              "      <td>NaN</td>\n",
              "      <td>6</td>\n",
              "      <td>ONLYROOM</td>\n",
              "      <td>23.01.2019</td>\n",
              "      <td>1</td>\n",
              "      <td>05.06.2018</td>\n",
              "    </tr>\n",
              "    <tr>\n",
              "      <th>4</th>\n",
              "      <td>AGR1</td>\n",
              "      <td>3681300</td>\n",
              "      <td>90003186</td>\n",
              "      <td>16.02.2019</td>\n",
              "      <td>17.02.2019</td>\n",
              "      <td>2</td>\n",
              "      <td>DBL</td>\n",
              "      <td>NaN</td>\n",
              "      <td>6</td>\n",
              "      <td>ONLYROOM</td>\n",
              "      <td>23.01.2019</td>\n",
              "      <td>1</td>\n",
              "      <td>05.06.2018</td>\n",
              "    </tr>\n",
              "  </tbody>\n",
              "</table>\n",
              "</div>"
            ],
            "text/plain": [
              "  Hotel_ID  Reservation_ID  Main_Cust_ID  ... Cancel_Date Cancel_Rsn_ID    Reg_Date\n",
              "0     AGR1         3681294      90003186  ...  23.01.2019             1  05.06.2018\n",
              "1     AGR1         3681296      90003186  ...  23.01.2019             1  05.06.2018\n",
              "2     AGR1         3681298      90003186  ...  23.01.2019             1  05.06.2018\n",
              "3     AGR1         3681299      90003186  ...  23.01.2019             1  05.06.2018\n",
              "4     AGR1         3681300      90003186  ...  23.01.2019             1  05.06.2018\n",
              "\n",
              "[5 rows x 13 columns]"
            ]
          },
          "metadata": {
            "tags": []
          },
          "execution_count": 17
        }
      ]
    },
    {
      "cell_type": "code",
      "metadata": {
        "colab": {
          "base_uri": "https://localhost:8080/"
        },
        "id": "KjEU5TNV4PF1",
        "outputId": "70f86b4a-0f79-4ca1-f267-622336d8e709"
      },
      "source": [
        "# Find the percentage of Nulls in each column\r\n",
        "rsrvs_data.isna( ).mean().round(4) * 100"
      ],
      "execution_count": 64,
      "outputs": [
        {
          "output_type": "execute_result",
          "data": {
            "text/plain": [
              "Hotel_ID              0.00\n",
              "Reservation_ID        0.00\n",
              "Main_Cust_ID          0.00\n",
              "Checkin_Date          0.00\n",
              "Checkout_Date         0.00\n",
              "PAX                   0.00\n",
              "Room_Type             0.50\n",
              "Upg_or_Real           0.00\n",
              "Reservation_Status    0.00\n",
              "Board_ID              0.49\n",
              "Cancel_Date           0.00\n",
              "Cancel_Rsn_ID         0.00\n",
              "Reg_Date              0.00\n",
              "dtype: float64"
            ]
          },
          "metadata": {
            "tags": []
          },
          "execution_count": 64
        }
      ]
    },
    {
      "cell_type": "code",
      "metadata": {
        "id": "4K-ZQLfdncgV"
      },
      "source": [
        "# This doesn't give error but not working either!\r\n",
        "# rsrvs_data[[\"Upg_or_Real\", \"Cancel_Rsn_ID\"]].fillna(value = \" \", inplace = True )\r\n",
        "\r\n",
        "rsrvs_data[\"Upg_or_Real\"].fillna(value = \" \", inplace = True )\r\n",
        "rsrvs_data[\"Cancel_Rsn_ID\"].fillna(value = \" \", inplace = True )"
      ],
      "execution_count": 63,
      "outputs": []
    },
    {
      "cell_type": "code",
      "metadata": {
        "colab": {
          "base_uri": "https://localhost:8080/"
        },
        "id": "h9QmCELWoG3T",
        "outputId": "d3d9620b-179c-45fe-a98e-f0b6157a1c8f"
      },
      "source": [
        "\r\n",
        "rsrvs_data[rsrvs_data[\"Room_Type\"].isna( )][\"Room_Type\"]"
      ],
      "execution_count": 66,
      "outputs": [
        {
          "output_type": "execute_result",
          "data": {
            "text/plain": [
              "2751      NaN\n",
              "2864      NaN\n",
              "29481     NaN\n",
              "30904     NaN\n",
              "30997     NaN\n",
              "         ... \n",
              "241290    NaN\n",
              "241730    NaN\n",
              "241731    NaN\n",
              "241814    NaN\n",
              "241855    NaN\n",
              "Name: Room_Type, Length: 5357, dtype: object"
            ]
          },
          "metadata": {
            "tags": []
          },
          "execution_count": 66
        }
      ]
    },
    {
      "cell_type": "code",
      "metadata": {
        "colab": {
          "base_uri": "https://localhost:8080/"
        },
        "id": "N4Ejdplloy6n",
        "outputId": "6d1aa20a-6b50-46a1-9ff1-701a15f6f7a4"
      },
      "source": [
        "rsrvs_data[rsrvs_data[\"Board_ID\"].isna( )][\"Board_ID\"].shape"
      ],
      "execution_count": 71,
      "outputs": [
        {
          "output_type": "execute_result",
          "data": {
            "text/plain": [
              "(5260,)"
            ]
          },
          "metadata": {
            "tags": []
          },
          "execution_count": 71
        }
      ]
    },
    {
      "cell_type": "code",
      "metadata": {
        "colab": {
          "base_uri": "https://localhost:8080/"
        },
        "id": "2U9MMw-JpBA0",
        "outputId": "453efcc5-8e7e-4282-8fd3-11610e939cb2"
      },
      "source": [
        "print(f\"Reservation Count : {rsrvs_data.shape } , Hueres Data Count : { hueres_data.shape }\" )\r\n",
        "guest_data = pd.merge(rsrvs_data,hueres_data, on=[\"Hotel_ID\", \"Reservation_ID\"])"
      ],
      "execution_count": 74,
      "outputs": [
        {
          "output_type": "stream",
          "text": [
            "Reservation Count : (1063191, 13) , Hueres Data Count : (1579448, 4)\n"
          ],
          "name": "stdout"
        }
      ]
    },
    {
      "cell_type": "markdown",
      "metadata": {
        "id": "K6xQ0GVZqZ6S"
      },
      "source": [
        "## Start of Analysis"
      ]
    },
    {
      "cell_type": "markdown",
      "metadata": {
        "id": "9pggurYmqVQO"
      },
      "source": [
        "### Analysis 1 : Total number of stays (visits)"
      ]
    },
    {
      "cell_type": "code",
      "metadata": {
        "colab": {
          "base_uri": "https://localhost:8080/",
          "height": 456
        },
        "id": "5O4uK7dHrdV5",
        "outputId": "cf167579-ed4c-4b87-b39a-26f979a1fcc0"
      },
      "source": [
        "# Count the number of reservations per guest\r\n",
        "guest_data.groupby(\"Guest_ID\").count( )[\"Reservation_ID\"].sort_values(ascending = False )"
      ],
      "execution_count": 81,
      "outputs": [
        {
          "output_type": "execute_result",
          "data": {
            "text/html": [
              "<div>\n",
              "<style scoped>\n",
              "    .dataframe tbody tr th:only-of-type {\n",
              "        vertical-align: middle;\n",
              "    }\n",
              "\n",
              "    .dataframe tbody tr th {\n",
              "        vertical-align: top;\n",
              "    }\n",
              "\n",
              "    .dataframe thead th {\n",
              "        text-align: right;\n",
              "    }\n",
              "</style>\n",
              "<table border=\"1\" class=\"dataframe\">\n",
              "  <thead>\n",
              "    <tr style=\"text-align: right;\">\n",
              "      <th></th>\n",
              "      <th>Hotel_ID</th>\n",
              "      <th>Reservation_ID</th>\n",
              "      <th>Main_Cust_ID</th>\n",
              "      <th>Checkin_Date</th>\n",
              "      <th>Checkout_Date</th>\n",
              "      <th>PAX</th>\n",
              "      <th>Room_Type</th>\n",
              "      <th>Upg_or_Real</th>\n",
              "      <th>Reservation_Status</th>\n",
              "      <th>Board_ID</th>\n",
              "      <th>Cancel_Date</th>\n",
              "      <th>Cancel_Rsn_ID</th>\n",
              "      <th>Reg_Date</th>\n",
              "      <th>Pers_pos</th>\n",
              "    </tr>\n",
              "    <tr>\n",
              "      <th>Guest_ID</th>\n",
              "      <th></th>\n",
              "      <th></th>\n",
              "      <th></th>\n",
              "      <th></th>\n",
              "      <th></th>\n",
              "      <th></th>\n",
              "      <th></th>\n",
              "      <th></th>\n",
              "      <th></th>\n",
              "      <th></th>\n",
              "      <th></th>\n",
              "      <th></th>\n",
              "      <th></th>\n",
              "      <th></th>\n",
              "    </tr>\n",
              "  </thead>\n",
              "  <tbody>\n",
              "    <tr>\n",
              "      <th>0</th>\n",
              "      <td>221599</td>\n",
              "      <td>221599</td>\n",
              "      <td>221599</td>\n",
              "      <td>221599</td>\n",
              "      <td>221599</td>\n",
              "      <td>221599</td>\n",
              "      <td>221427</td>\n",
              "      <td>221599</td>\n",
              "      <td>221599</td>\n",
              "      <td>221599</td>\n",
              "      <td>221599</td>\n",
              "      <td>221599</td>\n",
              "      <td>221599</td>\n",
              "      <td>221599</td>\n",
              "    </tr>\n",
              "    <tr>\n",
              "      <th>1</th>\n",
              "      <td>166</td>\n",
              "      <td>166</td>\n",
              "      <td>166</td>\n",
              "      <td>166</td>\n",
              "      <td>166</td>\n",
              "      <td>166</td>\n",
              "      <td>166</td>\n",
              "      <td>166</td>\n",
              "      <td>166</td>\n",
              "      <td>166</td>\n",
              "      <td>166</td>\n",
              "      <td>166</td>\n",
              "      <td>166</td>\n",
              "      <td>166</td>\n",
              "    </tr>\n",
              "    <tr>\n",
              "      <th>2</th>\n",
              "      <td>51</td>\n",
              "      <td>51</td>\n",
              "      <td>51</td>\n",
              "      <td>51</td>\n",
              "      <td>51</td>\n",
              "      <td>51</td>\n",
              "      <td>51</td>\n",
              "      <td>51</td>\n",
              "      <td>51</td>\n",
              "      <td>51</td>\n",
              "      <td>51</td>\n",
              "      <td>51</td>\n",
              "      <td>51</td>\n",
              "      <td>51</td>\n",
              "    </tr>\n",
              "    <tr>\n",
              "      <th>3</th>\n",
              "      <td>12</td>\n",
              "      <td>12</td>\n",
              "      <td>12</td>\n",
              "      <td>12</td>\n",
              "      <td>12</td>\n",
              "      <td>12</td>\n",
              "      <td>11</td>\n",
              "      <td>12</td>\n",
              "      <td>12</td>\n",
              "      <td>11</td>\n",
              "      <td>12</td>\n",
              "      <td>12</td>\n",
              "      <td>12</td>\n",
              "      <td>12</td>\n",
              "    </tr>\n",
              "    <tr>\n",
              "      <th>7</th>\n",
              "      <td>4</td>\n",
              "      <td>4</td>\n",
              "      <td>4</td>\n",
              "      <td>4</td>\n",
              "      <td>4</td>\n",
              "      <td>4</td>\n",
              "      <td>4</td>\n",
              "      <td>4</td>\n",
              "      <td>4</td>\n",
              "      <td>4</td>\n",
              "      <td>4</td>\n",
              "      <td>4</td>\n",
              "      <td>4</td>\n",
              "      <td>4</td>\n",
              "    </tr>\n",
              "    <tr>\n",
              "      <th>...</th>\n",
              "      <td>...</td>\n",
              "      <td>...</td>\n",
              "      <td>...</td>\n",
              "      <td>...</td>\n",
              "      <td>...</td>\n",
              "      <td>...</td>\n",
              "      <td>...</td>\n",
              "      <td>...</td>\n",
              "      <td>...</td>\n",
              "      <td>...</td>\n",
              "      <td>...</td>\n",
              "      <td>...</td>\n",
              "      <td>...</td>\n",
              "      <td>...</td>\n",
              "    </tr>\n",
              "    <tr>\n",
              "      <th>90450995</th>\n",
              "      <td>3</td>\n",
              "      <td>3</td>\n",
              "      <td>3</td>\n",
              "      <td>3</td>\n",
              "      <td>3</td>\n",
              "      <td>3</td>\n",
              "      <td>3</td>\n",
              "      <td>3</td>\n",
              "      <td>3</td>\n",
              "      <td>3</td>\n",
              "      <td>3</td>\n",
              "      <td>3</td>\n",
              "      <td>3</td>\n",
              "      <td>3</td>\n",
              "    </tr>\n",
              "    <tr>\n",
              "      <th>90451050</th>\n",
              "      <td>1</td>\n",
              "      <td>1</td>\n",
              "      <td>1</td>\n",
              "      <td>1</td>\n",
              "      <td>1</td>\n",
              "      <td>1</td>\n",
              "      <td>0</td>\n",
              "      <td>1</td>\n",
              "      <td>1</td>\n",
              "      <td>0</td>\n",
              "      <td>1</td>\n",
              "      <td>1</td>\n",
              "      <td>1</td>\n",
              "      <td>1</td>\n",
              "    </tr>\n",
              "    <tr>\n",
              "      <th>90451158</th>\n",
              "      <td>2</td>\n",
              "      <td>2</td>\n",
              "      <td>2</td>\n",
              "      <td>2</td>\n",
              "      <td>2</td>\n",
              "      <td>2</td>\n",
              "      <td>2</td>\n",
              "      <td>2</td>\n",
              "      <td>2</td>\n",
              "      <td>2</td>\n",
              "      <td>2</td>\n",
              "      <td>2</td>\n",
              "      <td>2</td>\n",
              "      <td>2</td>\n",
              "    </tr>\n",
              "    <tr>\n",
              "      <th>90452317</th>\n",
              "      <td>7</td>\n",
              "      <td>7</td>\n",
              "      <td>7</td>\n",
              "      <td>7</td>\n",
              "      <td>7</td>\n",
              "      <td>7</td>\n",
              "      <td>7</td>\n",
              "      <td>7</td>\n",
              "      <td>7</td>\n",
              "      <td>7</td>\n",
              "      <td>7</td>\n",
              "      <td>7</td>\n",
              "      <td>7</td>\n",
              "      <td>7</td>\n",
              "    </tr>\n",
              "    <tr>\n",
              "      <th>90800342</th>\n",
              "      <td>1</td>\n",
              "      <td>1</td>\n",
              "      <td>1</td>\n",
              "      <td>1</td>\n",
              "      <td>1</td>\n",
              "      <td>1</td>\n",
              "      <td>1</td>\n",
              "      <td>1</td>\n",
              "      <td>1</td>\n",
              "      <td>1</td>\n",
              "      <td>1</td>\n",
              "      <td>1</td>\n",
              "      <td>1</td>\n",
              "      <td>1</td>\n",
              "    </tr>\n",
              "  </tbody>\n",
              "</table>\n",
              "<p>920102 rows × 14 columns</p>\n",
              "</div>"
            ],
            "text/plain": [
              "          Hotel_ID  Reservation_ID  ...  Reg_Date  Pers_pos\n",
              "Guest_ID                            ...                    \n",
              "0           221599          221599  ...    221599    221599\n",
              "1              166             166  ...       166       166\n",
              "2               51              51  ...        51        51\n",
              "3               12              12  ...        12        12\n",
              "7                4               4  ...         4         4\n",
              "...            ...             ...  ...       ...       ...\n",
              "90450995         3               3  ...         3         3\n",
              "90451050         1               1  ...         1         1\n",
              "90451158         2               2  ...         2         2\n",
              "90452317         7               7  ...         7         7\n",
              "90800342         1               1  ...         1         1\n",
              "\n",
              "[920102 rows x 14 columns]"
            ]
          },
          "metadata": {
            "tags": []
          },
          "execution_count": 81
        }
      ]
    },
    {
      "cell_type": "markdown",
      "metadata": {
        "id": "qsh4PMEtqRUK"
      },
      "source": [
        "### Analysis 2: Number of unique hotels visited at the guest level."
      ]
    },
    {
      "cell_type": "code",
      "metadata": {
        "colab": {
          "base_uri": "https://localhost:8080/"
        },
        "id": "feVwc7G_uTS1",
        "outputId": "e3922f37-350c-4ea9-8b0a-019eb03e216a"
      },
      "source": [
        "# Count the number of hotels  per guest\r\n",
        "hueres_data.groupby(\"Guest_ID\").count( )[\"Hotel_ID\"].sort_values(ascending = False )"
      ],
      "execution_count": 96,
      "outputs": [
        {
          "output_type": "execute_result",
          "data": {
            "text/plain": [
              "Guest_ID\n",
              "0           221599\n",
              "3373          5048\n",
              "1065593       2533\n",
              "1216726        887\n",
              "2716857        565\n",
              "             ...  \n",
              "3270710          1\n",
              "3270709          1\n",
              "3270708          1\n",
              "3270707          1\n",
              "90800342         1\n",
              "Name: Hotel_ID, Length: 920102, dtype: int64"
            ]
          },
          "metadata": {
            "tags": []
          },
          "execution_count": 96
        }
      ]
    },
    {
      "cell_type": "code",
      "metadata": {
        "colab": {
          "base_uri": "https://localhost:8080/",
          "height": 137
        },
        "id": "R_u_htnmwXGW",
        "outputId": "497a79fe-b14a-4d44-b011-85849824f61d"
      },
      "source": [
        "# kna1_data.info( )\r\n",
        "\r\n",
        "## Some of the Guest IDs Not visible in KNA1 table!\r\n",
        "\r\n",
        "\r\n",
        "kna1_data[kna1_data[\"Cust_ID\"] == 2716857 ]\r\n",
        "# kna1_data[kna1_data[\"Cust_ID\"] == 1216726]"
      ],
      "execution_count": 95,
      "outputs": [
        {
          "output_type": "execute_result",
          "data": {
            "text/html": [
              "<div>\n",
              "<style scoped>\n",
              "    .dataframe tbody tr th:only-of-type {\n",
              "        vertical-align: middle;\n",
              "    }\n",
              "\n",
              "    .dataframe tbody tr th {\n",
              "        vertical-align: top;\n",
              "    }\n",
              "\n",
              "    .dataframe thead th {\n",
              "        text-align: right;\n",
              "    }\n",
              "</style>\n",
              "<table border=\"1\" class=\"dataframe\">\n",
              "  <thead>\n",
              "    <tr style=\"text-align: right;\">\n",
              "      <th></th>\n",
              "      <th>Cust_ID</th>\n",
              "      <th>Country_ID</th>\n",
              "      <th>Name</th>\n",
              "      <th>City</th>\n",
              "      <th>Region</th>\n",
              "      <th>Gender</th>\n",
              "      <th>Company</th>\n",
              "    </tr>\n",
              "  </thead>\n",
              "  <tbody>\n",
              "    <tr>\n",
              "      <th>24428</th>\n",
              "      <td>2716857</td>\n",
              "      <td>IN</td>\n",
              "      <td>Vijaya Bank</td>\n",
              "      <td>Jaipur</td>\n",
              "      <td>20</td>\n",
              "      <td>Mr.</td>\n",
              "      <td></td>\n",
              "    </tr>\n",
              "    <tr>\n",
              "      <th>12233</th>\n",
              "      <td>2716857</td>\n",
              "      <td>IN</td>\n",
              "      <td>Vijaya Bank</td>\n",
              "      <td>Jaipur</td>\n",
              "      <td>20</td>\n",
              "      <td>Mr.</td>\n",
              "      <td></td>\n",
              "    </tr>\n",
              "    <tr>\n",
              "      <th>41889</th>\n",
              "      <td>2716857</td>\n",
              "      <td>IN</td>\n",
              "      <td>Vijaya Bank</td>\n",
              "      <td>Jaipur</td>\n",
              "      <td>20</td>\n",
              "      <td>Mr.</td>\n",
              "      <td></td>\n",
              "    </tr>\n",
              "  </tbody>\n",
              "</table>\n",
              "</div>"
            ],
            "text/plain": [
              "       Cust_ID Country_ID          Name    City Region Gender Company\n",
              "24428  2716857         IN  Vijaya Bank   Jaipur     20    Mr.        \n",
              "12233  2716857         IN  Vijaya Bank   Jaipur     20    Mr.        \n",
              "41889  2716857         IN  Vijaya Bank   Jaipur     20    Mr.        "
            ]
          },
          "metadata": {
            "tags": []
          },
          "execution_count": 95
        }
      ]
    },
    {
      "cell_type": "markdown",
      "metadata": {
        "id": "8QMxC8nZqK3W"
      },
      "source": [
        "### Analysis 4 : Travel alone or with an Additional Guest"
      ]
    },
    {
      "cell_type": "code",
      "metadata": {
        "colab": {
          "base_uri": "https://localhost:8080/",
          "height": 406
        },
        "id": "20QSkYy7wgq9",
        "outputId": "33b3f08a-ee4c-4afa-ff8f-1a81e330fa00"
      },
      "source": [
        "retail_guest_data = guest_data[(guest_data[\"Main_Cust_ID\"] >= 0) & (guest_data[\"Main_Cust_ID\"] < 90400000)][[\"Guest_ID\", \"PAX\"]]\r\n",
        "retail_guest_data"
      ],
      "execution_count": 113,
      "outputs": [
        {
          "output_type": "execute_result",
          "data": {
            "text/html": [
              "<div>\n",
              "<style scoped>\n",
              "    .dataframe tbody tr th:only-of-type {\n",
              "        vertical-align: middle;\n",
              "    }\n",
              "\n",
              "    .dataframe tbody tr th {\n",
              "        vertical-align: top;\n",
              "    }\n",
              "\n",
              "    .dataframe thead th {\n",
              "        text-align: right;\n",
              "    }\n",
              "</style>\n",
              "<table border=\"1\" class=\"dataframe\">\n",
              "  <thead>\n",
              "    <tr style=\"text-align: right;\">\n",
              "      <th></th>\n",
              "      <th>Guest_ID</th>\n",
              "      <th>PAX</th>\n",
              "    </tr>\n",
              "  </thead>\n",
              "  <tbody>\n",
              "    <tr>\n",
              "      <th>0</th>\n",
              "      <td>0</td>\n",
              "      <td>2</td>\n",
              "    </tr>\n",
              "    <tr>\n",
              "      <th>1</th>\n",
              "      <td>0</td>\n",
              "      <td>2</td>\n",
              "    </tr>\n",
              "    <tr>\n",
              "      <th>2</th>\n",
              "      <td>0</td>\n",
              "      <td>2</td>\n",
              "    </tr>\n",
              "    <tr>\n",
              "      <th>3</th>\n",
              "      <td>0</td>\n",
              "      <td>2</td>\n",
              "    </tr>\n",
              "    <tr>\n",
              "      <th>4</th>\n",
              "      <td>0</td>\n",
              "      <td>2</td>\n",
              "    </tr>\n",
              "    <tr>\n",
              "      <th>...</th>\n",
              "      <td>...</td>\n",
              "      <td>...</td>\n",
              "    </tr>\n",
              "    <tr>\n",
              "      <th>1579443</th>\n",
              "      <td>3339696</td>\n",
              "      <td>2</td>\n",
              "    </tr>\n",
              "    <tr>\n",
              "      <th>1579444</th>\n",
              "      <td>3339700</td>\n",
              "      <td>2</td>\n",
              "    </tr>\n",
              "    <tr>\n",
              "      <th>1579445</th>\n",
              "      <td>3339628</td>\n",
              "      <td>1</td>\n",
              "    </tr>\n",
              "    <tr>\n",
              "      <th>1579446</th>\n",
              "      <td>3339680</td>\n",
              "      <td>1</td>\n",
              "    </tr>\n",
              "    <tr>\n",
              "      <th>1579447</th>\n",
              "      <td>3339780</td>\n",
              "      <td>1</td>\n",
              "    </tr>\n",
              "  </tbody>\n",
              "</table>\n",
              "<p>1035413 rows × 2 columns</p>\n",
              "</div>"
            ],
            "text/plain": [
              "         Guest_ID  PAX\n",
              "0               0    2\n",
              "1               0    2\n",
              "2               0    2\n",
              "3               0    2\n",
              "4               0    2\n",
              "...           ...  ...\n",
              "1579443   3339696    2\n",
              "1579444   3339700    2\n",
              "1579445   3339628    1\n",
              "1579446   3339680    1\n",
              "1579447   3339780    1\n",
              "\n",
              "[1035413 rows x 2 columns]"
            ]
          },
          "metadata": {
            "tags": []
          },
          "execution_count": 113
        }
      ]
    },
    {
      "cell_type": "markdown",
      "metadata": {
        "id": "gnAseXuwqHZQ"
      },
      "source": [
        "### Analysis 5: Determine Guest (Family / Groups)"
      ]
    },
    {
      "cell_type": "code",
      "metadata": {
        "colab": {
          "base_uri": "https://localhost:8080/",
          "height": 406
        },
        "id": "H-L6nmy80C7Q",
        "outputId": "d2fc0bb8-6289-440d-caf5-9bc0838b3669"
      },
      "source": [
        "retail_guest_data[\"Family\"] = retail_guest_data[\"PAX\"] > 1\r\n",
        "retail_guest_data"
      ],
      "execution_count": 112,
      "outputs": [
        {
          "output_type": "execute_result",
          "data": {
            "text/html": [
              "<div>\n",
              "<style scoped>\n",
              "    .dataframe tbody tr th:only-of-type {\n",
              "        vertical-align: middle;\n",
              "    }\n",
              "\n",
              "    .dataframe tbody tr th {\n",
              "        vertical-align: top;\n",
              "    }\n",
              "\n",
              "    .dataframe thead th {\n",
              "        text-align: right;\n",
              "    }\n",
              "</style>\n",
              "<table border=\"1\" class=\"dataframe\">\n",
              "  <thead>\n",
              "    <tr style=\"text-align: right;\">\n",
              "      <th></th>\n",
              "      <th>Guest_ID</th>\n",
              "      <th>PAX</th>\n",
              "      <th>Family</th>\n",
              "    </tr>\n",
              "  </thead>\n",
              "  <tbody>\n",
              "    <tr>\n",
              "      <th>0</th>\n",
              "      <td>0</td>\n",
              "      <td>2</td>\n",
              "      <td>True</td>\n",
              "    </tr>\n",
              "    <tr>\n",
              "      <th>1</th>\n",
              "      <td>0</td>\n",
              "      <td>2</td>\n",
              "      <td>True</td>\n",
              "    </tr>\n",
              "    <tr>\n",
              "      <th>2</th>\n",
              "      <td>0</td>\n",
              "      <td>2</td>\n",
              "      <td>True</td>\n",
              "    </tr>\n",
              "    <tr>\n",
              "      <th>3</th>\n",
              "      <td>0</td>\n",
              "      <td>2</td>\n",
              "      <td>True</td>\n",
              "    </tr>\n",
              "    <tr>\n",
              "      <th>4</th>\n",
              "      <td>0</td>\n",
              "      <td>2</td>\n",
              "      <td>True</td>\n",
              "    </tr>\n",
              "    <tr>\n",
              "      <th>...</th>\n",
              "      <td>...</td>\n",
              "      <td>...</td>\n",
              "      <td>...</td>\n",
              "    </tr>\n",
              "    <tr>\n",
              "      <th>1579443</th>\n",
              "      <td>3339696</td>\n",
              "      <td>2</td>\n",
              "      <td>True</td>\n",
              "    </tr>\n",
              "    <tr>\n",
              "      <th>1579444</th>\n",
              "      <td>3339700</td>\n",
              "      <td>2</td>\n",
              "      <td>True</td>\n",
              "    </tr>\n",
              "    <tr>\n",
              "      <th>1579445</th>\n",
              "      <td>3339628</td>\n",
              "      <td>1</td>\n",
              "      <td>False</td>\n",
              "    </tr>\n",
              "    <tr>\n",
              "      <th>1579446</th>\n",
              "      <td>3339680</td>\n",
              "      <td>1</td>\n",
              "      <td>False</td>\n",
              "    </tr>\n",
              "    <tr>\n",
              "      <th>1579447</th>\n",
              "      <td>3339780</td>\n",
              "      <td>1</td>\n",
              "      <td>False</td>\n",
              "    </tr>\n",
              "  </tbody>\n",
              "</table>\n",
              "<p>1035413 rows × 3 columns</p>\n",
              "</div>"
            ],
            "text/plain": [
              "         Guest_ID  PAX  Family\n",
              "0               0    2    True\n",
              "1               0    2    True\n",
              "2               0    2    True\n",
              "3               0    2    True\n",
              "4               0    2    True\n",
              "...           ...  ...     ...\n",
              "1579443   3339696    2    True\n",
              "1579444   3339700    2    True\n",
              "1579445   3339628    1   False\n",
              "1579446   3339680    1   False\n",
              "1579447   3339780    1   False\n",
              "\n",
              "[1035413 rows x 3 columns]"
            ]
          },
          "metadata": {
            "tags": []
          },
          "execution_count": 112
        }
      ]
    },
    {
      "cell_type": "markdown",
      "metadata": {
        "id": "NfTyAY5np_oP"
      },
      "source": [
        "### Analysis 6 : Total number of Room nights across stays (for 2 years)"
      ]
    },
    {
      "cell_type": "code",
      "metadata": {
        "colab": {
          "base_uri": "https://localhost:8080/",
          "height": 426
        },
        "id": "0N--CQAv30B5",
        "outputId": "575c340a-548e-4cb2-f0fc-6d8860ce32d3"
      },
      "source": [
        "# guest_data[\"Stay_Length\"] = pd.to_datetime(guest_data[\"Checkout_Date\"]).apply(lambda x : x.date()) - pd.to_datetime(guest_data[\"Checkin_Date\"]).apply(lambda x : x.date().days)\r\n",
        "\r\n",
        "guest_data[\"Checkout_Date\"] = pd.to_datetime(guest_data[\"Checkout_Date\"], dayfirst=True).apply(lambda x : x.date())\r\n",
        "guest_data[\"Checkin_Date\"] = pd.to_datetime(guest_data[\"Checkin_Date\"], dayfirst=True).apply(lambda x : x.date())\r\n",
        "guest_data[\"Stay_Length\"] = (guest_data[\"Checkout_Date\"] - guest_data[\"Checkin_Date\"]).apply(lambda x : x.days )\r\n",
        "guest_data"
      ],
      "execution_count": 125,
      "outputs": [
        {
          "output_type": "execute_result",
          "data": {
            "text/html": [
              "<div>\n",
              "<style scoped>\n",
              "    .dataframe tbody tr th:only-of-type {\n",
              "        vertical-align: middle;\n",
              "    }\n",
              "\n",
              "    .dataframe tbody tr th {\n",
              "        vertical-align: top;\n",
              "    }\n",
              "\n",
              "    .dataframe thead th {\n",
              "        text-align: right;\n",
              "    }\n",
              "</style>\n",
              "<table border=\"1\" class=\"dataframe\">\n",
              "  <thead>\n",
              "    <tr style=\"text-align: right;\">\n",
              "      <th></th>\n",
              "      <th>Hotel_ID</th>\n",
              "      <th>Reservation_ID</th>\n",
              "      <th>Main_Cust_ID</th>\n",
              "      <th>Checkin_Date</th>\n",
              "      <th>Checkout_Date</th>\n",
              "      <th>PAX</th>\n",
              "      <th>Room_Type</th>\n",
              "      <th>Upg_or_Real</th>\n",
              "      <th>Reservation_Status</th>\n",
              "      <th>Board_ID</th>\n",
              "      <th>Cancel_Date</th>\n",
              "      <th>Cancel_Rsn_ID</th>\n",
              "      <th>Reg_Date</th>\n",
              "      <th>Pers_pos</th>\n",
              "      <th>Guest_ID</th>\n",
              "      <th>Stay_Length</th>\n",
              "    </tr>\n",
              "  </thead>\n",
              "  <tbody>\n",
              "    <tr>\n",
              "      <th>0</th>\n",
              "      <td>AGR1</td>\n",
              "      <td>3681294</td>\n",
              "      <td>90003186</td>\n",
              "      <td>2019-02-16</td>\n",
              "      <td>2019-02-17</td>\n",
              "      <td>2</td>\n",
              "      <td>DBL</td>\n",
              "      <td></td>\n",
              "      <td>6</td>\n",
              "      <td>ONLYROOM</td>\n",
              "      <td>23.01.2019</td>\n",
              "      <td>1</td>\n",
              "      <td>05.06.2018</td>\n",
              "      <td>1</td>\n",
              "      <td>0</td>\n",
              "      <td>1</td>\n",
              "    </tr>\n",
              "    <tr>\n",
              "      <th>1</th>\n",
              "      <td>AGR1</td>\n",
              "      <td>3681294</td>\n",
              "      <td>90003186</td>\n",
              "      <td>2019-02-16</td>\n",
              "      <td>2019-02-17</td>\n",
              "      <td>2</td>\n",
              "      <td>DBL</td>\n",
              "      <td></td>\n",
              "      <td>6</td>\n",
              "      <td>ONLYROOM</td>\n",
              "      <td>23.01.2019</td>\n",
              "      <td>1</td>\n",
              "      <td>05.06.2018</td>\n",
              "      <td>2</td>\n",
              "      <td>0</td>\n",
              "      <td>1</td>\n",
              "    </tr>\n",
              "    <tr>\n",
              "      <th>2</th>\n",
              "      <td>AGR1</td>\n",
              "      <td>3681296</td>\n",
              "      <td>90003186</td>\n",
              "      <td>2019-02-16</td>\n",
              "      <td>2019-02-17</td>\n",
              "      <td>2</td>\n",
              "      <td>DBL</td>\n",
              "      <td></td>\n",
              "      <td>6</td>\n",
              "      <td>ONLYROOM</td>\n",
              "      <td>23.01.2019</td>\n",
              "      <td>1</td>\n",
              "      <td>05.06.2018</td>\n",
              "      <td>1</td>\n",
              "      <td>0</td>\n",
              "      <td>1</td>\n",
              "    </tr>\n",
              "    <tr>\n",
              "      <th>3</th>\n",
              "      <td>AGR1</td>\n",
              "      <td>3681296</td>\n",
              "      <td>90003186</td>\n",
              "      <td>2019-02-16</td>\n",
              "      <td>2019-02-17</td>\n",
              "      <td>2</td>\n",
              "      <td>DBL</td>\n",
              "      <td></td>\n",
              "      <td>6</td>\n",
              "      <td>ONLYROOM</td>\n",
              "      <td>23.01.2019</td>\n",
              "      <td>1</td>\n",
              "      <td>05.06.2018</td>\n",
              "      <td>2</td>\n",
              "      <td>0</td>\n",
              "      <td>1</td>\n",
              "    </tr>\n",
              "    <tr>\n",
              "      <th>4</th>\n",
              "      <td>AGR1</td>\n",
              "      <td>3681298</td>\n",
              "      <td>90003186</td>\n",
              "      <td>2019-02-16</td>\n",
              "      <td>2019-02-17</td>\n",
              "      <td>2</td>\n",
              "      <td>DBL</td>\n",
              "      <td></td>\n",
              "      <td>6</td>\n",
              "      <td>ONLYROOM</td>\n",
              "      <td>23.01.2019</td>\n",
              "      <td>1</td>\n",
              "      <td>05.06.2018</td>\n",
              "      <td>1</td>\n",
              "      <td>0</td>\n",
              "      <td>1</td>\n",
              "    </tr>\n",
              "    <tr>\n",
              "      <th>...</th>\n",
              "      <td>...</td>\n",
              "      <td>...</td>\n",
              "      <td>...</td>\n",
              "      <td>...</td>\n",
              "      <td>...</td>\n",
              "      <td>...</td>\n",
              "      <td>...</td>\n",
              "      <td>...</td>\n",
              "      <td>...</td>\n",
              "      <td>...</td>\n",
              "      <td>...</td>\n",
              "      <td>...</td>\n",
              "      <td>...</td>\n",
              "      <td>...</td>\n",
              "      <td>...</td>\n",
              "      <td>...</td>\n",
              "    </tr>\n",
              "    <tr>\n",
              "      <th>1579443</th>\n",
              "      <td>VTZ1</td>\n",
              "      <td>3717484</td>\n",
              "      <td>90005463</td>\n",
              "      <td>2018-06-30</td>\n",
              "      <td>2018-01-07</td>\n",
              "      <td>2</td>\n",
              "      <td>TWN</td>\n",
              "      <td>STD</td>\n",
              "      <td>3</td>\n",
              "      <td>ONLYROOM</td>\n",
              "      <td>00.00.0000</td>\n",
              "      <td></td>\n",
              "      <td>30.06.2018</td>\n",
              "      <td>1</td>\n",
              "      <td>3339696</td>\n",
              "      <td>-174</td>\n",
              "    </tr>\n",
              "    <tr>\n",
              "      <th>1579444</th>\n",
              "      <td>VTZ1</td>\n",
              "      <td>3717484</td>\n",
              "      <td>90005463</td>\n",
              "      <td>2018-06-30</td>\n",
              "      <td>2018-01-07</td>\n",
              "      <td>2</td>\n",
              "      <td>TWN</td>\n",
              "      <td>STD</td>\n",
              "      <td>3</td>\n",
              "      <td>ONLYROOM</td>\n",
              "      <td>00.00.0000</td>\n",
              "      <td></td>\n",
              "      <td>30.06.2018</td>\n",
              "      <td>2</td>\n",
              "      <td>3339700</td>\n",
              "      <td>-174</td>\n",
              "    </tr>\n",
              "    <tr>\n",
              "      <th>1579445</th>\n",
              "      <td>VTZ1</td>\n",
              "      <td>3717543</td>\n",
              "      <td>90005463</td>\n",
              "      <td>2018-06-30</td>\n",
              "      <td>2018-01-07</td>\n",
              "      <td>1</td>\n",
              "      <td>SSR</td>\n",
              "      <td></td>\n",
              "      <td>3</td>\n",
              "      <td>ONLYROOM</td>\n",
              "      <td>00.00.0000</td>\n",
              "      <td></td>\n",
              "      <td>30.06.2018</td>\n",
              "      <td>1</td>\n",
              "      <td>3339628</td>\n",
              "      <td>-174</td>\n",
              "    </tr>\n",
              "    <tr>\n",
              "      <th>1579446</th>\n",
              "      <td>VTZ1</td>\n",
              "      <td>3717596</td>\n",
              "      <td>90005463</td>\n",
              "      <td>2018-06-30</td>\n",
              "      <td>2018-02-07</td>\n",
              "      <td>1</td>\n",
              "      <td>SSR</td>\n",
              "      <td></td>\n",
              "      <td>3</td>\n",
              "      <td>ONLYROOM</td>\n",
              "      <td>00.00.0000</td>\n",
              "      <td></td>\n",
              "      <td>30.06.2018</td>\n",
              "      <td>1</td>\n",
              "      <td>3339680</td>\n",
              "      <td>-143</td>\n",
              "    </tr>\n",
              "    <tr>\n",
              "      <th>1579447</th>\n",
              "      <td>VTZ1</td>\n",
              "      <td>3717659</td>\n",
              "      <td>90005463</td>\n",
              "      <td>2018-06-30</td>\n",
              "      <td>2018-01-07</td>\n",
              "      <td>1</td>\n",
              "      <td>SSR</td>\n",
              "      <td></td>\n",
              "      <td>3</td>\n",
              "      <td>ONLYROOM</td>\n",
              "      <td>00.00.0000</td>\n",
              "      <td></td>\n",
              "      <td>30.06.2018</td>\n",
              "      <td>1</td>\n",
              "      <td>3339780</td>\n",
              "      <td>-174</td>\n",
              "    </tr>\n",
              "  </tbody>\n",
              "</table>\n",
              "<p>1579448 rows × 16 columns</p>\n",
              "</div>"
            ],
            "text/plain": [
              "        Hotel_ID  Reservation_ID  Main_Cust_ID  ... Pers_pos Guest_ID  Stay_Length\n",
              "0           AGR1         3681294      90003186  ...        1        0            1\n",
              "1           AGR1         3681294      90003186  ...        2        0            1\n",
              "2           AGR1         3681296      90003186  ...        1        0            1\n",
              "3           AGR1         3681296      90003186  ...        2        0            1\n",
              "4           AGR1         3681298      90003186  ...        1        0            1\n",
              "...          ...             ...           ...  ...      ...      ...          ...\n",
              "1579443     VTZ1         3717484      90005463  ...        1  3339696         -174\n",
              "1579444     VTZ1         3717484      90005463  ...        2  3339700         -174\n",
              "1579445     VTZ1         3717543      90005463  ...        1  3339628         -174\n",
              "1579446     VTZ1         3717596      90005463  ...        1  3339680         -143\n",
              "1579447     VTZ1         3717659      90005463  ...        1  3339780         -174\n",
              "\n",
              "[1579448 rows x 16 columns]"
            ]
          },
          "metadata": {
            "tags": []
          },
          "execution_count": 125
        }
      ]
    },
    {
      "cell_type": "code",
      "metadata": {
        "colab": {
          "base_uri": "https://localhost:8080/"
        },
        "id": "jKS0I-bA68Dm",
        "outputId": "8df4cb98-342f-4b9a-f965-4f73477344a2"
      },
      "source": [
        "# Sum the reservation length per guest to total stay length in past 2 years. \r\n",
        "guest_data.groupby(\"Guest_ID\").sum( )[\"Stay_Length\"]"
      ],
      "execution_count": 127,
      "outputs": [
        {
          "output_type": "execute_result",
          "data": {
            "text/plain": [
              "Guest_ID\n",
              "0           478719\n",
              "1             -263\n",
              "2             -154\n",
              "3               79\n",
              "7                4\n",
              "             ...  \n",
              "90450995         0\n",
              "90451050         0\n",
              "90451158         0\n",
              "90452317         1\n",
              "90800342        31\n",
              "Name: Stay_Length, Length: 920102, dtype: int64"
            ]
          },
          "metadata": {
            "tags": []
          },
          "execution_count": 127
        }
      ]
    },
    {
      "cell_type": "markdown",
      "metadata": {
        "id": "wPaBVjXzp5Ef"
      },
      "source": [
        "### Analysis 7 : Total Number of Unique Guests"
      ]
    },
    {
      "cell_type": "code",
      "metadata": {
        "colab": {
          "base_uri": "https://localhost:8080/"
        },
        "id": "T_yxqFU9BJ7t",
        "outputId": "bc3026fc-7faa-49db-9bba-0da244130c5a"
      },
      "source": [
        "hueres_data[\"Guest_ID\"].nunique()"
      ],
      "execution_count": 129,
      "outputs": [
        {
          "output_type": "execute_result",
          "data": {
            "text/plain": [
              "920102"
            ]
          },
          "metadata": {
            "tags": []
          },
          "execution_count": 129
        }
      ]
    },
    {
      "cell_type": "markdown",
      "metadata": {
        "id": "v5aAzzhIpzrm"
      },
      "source": [
        "### Analysis 8 : Total Number of Reservations"
      ]
    },
    {
      "cell_type": "code",
      "metadata": {
        "colab": {
          "base_uri": "https://localhost:8080/"
        },
        "id": "hGsSqmA0EpG1",
        "outputId": "5731c246-b0dd-4837-84fa-f41f15ef87c2"
      },
      "source": [
        "rsrvs_data[\"Reservation_ID\"].nunique()"
      ],
      "execution_count": 131,
      "outputs": [
        {
          "output_type": "execute_result",
          "data": {
            "text/plain": [
              "1063191"
            ]
          },
          "metadata": {
            "tags": []
          },
          "execution_count": 131
        }
      ]
    },
    {
      "cell_type": "markdown",
      "metadata": {
        "id": "CvHhChESpuCg"
      },
      "source": [
        "### Analysis 9 : Average Length of stay "
      ]
    },
    {
      "cell_type": "code",
      "metadata": {
        "colab": {
          "base_uri": "https://localhost:8080/"
        },
        "id": "8FEtNtzYE3Ud",
        "outputId": "35d8191b-03a6-4fe1-a3c1-1d33e6a7320d"
      },
      "source": [
        "guest_data.groupby(\"Guest_ID\").sum( )[\"Stay_Length\"] / guest_data.groupby(\"Guest_ID\").count( )[\"Reservation_ID\"]"
      ],
      "execution_count": 132,
      "outputs": [
        {
          "output_type": "execute_result",
          "data": {
            "text/plain": [
              "Guest_ID\n",
              "0            2.160294\n",
              "1           -1.584337\n",
              "2           -3.019608\n",
              "3            6.583333\n",
              "7            1.000000\n",
              "              ...    \n",
              "90450995     0.000000\n",
              "90451050     0.000000\n",
              "90451158     0.000000\n",
              "90452317     0.142857\n",
              "90800342    31.000000\n",
              "Length: 920102, dtype: float64"
            ]
          },
          "metadata": {
            "tags": []
          },
          "execution_count": 132
        }
      ]
    },
    {
      "cell_type": "markdown",
      "metadata": {
        "id": "NUYt3TfLpiWB"
      },
      "source": [
        "### Analysis 11 : Number & Share of Long Stays (>=5)\r\n"
      ]
    },
    {
      "cell_type": "code",
      "metadata": {
        "colab": {
          "base_uri": "https://localhost:8080/",
          "height": 426
        },
        "id": "HIPGeXsUGKvQ",
        "outputId": "2502e494-30eb-47df-b517-5804b891a020"
      },
      "source": [
        "guest_data[guest_data[\"Stay_Length\"] > 5]"
      ],
      "execution_count": 134,
      "outputs": [
        {
          "output_type": "execute_result",
          "data": {
            "text/html": [
              "<div>\n",
              "<style scoped>\n",
              "    .dataframe tbody tr th:only-of-type {\n",
              "        vertical-align: middle;\n",
              "    }\n",
              "\n",
              "    .dataframe tbody tr th {\n",
              "        vertical-align: top;\n",
              "    }\n",
              "\n",
              "    .dataframe thead th {\n",
              "        text-align: right;\n",
              "    }\n",
              "</style>\n",
              "<table border=\"1\" class=\"dataframe\">\n",
              "  <thead>\n",
              "    <tr style=\"text-align: right;\">\n",
              "      <th></th>\n",
              "      <th>Hotel_ID</th>\n",
              "      <th>Reservation_ID</th>\n",
              "      <th>Main_Cust_ID</th>\n",
              "      <th>Checkin_Date</th>\n",
              "      <th>Checkout_Date</th>\n",
              "      <th>PAX</th>\n",
              "      <th>Room_Type</th>\n",
              "      <th>Upg_or_Real</th>\n",
              "      <th>Reservation_Status</th>\n",
              "      <th>Board_ID</th>\n",
              "      <th>Cancel_Date</th>\n",
              "      <th>Cancel_Rsn_ID</th>\n",
              "      <th>Reg_Date</th>\n",
              "      <th>Pers_pos</th>\n",
              "      <th>Guest_ID</th>\n",
              "      <th>Stay_Length</th>\n",
              "    </tr>\n",
              "  </thead>\n",
              "  <tbody>\n",
              "    <tr>\n",
              "      <th>52</th>\n",
              "      <td>AGR1</td>\n",
              "      <td>3681356</td>\n",
              "      <td>90003186</td>\n",
              "      <td>2019-09-03</td>\n",
              "      <td>2019-10-03</td>\n",
              "      <td>2</td>\n",
              "      <td>DBL</td>\n",
              "      <td></td>\n",
              "      <td>6</td>\n",
              "      <td>ONLYROOM</td>\n",
              "      <td>02.03.2019</td>\n",
              "      <td>1</td>\n",
              "      <td>05.06.2018</td>\n",
              "      <td>1</td>\n",
              "      <td>0</td>\n",
              "      <td>30</td>\n",
              "    </tr>\n",
              "    <tr>\n",
              "      <th>53</th>\n",
              "      <td>AGR1</td>\n",
              "      <td>3681356</td>\n",
              "      <td>90003186</td>\n",
              "      <td>2019-09-03</td>\n",
              "      <td>2019-10-03</td>\n",
              "      <td>2</td>\n",
              "      <td>DBL</td>\n",
              "      <td></td>\n",
              "      <td>6</td>\n",
              "      <td>ONLYROOM</td>\n",
              "      <td>02.03.2019</td>\n",
              "      <td>1</td>\n",
              "      <td>05.06.2018</td>\n",
              "      <td>2</td>\n",
              "      <td>0</td>\n",
              "      <td>30</td>\n",
              "    </tr>\n",
              "    <tr>\n",
              "      <th>54</th>\n",
              "      <td>AGR1</td>\n",
              "      <td>3681357</td>\n",
              "      <td>90003186</td>\n",
              "      <td>2019-09-03</td>\n",
              "      <td>2019-10-03</td>\n",
              "      <td>2</td>\n",
              "      <td>DBL</td>\n",
              "      <td></td>\n",
              "      <td>6</td>\n",
              "      <td>ONLYROOM</td>\n",
              "      <td>02.03.2019</td>\n",
              "      <td>1</td>\n",
              "      <td>05.06.2018</td>\n",
              "      <td>1</td>\n",
              "      <td>0</td>\n",
              "      <td>30</td>\n",
              "    </tr>\n",
              "    <tr>\n",
              "      <th>55</th>\n",
              "      <td>AGR1</td>\n",
              "      <td>3681357</td>\n",
              "      <td>90003186</td>\n",
              "      <td>2019-09-03</td>\n",
              "      <td>2019-10-03</td>\n",
              "      <td>2</td>\n",
              "      <td>DBL</td>\n",
              "      <td></td>\n",
              "      <td>6</td>\n",
              "      <td>ONLYROOM</td>\n",
              "      <td>02.03.2019</td>\n",
              "      <td>1</td>\n",
              "      <td>05.06.2018</td>\n",
              "      <td>2</td>\n",
              "      <td>0</td>\n",
              "      <td>30</td>\n",
              "    </tr>\n",
              "    <tr>\n",
              "      <th>56</th>\n",
              "      <td>AGR1</td>\n",
              "      <td>3681358</td>\n",
              "      <td>90003186</td>\n",
              "      <td>2019-09-03</td>\n",
              "      <td>2019-10-03</td>\n",
              "      <td>2</td>\n",
              "      <td>DBL</td>\n",
              "      <td></td>\n",
              "      <td>6</td>\n",
              "      <td>ONLYROOM</td>\n",
              "      <td>02.03.2019</td>\n",
              "      <td>1</td>\n",
              "      <td>05.06.2018</td>\n",
              "      <td>1</td>\n",
              "      <td>0</td>\n",
              "      <td>30</td>\n",
              "    </tr>\n",
              "    <tr>\n",
              "      <th>...</th>\n",
              "      <td>...</td>\n",
              "      <td>...</td>\n",
              "      <td>...</td>\n",
              "      <td>...</td>\n",
              "      <td>...</td>\n",
              "      <td>...</td>\n",
              "      <td>...</td>\n",
              "      <td>...</td>\n",
              "      <td>...</td>\n",
              "      <td>...</td>\n",
              "      <td>...</td>\n",
              "      <td>...</td>\n",
              "      <td>...</td>\n",
              "      <td>...</td>\n",
              "      <td>...</td>\n",
              "      <td>...</td>\n",
              "    </tr>\n",
              "    <tr>\n",
              "      <th>1579429</th>\n",
              "      <td>VTZ1</td>\n",
              "      <td>3716626</td>\n",
              "      <td>90400034</td>\n",
              "      <td>2018-06-30</td>\n",
              "      <td>2018-07-31</td>\n",
              "      <td>2</td>\n",
              "      <td>STD</td>\n",
              "      <td></td>\n",
              "      <td>3</td>\n",
              "      <td>ONLYROOM</td>\n",
              "      <td>00.00.0000</td>\n",
              "      <td></td>\n",
              "      <td>04.06.2018</td>\n",
              "      <td>1</td>\n",
              "      <td>3235321</td>\n",
              "      <td>31</td>\n",
              "    </tr>\n",
              "    <tr>\n",
              "      <th>1579430</th>\n",
              "      <td>VTZ1</td>\n",
              "      <td>3716626</td>\n",
              "      <td>90400034</td>\n",
              "      <td>2018-06-30</td>\n",
              "      <td>2018-07-31</td>\n",
              "      <td>2</td>\n",
              "      <td>STD</td>\n",
              "      <td></td>\n",
              "      <td>3</td>\n",
              "      <td>ONLYROOM</td>\n",
              "      <td>00.00.0000</td>\n",
              "      <td></td>\n",
              "      <td>04.06.2018</td>\n",
              "      <td>2</td>\n",
              "      <td>3266986</td>\n",
              "      <td>31</td>\n",
              "    </tr>\n",
              "    <tr>\n",
              "      <th>1579433</th>\n",
              "      <td>VTZ1</td>\n",
              "      <td>3716764</td>\n",
              "      <td>90400034</td>\n",
              "      <td>2018-06-30</td>\n",
              "      <td>2018-07-31</td>\n",
              "      <td>1</td>\n",
              "      <td>STD</td>\n",
              "      <td></td>\n",
              "      <td>3</td>\n",
              "      <td>ONLYROOM</td>\n",
              "      <td>00.00.0000</td>\n",
              "      <td></td>\n",
              "      <td>30.06.2018</td>\n",
              "      <td>1</td>\n",
              "      <td>2682790</td>\n",
              "      <td>31</td>\n",
              "    </tr>\n",
              "    <tr>\n",
              "      <th>1579434</th>\n",
              "      <td>VTZ1</td>\n",
              "      <td>3716887</td>\n",
              "      <td>90400034</td>\n",
              "      <td>2018-06-30</td>\n",
              "      <td>2018-08-08</td>\n",
              "      <td>2</td>\n",
              "      <td>STD</td>\n",
              "      <td>SSR</td>\n",
              "      <td>3</td>\n",
              "      <td>ONLYROOM</td>\n",
              "      <td>00.00.0000</td>\n",
              "      <td></td>\n",
              "      <td>30.06.2018</td>\n",
              "      <td>1</td>\n",
              "      <td>929415</td>\n",
              "      <td>39</td>\n",
              "    </tr>\n",
              "    <tr>\n",
              "      <th>1579435</th>\n",
              "      <td>VTZ1</td>\n",
              "      <td>3716887</td>\n",
              "      <td>90400034</td>\n",
              "      <td>2018-06-30</td>\n",
              "      <td>2018-08-08</td>\n",
              "      <td>2</td>\n",
              "      <td>STD</td>\n",
              "      <td>SSR</td>\n",
              "      <td>3</td>\n",
              "      <td>ONLYROOM</td>\n",
              "      <td>00.00.0000</td>\n",
              "      <td></td>\n",
              "      <td>30.06.2018</td>\n",
              "      <td>2</td>\n",
              "      <td>3339500</td>\n",
              "      <td>39</td>\n",
              "    </tr>\n",
              "  </tbody>\n",
              "</table>\n",
              "<p>512351 rows × 16 columns</p>\n",
              "</div>"
            ],
            "text/plain": [
              "        Hotel_ID  Reservation_ID  Main_Cust_ID  ... Pers_pos Guest_ID  Stay_Length\n",
              "52          AGR1         3681356      90003186  ...        1        0           30\n",
              "53          AGR1         3681356      90003186  ...        2        0           30\n",
              "54          AGR1         3681357      90003186  ...        1        0           30\n",
              "55          AGR1         3681357      90003186  ...        2        0           30\n",
              "56          AGR1         3681358      90003186  ...        1        0           30\n",
              "...          ...             ...           ...  ...      ...      ...          ...\n",
              "1579429     VTZ1         3716626      90400034  ...        1  3235321           31\n",
              "1579430     VTZ1         3716626      90400034  ...        2  3266986           31\n",
              "1579433     VTZ1         3716764      90400034  ...        1  2682790           31\n",
              "1579434     VTZ1         3716887      90400034  ...        1   929415           39\n",
              "1579435     VTZ1         3716887      90400034  ...        2  3339500           39\n",
              "\n",
              "[512351 rows x 16 columns]"
            ]
          },
          "metadata": {
            "tags": []
          },
          "execution_count": 134
        }
      ]
    },
    {
      "cell_type": "markdown",
      "metadata": {
        "id": "XUU_KV5Cpaon"
      },
      "source": [
        "### Analysis 12/13 : Number & Share of Day Use"
      ]
    },
    {
      "cell_type": "code",
      "metadata": {
        "colab": {
          "base_uri": "https://localhost:8080/",
          "height": 426
        },
        "id": "VdixSfsbGiv9",
        "outputId": "d6fd9469-64f3-4d73-dfae-d82cff4b381a"
      },
      "source": [
        "guest_data[guest_data[\"Stay_Length\"] > 0]"
      ],
      "execution_count": 135,
      "outputs": [
        {
          "output_type": "execute_result",
          "data": {
            "text/html": [
              "<div>\n",
              "<style scoped>\n",
              "    .dataframe tbody tr th:only-of-type {\n",
              "        vertical-align: middle;\n",
              "    }\n",
              "\n",
              "    .dataframe tbody tr th {\n",
              "        vertical-align: top;\n",
              "    }\n",
              "\n",
              "    .dataframe thead th {\n",
              "        text-align: right;\n",
              "    }\n",
              "</style>\n",
              "<table border=\"1\" class=\"dataframe\">\n",
              "  <thead>\n",
              "    <tr style=\"text-align: right;\">\n",
              "      <th></th>\n",
              "      <th>Hotel_ID</th>\n",
              "      <th>Reservation_ID</th>\n",
              "      <th>Main_Cust_ID</th>\n",
              "      <th>Checkin_Date</th>\n",
              "      <th>Checkout_Date</th>\n",
              "      <th>PAX</th>\n",
              "      <th>Room_Type</th>\n",
              "      <th>Upg_or_Real</th>\n",
              "      <th>Reservation_Status</th>\n",
              "      <th>Board_ID</th>\n",
              "      <th>Cancel_Date</th>\n",
              "      <th>Cancel_Rsn_ID</th>\n",
              "      <th>Reg_Date</th>\n",
              "      <th>Pers_pos</th>\n",
              "      <th>Guest_ID</th>\n",
              "      <th>Stay_Length</th>\n",
              "    </tr>\n",
              "  </thead>\n",
              "  <tbody>\n",
              "    <tr>\n",
              "      <th>0</th>\n",
              "      <td>AGR1</td>\n",
              "      <td>3681294</td>\n",
              "      <td>90003186</td>\n",
              "      <td>2019-02-16</td>\n",
              "      <td>2019-02-17</td>\n",
              "      <td>2</td>\n",
              "      <td>DBL</td>\n",
              "      <td></td>\n",
              "      <td>6</td>\n",
              "      <td>ONLYROOM</td>\n",
              "      <td>23.01.2019</td>\n",
              "      <td>1</td>\n",
              "      <td>05.06.2018</td>\n",
              "      <td>1</td>\n",
              "      <td>0</td>\n",
              "      <td>1</td>\n",
              "    </tr>\n",
              "    <tr>\n",
              "      <th>1</th>\n",
              "      <td>AGR1</td>\n",
              "      <td>3681294</td>\n",
              "      <td>90003186</td>\n",
              "      <td>2019-02-16</td>\n",
              "      <td>2019-02-17</td>\n",
              "      <td>2</td>\n",
              "      <td>DBL</td>\n",
              "      <td></td>\n",
              "      <td>6</td>\n",
              "      <td>ONLYROOM</td>\n",
              "      <td>23.01.2019</td>\n",
              "      <td>1</td>\n",
              "      <td>05.06.2018</td>\n",
              "      <td>2</td>\n",
              "      <td>0</td>\n",
              "      <td>1</td>\n",
              "    </tr>\n",
              "    <tr>\n",
              "      <th>2</th>\n",
              "      <td>AGR1</td>\n",
              "      <td>3681296</td>\n",
              "      <td>90003186</td>\n",
              "      <td>2019-02-16</td>\n",
              "      <td>2019-02-17</td>\n",
              "      <td>2</td>\n",
              "      <td>DBL</td>\n",
              "      <td></td>\n",
              "      <td>6</td>\n",
              "      <td>ONLYROOM</td>\n",
              "      <td>23.01.2019</td>\n",
              "      <td>1</td>\n",
              "      <td>05.06.2018</td>\n",
              "      <td>1</td>\n",
              "      <td>0</td>\n",
              "      <td>1</td>\n",
              "    </tr>\n",
              "    <tr>\n",
              "      <th>3</th>\n",
              "      <td>AGR1</td>\n",
              "      <td>3681296</td>\n",
              "      <td>90003186</td>\n",
              "      <td>2019-02-16</td>\n",
              "      <td>2019-02-17</td>\n",
              "      <td>2</td>\n",
              "      <td>DBL</td>\n",
              "      <td></td>\n",
              "      <td>6</td>\n",
              "      <td>ONLYROOM</td>\n",
              "      <td>23.01.2019</td>\n",
              "      <td>1</td>\n",
              "      <td>05.06.2018</td>\n",
              "      <td>2</td>\n",
              "      <td>0</td>\n",
              "      <td>1</td>\n",
              "    </tr>\n",
              "    <tr>\n",
              "      <th>4</th>\n",
              "      <td>AGR1</td>\n",
              "      <td>3681298</td>\n",
              "      <td>90003186</td>\n",
              "      <td>2019-02-16</td>\n",
              "      <td>2019-02-17</td>\n",
              "      <td>2</td>\n",
              "      <td>DBL</td>\n",
              "      <td></td>\n",
              "      <td>6</td>\n",
              "      <td>ONLYROOM</td>\n",
              "      <td>23.01.2019</td>\n",
              "      <td>1</td>\n",
              "      <td>05.06.2018</td>\n",
              "      <td>1</td>\n",
              "      <td>0</td>\n",
              "      <td>1</td>\n",
              "    </tr>\n",
              "    <tr>\n",
              "      <th>...</th>\n",
              "      <td>...</td>\n",
              "      <td>...</td>\n",
              "      <td>...</td>\n",
              "      <td>...</td>\n",
              "      <td>...</td>\n",
              "      <td>...</td>\n",
              "      <td>...</td>\n",
              "      <td>...</td>\n",
              "      <td>...</td>\n",
              "      <td>...</td>\n",
              "      <td>...</td>\n",
              "      <td>...</td>\n",
              "      <td>...</td>\n",
              "      <td>...</td>\n",
              "      <td>...</td>\n",
              "      <td>...</td>\n",
              "    </tr>\n",
              "    <tr>\n",
              "      <th>1579429</th>\n",
              "      <td>VTZ1</td>\n",
              "      <td>3716626</td>\n",
              "      <td>90400034</td>\n",
              "      <td>2018-06-30</td>\n",
              "      <td>2018-07-31</td>\n",
              "      <td>2</td>\n",
              "      <td>STD</td>\n",
              "      <td></td>\n",
              "      <td>3</td>\n",
              "      <td>ONLYROOM</td>\n",
              "      <td>00.00.0000</td>\n",
              "      <td></td>\n",
              "      <td>04.06.2018</td>\n",
              "      <td>1</td>\n",
              "      <td>3235321</td>\n",
              "      <td>31</td>\n",
              "    </tr>\n",
              "    <tr>\n",
              "      <th>1579430</th>\n",
              "      <td>VTZ1</td>\n",
              "      <td>3716626</td>\n",
              "      <td>90400034</td>\n",
              "      <td>2018-06-30</td>\n",
              "      <td>2018-07-31</td>\n",
              "      <td>2</td>\n",
              "      <td>STD</td>\n",
              "      <td></td>\n",
              "      <td>3</td>\n",
              "      <td>ONLYROOM</td>\n",
              "      <td>00.00.0000</td>\n",
              "      <td></td>\n",
              "      <td>04.06.2018</td>\n",
              "      <td>2</td>\n",
              "      <td>3266986</td>\n",
              "      <td>31</td>\n",
              "    </tr>\n",
              "    <tr>\n",
              "      <th>1579433</th>\n",
              "      <td>VTZ1</td>\n",
              "      <td>3716764</td>\n",
              "      <td>90400034</td>\n",
              "      <td>2018-06-30</td>\n",
              "      <td>2018-07-31</td>\n",
              "      <td>1</td>\n",
              "      <td>STD</td>\n",
              "      <td></td>\n",
              "      <td>3</td>\n",
              "      <td>ONLYROOM</td>\n",
              "      <td>00.00.0000</td>\n",
              "      <td></td>\n",
              "      <td>30.06.2018</td>\n",
              "      <td>1</td>\n",
              "      <td>2682790</td>\n",
              "      <td>31</td>\n",
              "    </tr>\n",
              "    <tr>\n",
              "      <th>1579434</th>\n",
              "      <td>VTZ1</td>\n",
              "      <td>3716887</td>\n",
              "      <td>90400034</td>\n",
              "      <td>2018-06-30</td>\n",
              "      <td>2018-08-08</td>\n",
              "      <td>2</td>\n",
              "      <td>STD</td>\n",
              "      <td>SSR</td>\n",
              "      <td>3</td>\n",
              "      <td>ONLYROOM</td>\n",
              "      <td>00.00.0000</td>\n",
              "      <td></td>\n",
              "      <td>30.06.2018</td>\n",
              "      <td>1</td>\n",
              "      <td>929415</td>\n",
              "      <td>39</td>\n",
              "    </tr>\n",
              "    <tr>\n",
              "      <th>1579435</th>\n",
              "      <td>VTZ1</td>\n",
              "      <td>3716887</td>\n",
              "      <td>90400034</td>\n",
              "      <td>2018-06-30</td>\n",
              "      <td>2018-08-08</td>\n",
              "      <td>2</td>\n",
              "      <td>STD</td>\n",
              "      <td>SSR</td>\n",
              "      <td>3</td>\n",
              "      <td>ONLYROOM</td>\n",
              "      <td>00.00.0000</td>\n",
              "      <td></td>\n",
              "      <td>30.06.2018</td>\n",
              "      <td>2</td>\n",
              "      <td>3339500</td>\n",
              "      <td>39</td>\n",
              "    </tr>\n",
              "  </tbody>\n",
              "</table>\n",
              "<p>1292493 rows × 16 columns</p>\n",
              "</div>"
            ],
            "text/plain": [
              "        Hotel_ID  Reservation_ID  Main_Cust_ID  ... Pers_pos Guest_ID  Stay_Length\n",
              "0           AGR1         3681294      90003186  ...        1        0            1\n",
              "1           AGR1         3681294      90003186  ...        2        0            1\n",
              "2           AGR1         3681296      90003186  ...        1        0            1\n",
              "3           AGR1         3681296      90003186  ...        2        0            1\n",
              "4           AGR1         3681298      90003186  ...        1        0            1\n",
              "...          ...             ...           ...  ...      ...      ...          ...\n",
              "1579429     VTZ1         3716626      90400034  ...        1  3235321           31\n",
              "1579430     VTZ1         3716626      90400034  ...        2  3266986           31\n",
              "1579433     VTZ1         3716764      90400034  ...        1  2682790           31\n",
              "1579434     VTZ1         3716887      90400034  ...        1   929415           39\n",
              "1579435     VTZ1         3716887      90400034  ...        2  3339500           39\n",
              "\n",
              "[1292493 rows x 16 columns]"
            ]
          },
          "metadata": {
            "tags": []
          },
          "execution_count": 135
        }
      ]
    },
    {
      "cell_type": "code",
      "metadata": {
        "id": "pDF5EsV5G2fb"
      },
      "source": [
        ""
      ],
      "execution_count": null,
      "outputs": []
    }
  ]
}