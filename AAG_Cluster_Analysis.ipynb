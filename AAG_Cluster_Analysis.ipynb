{
  "nbformat": 4,
  "nbformat_minor": 0,
  "metadata": {
    "colab": {
      "name": "AAG-Cluster-Analysis.ipynb",
      "provenance": [],
      "collapsed_sections": [],
      "authorship_tag": "ABX9TyOaP9lzqIhMSnnj1QWPbwo7",
      "include_colab_link": true
    },
    "kernelspec": {
      "name": "python3",
      "display_name": "Python 3"
    }
  },
  "cells": [
    {
      "cell_type": "markdown",
      "metadata": {
        "id": "view-in-github",
        "colab_type": "text"
      },
      "source": [
        "<a href=\"https://colab.research.google.com/github/codeRSH/AAG-DS/blob/main/AAG_Cluster_Analysis.ipynb\" target=\"_parent\"><img src=\"https://colab.research.google.com/assets/colab-badge.svg\" alt=\"Open In Colab\"/></a>"
      ]
    },
    {
      "cell_type": "markdown",
      "metadata": {
        "id": "7Yn2wVOeeAQX"
      },
      "source": [
        "# Cluster Analysis Using Python"
      ]
    },
    {
      "cell_type": "markdown",
      "metadata": {
        "id": "YzA0iwGOq0Pm"
      },
      "source": [
        "## Initial Setup"
      ]
    },
    {
      "cell_type": "markdown",
      "metadata": {
        "id": "B3ekGsF9qj0T"
      },
      "source": [
        "### Mount Drive to Read files"
      ]
    },
    {
      "cell_type": "code",
      "metadata": {
        "id": "BhBkh7OAgIu0",
        "colab": {
          "base_uri": "https://localhost:8080/"
        },
        "outputId": "f0c34b6b-6c88-4eb4-cb53-c040ccc3a7d3"
      },
      "source": [
        "from google.colab import drive\n",
        "\n",
        "drive.mount('/content/drive')"
      ],
      "execution_count": 274,
      "outputs": [
        {
          "output_type": "stream",
          "text": [
            "Drive already mounted at /content/drive; to attempt to forcibly remount, call drive.mount(\"/content/drive\", force_remount=True).\n"
          ],
          "name": "stdout"
        }
      ]
    },
    {
      "cell_type": "markdown",
      "metadata": {
        "id": "3crOX2IwgUIq"
      },
      "source": [
        "### Import All Relevant Libraries"
      ]
    },
    {
      "cell_type": "code",
      "metadata": {
        "id": "QvlOLYb6gN3T"
      },
      "source": [
        "import glob\n",
        "import pandas as pd\n",
        "import numpy as np"
      ],
      "execution_count": 275,
      "outputs": []
    },
    {
      "cell_type": "markdown",
      "metadata": {
        "id": "0VCwwRoH17TB"
      },
      "source": [
        "### Make Plots show within the notebook output"
      ]
    },
    {
      "cell_type": "code",
      "metadata": {
        "id": "WpuEe0Vieo8-"
      },
      "source": [
        "import matplotlib as mp\r\n",
        "import matplotlib.pyplot as plt\r\n",
        "%matplotlib inline"
      ],
      "execution_count": 276,
      "outputs": []
    },
    {
      "cell_type": "markdown",
      "metadata": {
        "id": "z0xukazU33I1"
      },
      "source": [
        "### Ignore Warnings (for clean output)"
      ]
    },
    {
      "cell_type": "code",
      "metadata": {
        "id": "rbLT-i5v3107"
      },
      "source": [
        "import warnings\r\n",
        "warnings.filterwarnings('ignore')"
      ],
      "execution_count": 277,
      "outputs": []
    },
    {
      "cell_type": "markdown",
      "metadata": {
        "id": "TlbbMgIghPqS"
      },
      "source": [
        "### Define File Paths"
      ]
    },
    {
      "cell_type": "code",
      "metadata": {
        "id": "QuLKHcEnhUop"
      },
      "source": [
        "init_input_path = \"/content/drive/MyDrive/AAG DS Folder/Capstone/\"\n",
        "\n",
        "input_cluster_path = init_input_path + \"cluster/*csv\"\n",
        "\n",
        "init_output_path = \"/content/drive/MyDrive/AAG DS Folder/Capstone/output/\"\n",
        "ouptut_cluster_path = init_output_path + \"cluster_final_analysis.csv\""
      ],
      "execution_count": 278,
      "outputs": []
    },
    {
      "cell_type": "markdown",
      "metadata": {
        "id": "83d79DN3gker"
      },
      "source": [
        "## Data Loading and Wrangling"
      ]
    },
    {
      "cell_type": "markdown",
      "metadata": {
        "id": "1WRlyKJ4Ocwt"
      },
      "source": [
        "### Read Cluster Input Data"
      ]
    },
    {
      "cell_type": "code",
      "metadata": {
        "colab": {
          "base_uri": "https://localhost:8080/",
          "height": 489
        },
        "id": "Ze1yl-_DfaWn",
        "outputId": "c3b7301d-e7d4-4e49-dfbb-ed58e115e56e"
      },
      "source": [
        "# Input Cluster Data Frame\r\n",
        "cluster_data = pd.DataFrame()\r\n",
        "\r\n",
        "print(glob.glob(input_cluster_path))\r\n",
        "\r\n",
        "# Read the Cluster data from all the available csv files\r\n",
        "for file in glob.glob(input_cluster_path):\r\n",
        "    data = pd.read_csv(file, parse_dates=True, encoding=\"latin1\",\r\n",
        "                       error_bad_lines=False, usecols = [*range(1, 10), *range(11, 20)] )\r\n",
        "    cluster_data = cluster_data.append(data)\r\n",
        "\r\n",
        "cluster_data.columns = ['Guest_ID', 'Reservation_Count', 'Hotel_Count', 'Gender', \r\n",
        "                     'Metro', 'Non_Metro', 'EARLY', 'LATE', 'MP', 'MEAL',\t\r\n",
        "                     'ROOM', 'VAS', 'Country_Key', 'Stay_Days', 'Revenue_Per_Pax',\t\r\n",
        "                     'Guest_Category', 'Lead_Days',\t'Cluster' ]\r\n",
        "\r\n",
        "cluster_data"
      ],
      "execution_count": 279,
      "outputs": [
        {
          "output_type": "stream",
          "text": [
            "['/content/drive/MyDrive/AAG DS Folder/Capstone/cluster/kmeans_clusters.csv']\n"
          ],
          "name": "stdout"
        },
        {
          "output_type": "execute_result",
          "data": {
            "text/html": [
              "<div>\n",
              "<style scoped>\n",
              "    .dataframe tbody tr th:only-of-type {\n",
              "        vertical-align: middle;\n",
              "    }\n",
              "\n",
              "    .dataframe tbody tr th {\n",
              "        vertical-align: top;\n",
              "    }\n",
              "\n",
              "    .dataframe thead th {\n",
              "        text-align: right;\n",
              "    }\n",
              "</style>\n",
              "<table border=\"1\" class=\"dataframe\">\n",
              "  <thead>\n",
              "    <tr style=\"text-align: right;\">\n",
              "      <th></th>\n",
              "      <th>Guest_ID</th>\n",
              "      <th>Reservation_Count</th>\n",
              "      <th>Hotel_Count</th>\n",
              "      <th>Gender</th>\n",
              "      <th>Metro</th>\n",
              "      <th>Non_Metro</th>\n",
              "      <th>EARLY</th>\n",
              "      <th>LATE</th>\n",
              "      <th>MP</th>\n",
              "      <th>MEAL</th>\n",
              "      <th>ROOM</th>\n",
              "      <th>VAS</th>\n",
              "      <th>Country_Key</th>\n",
              "      <th>Stay_Days</th>\n",
              "      <th>Revenue_Per_Pax</th>\n",
              "      <th>Guest_Category</th>\n",
              "      <th>Lead_Days</th>\n",
              "      <th>Cluster</th>\n",
              "    </tr>\n",
              "  </thead>\n",
              "  <tbody>\n",
              "    <tr>\n",
              "      <th>0</th>\n",
              "      <td>39853</td>\n",
              "      <td>1</td>\n",
              "      <td>1</td>\n",
              "      <td>Undisclosed</td>\n",
              "      <td>1</td>\n",
              "      <td>0</td>\n",
              "      <td>1.0</td>\n",
              "      <td>1.0</td>\n",
              "      <td>1.0</td>\n",
              "      <td>1.0</td>\n",
              "      <td>3275.774400</td>\n",
              "      <td>1.0</td>\n",
              "      <td>IN</td>\n",
              "      <td>1</td>\n",
              "      <td>4212.774400</td>\n",
              "      <td>Individual</td>\n",
              "      <td>1.000000</td>\n",
              "      <td>4</td>\n",
              "    </tr>\n",
              "    <tr>\n",
              "      <th>1</th>\n",
              "      <td>55125</td>\n",
              "      <td>4</td>\n",
              "      <td>1</td>\n",
              "      <td>Undisclosed</td>\n",
              "      <td>4</td>\n",
              "      <td>0</td>\n",
              "      <td>1.0</td>\n",
              "      <td>1.0</td>\n",
              "      <td>1.0</td>\n",
              "      <td>1.0</td>\n",
              "      <td>16078.568000</td>\n",
              "      <td>1.0</td>\n",
              "      <td>IN</td>\n",
              "      <td>2</td>\n",
              "      <td>9577.284000</td>\n",
              "      <td>Middle Management</td>\n",
              "      <td>2.750000</td>\n",
              "      <td>3</td>\n",
              "    </tr>\n",
              "    <tr>\n",
              "      <th>2</th>\n",
              "      <td>60873</td>\n",
              "      <td>3</td>\n",
              "      <td>2</td>\n",
              "      <td>Undisclosed</td>\n",
              "      <td>2</td>\n",
              "      <td>1</td>\n",
              "      <td>1.0</td>\n",
              "      <td>1.0</td>\n",
              "      <td>1.0</td>\n",
              "      <td>1.0</td>\n",
              "      <td>6137.915533</td>\n",
              "      <td>1.0</td>\n",
              "      <td>IN</td>\n",
              "      <td>6</td>\n",
              "      <td>20389.146600</td>\n",
              "      <td>Middle Management</td>\n",
              "      <td>2.000000</td>\n",
              "      <td>3</td>\n",
              "    </tr>\n",
              "    <tr>\n",
              "      <th>3</th>\n",
              "      <td>74138</td>\n",
              "      <td>8</td>\n",
              "      <td>1</td>\n",
              "      <td>Undisclosed</td>\n",
              "      <td>8</td>\n",
              "      <td>0</td>\n",
              "      <td>1.0</td>\n",
              "      <td>1.0</td>\n",
              "      <td>1.0</td>\n",
              "      <td>1.0</td>\n",
              "      <td>11308.820000</td>\n",
              "      <td>1.0</td>\n",
              "      <td>IN</td>\n",
              "      <td>1</td>\n",
              "      <td>4566.273333</td>\n",
              "      <td>Middle Management</td>\n",
              "      <td>0.666667</td>\n",
              "      <td>3</td>\n",
              "    </tr>\n",
              "    <tr>\n",
              "      <th>4</th>\n",
              "      <td>112568</td>\n",
              "      <td>1</td>\n",
              "      <td>1</td>\n",
              "      <td>Undisclosed</td>\n",
              "      <td>1</td>\n",
              "      <td>0</td>\n",
              "      <td>1.0</td>\n",
              "      <td>1.0</td>\n",
              "      <td>1.0</td>\n",
              "      <td>1.0</td>\n",
              "      <td>5341.320000</td>\n",
              "      <td>1.0</td>\n",
              "      <td>IN</td>\n",
              "      <td>1</td>\n",
              "      <td>5822.320000</td>\n",
              "      <td>Individual</td>\n",
              "      <td>1.000000</td>\n",
              "      <td>4</td>\n",
              "    </tr>\n",
              "    <tr>\n",
              "      <th>...</th>\n",
              "      <td>...</td>\n",
              "      <td>...</td>\n",
              "      <td>...</td>\n",
              "      <td>...</td>\n",
              "      <td>...</td>\n",
              "      <td>...</td>\n",
              "      <td>...</td>\n",
              "      <td>...</td>\n",
              "      <td>...</td>\n",
              "      <td>...</td>\n",
              "      <td>...</td>\n",
              "      <td>...</td>\n",
              "      <td>...</td>\n",
              "      <td>...</td>\n",
              "      <td>...</td>\n",
              "      <td>...</td>\n",
              "      <td>...</td>\n",
              "      <td>...</td>\n",
              "    </tr>\n",
              "    <tr>\n",
              "      <th>7193</th>\n",
              "      <td>3757436</td>\n",
              "      <td>1</td>\n",
              "      <td>1</td>\n",
              "      <td>Male</td>\n",
              "      <td>1</td>\n",
              "      <td>0</td>\n",
              "      <td>1.0</td>\n",
              "      <td>1.0</td>\n",
              "      <td>1.0</td>\n",
              "      <td>1.0</td>\n",
              "      <td>3457.245000</td>\n",
              "      <td>1.0</td>\n",
              "      <td>IN</td>\n",
              "      <td>2</td>\n",
              "      <td>10890.880000</td>\n",
              "      <td>Family</td>\n",
              "      <td>319.000000</td>\n",
              "      <td>5</td>\n",
              "    </tr>\n",
              "    <tr>\n",
              "      <th>7194</th>\n",
              "      <td>3757460</td>\n",
              "      <td>1</td>\n",
              "      <td>1</td>\n",
              "      <td>Undisclosed</td>\n",
              "      <td>1</td>\n",
              "      <td>0</td>\n",
              "      <td>1.0</td>\n",
              "      <td>1.0</td>\n",
              "      <td>1.0</td>\n",
              "      <td>1.0</td>\n",
              "      <td>3438.410000</td>\n",
              "      <td>1.0</td>\n",
              "      <td>IN</td>\n",
              "      <td>2</td>\n",
              "      <td>10603.005000</td>\n",
              "      <td>Family</td>\n",
              "      <td>319.000000</td>\n",
              "      <td>2</td>\n",
              "    </tr>\n",
              "    <tr>\n",
              "      <th>7195</th>\n",
              "      <td>3757466</td>\n",
              "      <td>1</td>\n",
              "      <td>1</td>\n",
              "      <td>Undisclosed</td>\n",
              "      <td>1</td>\n",
              "      <td>0</td>\n",
              "      <td>1.0</td>\n",
              "      <td>1.0</td>\n",
              "      <td>1.0</td>\n",
              "      <td>1.0</td>\n",
              "      <td>3438.410000</td>\n",
              "      <td>1.0</td>\n",
              "      <td>IN</td>\n",
              "      <td>2</td>\n",
              "      <td>10603.005000</td>\n",
              "      <td>Family</td>\n",
              "      <td>319.000000</td>\n",
              "      <td>2</td>\n",
              "    </tr>\n",
              "    <tr>\n",
              "      <th>7196</th>\n",
              "      <td>3757480</td>\n",
              "      <td>1</td>\n",
              "      <td>1</td>\n",
              "      <td>Female</td>\n",
              "      <td>1</td>\n",
              "      <td>0</td>\n",
              "      <td>1.0</td>\n",
              "      <td>1.0</td>\n",
              "      <td>1.0</td>\n",
              "      <td>1.0</td>\n",
              "      <td>3438.410000</td>\n",
              "      <td>1.0</td>\n",
              "      <td>IN</td>\n",
              "      <td>2</td>\n",
              "      <td>10603.005000</td>\n",
              "      <td>Family</td>\n",
              "      <td>319.000000</td>\n",
              "      <td>2</td>\n",
              "    </tr>\n",
              "    <tr>\n",
              "      <th>7197</th>\n",
              "      <td>3757499</td>\n",
              "      <td>1</td>\n",
              "      <td>1</td>\n",
              "      <td>Undisclosed</td>\n",
              "      <td>1</td>\n",
              "      <td>0</td>\n",
              "      <td>1.0</td>\n",
              "      <td>1.0</td>\n",
              "      <td>1.0</td>\n",
              "      <td>1.0</td>\n",
              "      <td>3438.410000</td>\n",
              "      <td>1.0</td>\n",
              "      <td>IN</td>\n",
              "      <td>2</td>\n",
              "      <td>10603.005000</td>\n",
              "      <td>Family</td>\n",
              "      <td>319.000000</td>\n",
              "      <td>2</td>\n",
              "    </tr>\n",
              "  </tbody>\n",
              "</table>\n",
              "<p>7198 rows × 18 columns</p>\n",
              "</div>"
            ],
            "text/plain": [
              "      Guest_ID  Reservation_Count  ...   Lead_Days Cluster\n",
              "0        39853                  1  ...    1.000000       4\n",
              "1        55125                  4  ...    2.750000       3\n",
              "2        60873                  3  ...    2.000000       3\n",
              "3        74138                  8  ...    0.666667       3\n",
              "4       112568                  1  ...    1.000000       4\n",
              "...        ...                ...  ...         ...     ...\n",
              "7193   3757436                  1  ...  319.000000       5\n",
              "7194   3757460                  1  ...  319.000000       2\n",
              "7195   3757466                  1  ...  319.000000       2\n",
              "7196   3757480                  1  ...  319.000000       2\n",
              "7197   3757499                  1  ...  319.000000       2\n",
              "\n",
              "[7198 rows x 18 columns]"
            ]
          },
          "metadata": {
            "tags": []
          },
          "execution_count": 279
        }
      ]
    },
    {
      "cell_type": "code",
      "metadata": {
        "id": "TJp-f1nGwD6n",
        "outputId": "cb589a97-f07e-471d-ebc0-e2297400f8d0",
        "colab": {
          "base_uri": "https://localhost:8080/",
          "height": 472
        }
      },
      "source": [
        "cluster_data[\"Lead_Days\"] = cluster_data[\"Lead_Days\"].round().astype(int)\r\n",
        "cluster_data"
      ],
      "execution_count": 280,
      "outputs": [
        {
          "output_type": "execute_result",
          "data": {
            "text/html": [
              "<div>\n",
              "<style scoped>\n",
              "    .dataframe tbody tr th:only-of-type {\n",
              "        vertical-align: middle;\n",
              "    }\n",
              "\n",
              "    .dataframe tbody tr th {\n",
              "        vertical-align: top;\n",
              "    }\n",
              "\n",
              "    .dataframe thead th {\n",
              "        text-align: right;\n",
              "    }\n",
              "</style>\n",
              "<table border=\"1\" class=\"dataframe\">\n",
              "  <thead>\n",
              "    <tr style=\"text-align: right;\">\n",
              "      <th></th>\n",
              "      <th>Guest_ID</th>\n",
              "      <th>Reservation_Count</th>\n",
              "      <th>Hotel_Count</th>\n",
              "      <th>Gender</th>\n",
              "      <th>Metro</th>\n",
              "      <th>Non_Metro</th>\n",
              "      <th>EARLY</th>\n",
              "      <th>LATE</th>\n",
              "      <th>MP</th>\n",
              "      <th>MEAL</th>\n",
              "      <th>ROOM</th>\n",
              "      <th>VAS</th>\n",
              "      <th>Country_Key</th>\n",
              "      <th>Stay_Days</th>\n",
              "      <th>Revenue_Per_Pax</th>\n",
              "      <th>Guest_Category</th>\n",
              "      <th>Lead_Days</th>\n",
              "      <th>Cluster</th>\n",
              "    </tr>\n",
              "  </thead>\n",
              "  <tbody>\n",
              "    <tr>\n",
              "      <th>0</th>\n",
              "      <td>39853</td>\n",
              "      <td>1</td>\n",
              "      <td>1</td>\n",
              "      <td>Undisclosed</td>\n",
              "      <td>1</td>\n",
              "      <td>0</td>\n",
              "      <td>1.0</td>\n",
              "      <td>1.0</td>\n",
              "      <td>1.0</td>\n",
              "      <td>1.0</td>\n",
              "      <td>3275.774400</td>\n",
              "      <td>1.0</td>\n",
              "      <td>IN</td>\n",
              "      <td>1</td>\n",
              "      <td>4212.774400</td>\n",
              "      <td>Individual</td>\n",
              "      <td>1</td>\n",
              "      <td>4</td>\n",
              "    </tr>\n",
              "    <tr>\n",
              "      <th>1</th>\n",
              "      <td>55125</td>\n",
              "      <td>4</td>\n",
              "      <td>1</td>\n",
              "      <td>Undisclosed</td>\n",
              "      <td>4</td>\n",
              "      <td>0</td>\n",
              "      <td>1.0</td>\n",
              "      <td>1.0</td>\n",
              "      <td>1.0</td>\n",
              "      <td>1.0</td>\n",
              "      <td>16078.568000</td>\n",
              "      <td>1.0</td>\n",
              "      <td>IN</td>\n",
              "      <td>2</td>\n",
              "      <td>9577.284000</td>\n",
              "      <td>Middle Management</td>\n",
              "      <td>3</td>\n",
              "      <td>3</td>\n",
              "    </tr>\n",
              "    <tr>\n",
              "      <th>2</th>\n",
              "      <td>60873</td>\n",
              "      <td>3</td>\n",
              "      <td>2</td>\n",
              "      <td>Undisclosed</td>\n",
              "      <td>2</td>\n",
              "      <td>1</td>\n",
              "      <td>1.0</td>\n",
              "      <td>1.0</td>\n",
              "      <td>1.0</td>\n",
              "      <td>1.0</td>\n",
              "      <td>6137.915533</td>\n",
              "      <td>1.0</td>\n",
              "      <td>IN</td>\n",
              "      <td>6</td>\n",
              "      <td>20389.146600</td>\n",
              "      <td>Middle Management</td>\n",
              "      <td>2</td>\n",
              "      <td>3</td>\n",
              "    </tr>\n",
              "    <tr>\n",
              "      <th>3</th>\n",
              "      <td>74138</td>\n",
              "      <td>8</td>\n",
              "      <td>1</td>\n",
              "      <td>Undisclosed</td>\n",
              "      <td>8</td>\n",
              "      <td>0</td>\n",
              "      <td>1.0</td>\n",
              "      <td>1.0</td>\n",
              "      <td>1.0</td>\n",
              "      <td>1.0</td>\n",
              "      <td>11308.820000</td>\n",
              "      <td>1.0</td>\n",
              "      <td>IN</td>\n",
              "      <td>1</td>\n",
              "      <td>4566.273333</td>\n",
              "      <td>Middle Management</td>\n",
              "      <td>1</td>\n",
              "      <td>3</td>\n",
              "    </tr>\n",
              "    <tr>\n",
              "      <th>4</th>\n",
              "      <td>112568</td>\n",
              "      <td>1</td>\n",
              "      <td>1</td>\n",
              "      <td>Undisclosed</td>\n",
              "      <td>1</td>\n",
              "      <td>0</td>\n",
              "      <td>1.0</td>\n",
              "      <td>1.0</td>\n",
              "      <td>1.0</td>\n",
              "      <td>1.0</td>\n",
              "      <td>5341.320000</td>\n",
              "      <td>1.0</td>\n",
              "      <td>IN</td>\n",
              "      <td>1</td>\n",
              "      <td>5822.320000</td>\n",
              "      <td>Individual</td>\n",
              "      <td>1</td>\n",
              "      <td>4</td>\n",
              "    </tr>\n",
              "    <tr>\n",
              "      <th>...</th>\n",
              "      <td>...</td>\n",
              "      <td>...</td>\n",
              "      <td>...</td>\n",
              "      <td>...</td>\n",
              "      <td>...</td>\n",
              "      <td>...</td>\n",
              "      <td>...</td>\n",
              "      <td>...</td>\n",
              "      <td>...</td>\n",
              "      <td>...</td>\n",
              "      <td>...</td>\n",
              "      <td>...</td>\n",
              "      <td>...</td>\n",
              "      <td>...</td>\n",
              "      <td>...</td>\n",
              "      <td>...</td>\n",
              "      <td>...</td>\n",
              "      <td>...</td>\n",
              "    </tr>\n",
              "    <tr>\n",
              "      <th>7193</th>\n",
              "      <td>3757436</td>\n",
              "      <td>1</td>\n",
              "      <td>1</td>\n",
              "      <td>Male</td>\n",
              "      <td>1</td>\n",
              "      <td>0</td>\n",
              "      <td>1.0</td>\n",
              "      <td>1.0</td>\n",
              "      <td>1.0</td>\n",
              "      <td>1.0</td>\n",
              "      <td>3457.245000</td>\n",
              "      <td>1.0</td>\n",
              "      <td>IN</td>\n",
              "      <td>2</td>\n",
              "      <td>10890.880000</td>\n",
              "      <td>Family</td>\n",
              "      <td>319</td>\n",
              "      <td>5</td>\n",
              "    </tr>\n",
              "    <tr>\n",
              "      <th>7194</th>\n",
              "      <td>3757460</td>\n",
              "      <td>1</td>\n",
              "      <td>1</td>\n",
              "      <td>Undisclosed</td>\n",
              "      <td>1</td>\n",
              "      <td>0</td>\n",
              "      <td>1.0</td>\n",
              "      <td>1.0</td>\n",
              "      <td>1.0</td>\n",
              "      <td>1.0</td>\n",
              "      <td>3438.410000</td>\n",
              "      <td>1.0</td>\n",
              "      <td>IN</td>\n",
              "      <td>2</td>\n",
              "      <td>10603.005000</td>\n",
              "      <td>Family</td>\n",
              "      <td>319</td>\n",
              "      <td>2</td>\n",
              "    </tr>\n",
              "    <tr>\n",
              "      <th>7195</th>\n",
              "      <td>3757466</td>\n",
              "      <td>1</td>\n",
              "      <td>1</td>\n",
              "      <td>Undisclosed</td>\n",
              "      <td>1</td>\n",
              "      <td>0</td>\n",
              "      <td>1.0</td>\n",
              "      <td>1.0</td>\n",
              "      <td>1.0</td>\n",
              "      <td>1.0</td>\n",
              "      <td>3438.410000</td>\n",
              "      <td>1.0</td>\n",
              "      <td>IN</td>\n",
              "      <td>2</td>\n",
              "      <td>10603.005000</td>\n",
              "      <td>Family</td>\n",
              "      <td>319</td>\n",
              "      <td>2</td>\n",
              "    </tr>\n",
              "    <tr>\n",
              "      <th>7196</th>\n",
              "      <td>3757480</td>\n",
              "      <td>1</td>\n",
              "      <td>1</td>\n",
              "      <td>Female</td>\n",
              "      <td>1</td>\n",
              "      <td>0</td>\n",
              "      <td>1.0</td>\n",
              "      <td>1.0</td>\n",
              "      <td>1.0</td>\n",
              "      <td>1.0</td>\n",
              "      <td>3438.410000</td>\n",
              "      <td>1.0</td>\n",
              "      <td>IN</td>\n",
              "      <td>2</td>\n",
              "      <td>10603.005000</td>\n",
              "      <td>Family</td>\n",
              "      <td>319</td>\n",
              "      <td>2</td>\n",
              "    </tr>\n",
              "    <tr>\n",
              "      <th>7197</th>\n",
              "      <td>3757499</td>\n",
              "      <td>1</td>\n",
              "      <td>1</td>\n",
              "      <td>Undisclosed</td>\n",
              "      <td>1</td>\n",
              "      <td>0</td>\n",
              "      <td>1.0</td>\n",
              "      <td>1.0</td>\n",
              "      <td>1.0</td>\n",
              "      <td>1.0</td>\n",
              "      <td>3438.410000</td>\n",
              "      <td>1.0</td>\n",
              "      <td>IN</td>\n",
              "      <td>2</td>\n",
              "      <td>10603.005000</td>\n",
              "      <td>Family</td>\n",
              "      <td>319</td>\n",
              "      <td>2</td>\n",
              "    </tr>\n",
              "  </tbody>\n",
              "</table>\n",
              "<p>7198 rows × 18 columns</p>\n",
              "</div>"
            ],
            "text/plain": [
              "      Guest_ID  Reservation_Count  ...  Lead_Days Cluster\n",
              "0        39853                  1  ...          1       4\n",
              "1        55125                  4  ...          3       3\n",
              "2        60873                  3  ...          2       3\n",
              "3        74138                  8  ...          1       3\n",
              "4       112568                  1  ...          1       4\n",
              "...        ...                ...  ...        ...     ...\n",
              "7193   3757436                  1  ...        319       5\n",
              "7194   3757460                  1  ...        319       2\n",
              "7195   3757466                  1  ...        319       2\n",
              "7196   3757480                  1  ...        319       2\n",
              "7197   3757499                  1  ...        319       2\n",
              "\n",
              "[7198 rows x 18 columns]"
            ]
          },
          "metadata": {
            "tags": []
          },
          "execution_count": 280
        }
      ]
    },
    {
      "cell_type": "code",
      "metadata": {
        "colab": {
          "base_uri": "https://localhost:8080/"
        },
        "id": "L7PND55zxbXe",
        "outputId": "ad362a3b-9a81-4b1e-f466-891c42ad3b42"
      },
      "source": [
        "# Determine the Number of guests\r\n",
        "num_of_guests = cluster_data[\"Guest_ID\"].nunique()\r\n",
        "num_of_guests"
      ],
      "execution_count": 281,
      "outputs": [
        {
          "output_type": "execute_result",
          "data": {
            "text/plain": [
              "7198"
            ]
          },
          "metadata": {
            "tags": []
          },
          "execution_count": 281
        }
      ]
    },
    {
      "cell_type": "code",
      "metadata": {
        "id": "gwQDJfVbybVt"
      },
      "source": [
        "cluster_analysis = pd.Series(index = ['Reservation_Count', \r\n",
        "                                      'Reserv_Count_1', 'Reserv_Count_2',\r\n",
        "                                      'Reserv_Count_3', 'Reserv_Count_4', \r\n",
        "                                      'Hotel_Count', \r\n",
        "                                      'Hotel_Count_1', 'Hotel_Count_2',\r\n",
        "                                      'Hotel_Count_3','Hotel_Count_4',\r\n",
        "                                      'Gender_M', 'Gender_F', 'Gender_Un',\r\n",
        "                                      'Metro', 'Non_Metro', 'EARLY', 'LATE', \r\n",
        "                                      'MP', 'MEAL', 'ROOM', 'VAS', 'Country_IN',\r\n",
        "                                      'Country_Non_IN', 'Stay_Days', 'Stay_Days_0',\r\n",
        "                                      'Stay_Days_1', 'Stay_Days_2', 'Stay_Days_3',\r\n",
        "                                      'Stay_Days_4', 'Stay_Days_5', 'Stay_Days_6',\r\n",
        "                                      'Stay_Days_0avg', 'Stay_Days_1avg', 'Stay_Days_2avg', \r\n",
        "                                      'Stay_Days_3avg', 'Stay_Days_4avg', 'Stay_Days_5avg', \r\n",
        "                                      'Stay_Days_6avg', 'Revenue_Per_Pax',\t'Guest_Category_Ind',\r\n",
        "                                      'Guest_Category_Fam', 'Guest_Category_MM', 'Guest_Category_JM', \r\n",
        "                                      'Lead_Days',  'Lead_Days_0',  'Lead_Days_1',\t\r\n",
        "                                      'Lead_Days_2',\t 'Lead_Days_3',\t 'Lead_Days_4',\t\r\n",
        "                                      'Lead_Days_5',\t 'Lead_Days_6',\t 'Lead_Days_7',\t\r\n",
        "                                      'Lead_Days_8',\t'Cluster' ])"
      ],
      "execution_count": 282,
      "outputs": []
    },
    {
      "cell_type": "code",
      "metadata": {
        "colab": {
          "base_uri": "https://localhost:8080/"
        },
        "id": "OLUTm_f576oB",
        "outputId": "408595b4-e5cb-41cf-ed35-c48cab9db9a2"
      },
      "source": [
        "cluster_analysis.shape"
      ],
      "execution_count": 283,
      "outputs": [
        {
          "output_type": "execute_result",
          "data": {
            "text/plain": [
              "(54,)"
            ]
          },
          "metadata": {
            "tags": []
          },
          "execution_count": 283
        }
      ]
    },
    {
      "cell_type": "code",
      "metadata": {
        "colab": {
          "base_uri": "https://localhost:8080/"
        },
        "id": "05bxahSg4CiN",
        "outputId": "4309afbf-0647-4d64-b7a6-d007e6e827a9"
      },
      "source": [
        "avg_of_cluster_data = round((cluster_data[['Reservation_Count', 'Hotel_Count', \r\n",
        "                           'Metro', 'Non_Metro', 'EARLY', 'LATE', 'MP', 'MEAL',\t\r\n",
        "                           'ROOM', 'VAS', 'Stay_Days', 'Revenue_Per_Pax',\t\r\n",
        "                           'Lead_Days'\t ]].sum() / num_of_guests), 2 )\r\n",
        "avg_of_cluster_data"
      ],
      "execution_count": 284,
      "outputs": [
        {
          "output_type": "execute_result",
          "data": {
            "text/plain": [
              "Reservation_Count        1.57\n",
              "Hotel_Count              1.03\n",
              "Metro                    1.55\n",
              "Non_Metro                0.02\n",
              "EARLY                    1.00\n",
              "LATE                     1.00\n",
              "MP                       1.00\n",
              "MEAL                     1.00\n",
              "ROOM                  5754.48\n",
              "VAS                      1.00\n",
              "Stay_Days                2.29\n",
              "Revenue_Per_Pax      10916.55\n",
              "Lead_Days               11.96\n",
              "dtype: float64"
            ]
          },
          "metadata": {
            "tags": []
          },
          "execution_count": 284
        }
      ]
    },
    {
      "cell_type": "code",
      "metadata": {
        "id": "0JJ7ugao6I6d"
      },
      "source": [
        "for ind in avg_of_cluster_data.index:\r\n",
        "  cluster_analysis[ind] = avg_of_cluster_data[ind]"
      ],
      "execution_count": 285,
      "outputs": []
    },
    {
      "cell_type": "code",
      "metadata": {
        "id": "0StHkczOB9a9"
      },
      "source": [
        "def get_freq_dist(col_name, main_df, last_count, num_total_records, analysis_df, init_label):\r\n",
        "    col_series = main_df[col_name].copy()\r\n",
        "    dist_df = col_series.value_counts()\r\n",
        "    # print(dist_df.head(10))\r\n",
        "    \r\n",
        "    # print(\"###############\")\r\n",
        "    dist_df.sort_index(inplace=True)\r\n",
        "    # print(dist_df.head(10))\r\n",
        "\r\n",
        "    # print(\"###############\")\r\n",
        "    # print(dist_df[last_count])\r\n",
        "\r\n",
        "    # print(\"#############\")\r\n",
        "    dist_df[last_count] = dist_df.loc[last_count:].sum()\r\n",
        "    # print(dist_df[last_count])\r\n",
        "    # print(dist_df.loc[last_count:])\r\n",
        "    \r\n",
        "    \r\n",
        "    # print(\"###############\")\r\n",
        "    dist_df = dist_df.loc[:last_count]\r\n",
        "    # print(dist_df)\r\n",
        "\r\n",
        "\r\n",
        "    # print(\"###############\")\r\n",
        "    dist_df_share = round(dist_df / num_total_records, 4) * 100\r\n",
        "    # print(dist_df_share)\r\n",
        "        \r\n",
        "    for ind in dist_df_share.index:\r\n",
        "        an_ind = init_label + str(ind)\r\n",
        "        analysis_df[an_ind] = dist_df_share[ind]\r\n",
        "\r\n",
        "    return analysis_df"
      ],
      "execution_count": 286,
      "outputs": []
    },
    {
      "cell_type": "code",
      "metadata": {
        "id": "sJ8rs_vKRF1L"
      },
      "source": [
        "\r\n",
        "cluster_analysis = get_freq_dist(col_name = \"Reservation_Count\", main_df = cluster_data, \r\n",
        "                                 last_count = 4 , num_total_records = num_of_guests, \r\n",
        "                                 analysis_df = cluster_analysis, init_label = 'Reserv_Count_'\r\n",
        "                                )\r\n",
        "\r\n",
        "# cluster_analysis"
      ],
      "execution_count": 287,
      "outputs": []
    },
    {
      "cell_type": "code",
      "metadata": {
        "id": "eZfUE5OhHpKp"
      },
      "source": [
        "cluster_analysis = get_freq_dist(col_name = \"Hotel_Count\", main_df = cluster_data, \r\n",
        "                                 last_count = 4, num_total_records = num_of_guests, \r\n",
        "                                 analysis_df = cluster_analysis, init_label = 'Hotel_Count_'\r\n",
        "                                )\r\n",
        "\r\n",
        "\r\n",
        "# cluster_analysis"
      ],
      "execution_count": 288,
      "outputs": []
    },
    {
      "cell_type": "code",
      "metadata": {
        "id": "HzyucXOwIUv3"
      },
      "source": [
        "cluster_analysis = get_freq_dist(col_name = \"Stay_Days\", main_df = cluster_data, \r\n",
        "                                  last_count = 6, \r\n",
        "                                  num_total_records = num_of_guests,\r\n",
        "                                  analysis_df = cluster_analysis, init_label = 'Stay_Days_'\r\n",
        "                                )\r\n",
        "\r\n",
        "\r\n",
        "# cluster_analysis"
      ],
      "execution_count": 289,
      "outputs": []
    },
    {
      "cell_type": "code",
      "metadata": {
        "id": "NNUebBDALTf9",
        "outputId": "80aa9c38-49ce-42cd-97b7-3f5e4aa80a49",
        "colab": {
          "base_uri": "https://localhost:8080/"
        }
      },
      "source": [
        "cluster_analysis = get_freq_dist(col_name = \"Lead_Days\", main_df = cluster_data, \r\n",
        "                                  last_count = 8, num_total_records = num_of_guests, \r\n",
        "                                  analysis_df = cluster_analysis, init_label = 'Lead_Days_'\r\n",
        "                                )\r\n",
        "\r\n",
        "\r\n",
        "cluster_analysis"
      ],
      "execution_count": 290,
      "outputs": [
        {
          "output_type": "execute_result",
          "data": {
            "text/plain": [
              "Reservation_Count         1.57\n",
              "Reserv_Count_1           75.90\n",
              "Reserv_Count_2           12.96\n",
              "Reserv_Count_3            4.74\n",
              "Reserv_Count_4            6.40\n",
              "Hotel_Count               1.03\n",
              "Hotel_Count_1            97.25\n",
              "Hotel_Count_2             2.32\n",
              "Hotel_Count_3             0.31\n",
              "Hotel_Count_4             0.13\n",
              "Gender_M                   NaN\n",
              "Gender_F                   NaN\n",
              "Gender_Un                  NaN\n",
              "Metro                     1.55\n",
              "Non_Metro                 0.02\n",
              "EARLY                     1.00\n",
              "LATE                      1.00\n",
              "MP                        1.00\n",
              "MEAL                      1.00\n",
              "ROOM                   5754.48\n",
              "VAS                       1.00\n",
              "Country_IN                 NaN\n",
              "Country_Non_IN             NaN\n",
              "Stay_Days                 2.29\n",
              "Stay_Days_0                NaN\n",
              "Stay_Days_1              47.93\n",
              "Stay_Days_2              27.87\n",
              "Stay_Days_3              11.70\n",
              "Stay_Days_4               4.14\n",
              "Stay_Days_5               2.20\n",
              "Stay_Days_6               6.17\n",
              "Stay_Days_0avg             NaN\n",
              "Stay_Days_1avg             NaN\n",
              "Stay_Days_2avg             NaN\n",
              "Stay_Days_3avg             NaN\n",
              "Stay_Days_4avg             NaN\n",
              "Stay_Days_5avg             NaN\n",
              "Stay_Days_6avg             NaN\n",
              "Revenue_Per_Pax       10916.55\n",
              "Guest_Category_Ind         NaN\n",
              "Guest_Category_Fam         NaN\n",
              "Guest_Category_MM          NaN\n",
              "Guest_Category_JM          NaN\n",
              "Lead_Days                11.96\n",
              "Lead_Days_0              26.08\n",
              "Lead_Days_1              17.80\n",
              "Lead_Days_2               9.82\n",
              "Lead_Days_3               5.95\n",
              "Lead_Days_4               5.58\n",
              "Lead_Days_5               3.54\n",
              "Lead_Days_6               3.99\n",
              "Lead_Days_7               2.04\n",
              "Lead_Days_8              25.20\n",
              "Cluster                    NaN\n",
              "dtype: float64"
            ]
          },
          "metadata": {
            "tags": []
          },
          "execution_count": 290
        }
      ]
    },
    {
      "cell_type": "code",
      "metadata": {
        "id": "7Bw6LWZ0vhx4",
        "outputId": "3dc5df4d-859c-4363-f72a-a620766876ed",
        "colab": {
          "base_uri": "https://localhost:8080/"
        }
      },
      "source": [
        "cluster_data[\"Lead_Days\"].count()"
      ],
      "execution_count": 291,
      "outputs": [
        {
          "output_type": "execute_result",
          "data": {
            "text/plain": [
              "7198"
            ]
          },
          "metadata": {
            "tags": []
          },
          "execution_count": 291
        }
      ]
    },
    {
      "cell_type": "code",
      "metadata": {
        "id": "daakdxVbyGDc",
        "outputId": "d33ba1fb-7024-468c-988e-a357a3cfb27a",
        "colab": {
          "base_uri": "https://localhost:8080/"
        }
      },
      "source": [
        "cluster_data[\"Country_Key\"] = cluster_data[\"Country_Key\"].apply(lambda x : \"Country_Non_IN\" if x != \"IN\" else \"Country_IN\")\r\n",
        "country_count_data = cluster_data[\"Country_Key\"].value_counts()\r\n",
        "\r\n",
        "print(country_count_data)\r\n",
        "\r\n",
        "country_share_data = round(country_count_data / num_of_guests, 4) * 100\r\n",
        "\r\n",
        "for ind in country_share_data.index:\r\n",
        "  cluster_analysis[ind] = country_share_data[ind]\r\n",
        "\r\n",
        "cluster_analysis"
      ],
      "execution_count": 292,
      "outputs": [
        {
          "output_type": "stream",
          "text": [
            "Country_IN        6898\n",
            "Country_Non_IN     300\n",
            "Name: Country_Key, dtype: int64\n"
          ],
          "name": "stdout"
        },
        {
          "output_type": "execute_result",
          "data": {
            "text/plain": [
              "Reservation_Count         1.57\n",
              "Reserv_Count_1           75.90\n",
              "Reserv_Count_2           12.96\n",
              "Reserv_Count_3            4.74\n",
              "Reserv_Count_4            6.40\n",
              "Hotel_Count               1.03\n",
              "Hotel_Count_1            97.25\n",
              "Hotel_Count_2             2.32\n",
              "Hotel_Count_3             0.31\n",
              "Hotel_Count_4             0.13\n",
              "Gender_M                   NaN\n",
              "Gender_F                   NaN\n",
              "Gender_Un                  NaN\n",
              "Metro                     1.55\n",
              "Non_Metro                 0.02\n",
              "EARLY                     1.00\n",
              "LATE                      1.00\n",
              "MP                        1.00\n",
              "MEAL                      1.00\n",
              "ROOM                   5754.48\n",
              "VAS                       1.00\n",
              "Country_IN               95.83\n",
              "Country_Non_IN            4.17\n",
              "Stay_Days                 2.29\n",
              "Stay_Days_0                NaN\n",
              "Stay_Days_1              47.93\n",
              "Stay_Days_2              27.87\n",
              "Stay_Days_3              11.70\n",
              "Stay_Days_4               4.14\n",
              "Stay_Days_5               2.20\n",
              "Stay_Days_6               6.17\n",
              "Stay_Days_0avg             NaN\n",
              "Stay_Days_1avg             NaN\n",
              "Stay_Days_2avg             NaN\n",
              "Stay_Days_3avg             NaN\n",
              "Stay_Days_4avg             NaN\n",
              "Stay_Days_5avg             NaN\n",
              "Stay_Days_6avg             NaN\n",
              "Revenue_Per_Pax       10916.55\n",
              "Guest_Category_Ind         NaN\n",
              "Guest_Category_Fam         NaN\n",
              "Guest_Category_MM          NaN\n",
              "Guest_Category_JM          NaN\n",
              "Lead_Days                11.96\n",
              "Lead_Days_0              26.08\n",
              "Lead_Days_1              17.80\n",
              "Lead_Days_2               9.82\n",
              "Lead_Days_3               5.95\n",
              "Lead_Days_4               5.58\n",
              "Lead_Days_5               3.54\n",
              "Lead_Days_6               3.99\n",
              "Lead_Days_7               2.04\n",
              "Lead_Days_8              25.20\n",
              "Cluster                    NaN\n",
              "dtype: float64"
            ]
          },
          "metadata": {
            "tags": []
          },
          "execution_count": 292
        }
      ]
    },
    {
      "cell_type": "code",
      "metadata": {
        "id": "W25hqCN646vs",
        "outputId": "4649379b-846a-4710-e187-2fef8cafbbbf",
        "colab": {
          "base_uri": "https://localhost:8080/"
        }
      },
      "source": [
        "cluster_data[\"Gender\"] = cluster_data[\"Gender\"].apply(lambda x : \"Gender_M\" if x == \"Male\" \r\n",
        "                                                            else \"Gender_F\" if x == \"Female\"\r\n",
        "                                                            else \"Gender_Un\")\r\n",
        "gender_count_data = cluster_data[\"Gender\"].value_counts()\r\n",
        "print(gender_count_data)\r\n",
        "\r\n",
        "gender_share_data = round(gender_count_data / num_of_guests, 4) * 100\r\n",
        "\r\n",
        "for ind in gender_share_data.index:\r\n",
        "  cluster_analysis[ind] = gender_share_data[ind]\r\n",
        "\r\n",
        "cluster_analysis"
      ],
      "execution_count": 293,
      "outputs": [
        {
          "output_type": "stream",
          "text": [
            "Gender_M     4745\n",
            "Gender_Un    1825\n",
            "Gender_F      628\n",
            "Name: Gender, dtype: int64\n"
          ],
          "name": "stdout"
        },
        {
          "output_type": "execute_result",
          "data": {
            "text/plain": [
              "Reservation_Count         1.57\n",
              "Reserv_Count_1           75.90\n",
              "Reserv_Count_2           12.96\n",
              "Reserv_Count_3            4.74\n",
              "Reserv_Count_4            6.40\n",
              "Hotel_Count               1.03\n",
              "Hotel_Count_1            97.25\n",
              "Hotel_Count_2             2.32\n",
              "Hotel_Count_3             0.31\n",
              "Hotel_Count_4             0.13\n",
              "Gender_M                 65.92\n",
              "Gender_F                  8.72\n",
              "Gender_Un                25.35\n",
              "Metro                     1.55\n",
              "Non_Metro                 0.02\n",
              "EARLY                     1.00\n",
              "LATE                      1.00\n",
              "MP                        1.00\n",
              "MEAL                      1.00\n",
              "ROOM                   5754.48\n",
              "VAS                       1.00\n",
              "Country_IN               95.83\n",
              "Country_Non_IN            4.17\n",
              "Stay_Days                 2.29\n",
              "Stay_Days_0                NaN\n",
              "Stay_Days_1              47.93\n",
              "Stay_Days_2              27.87\n",
              "Stay_Days_3              11.70\n",
              "Stay_Days_4               4.14\n",
              "Stay_Days_5               2.20\n",
              "Stay_Days_6               6.17\n",
              "Stay_Days_0avg             NaN\n",
              "Stay_Days_1avg             NaN\n",
              "Stay_Days_2avg             NaN\n",
              "Stay_Days_3avg             NaN\n",
              "Stay_Days_4avg             NaN\n",
              "Stay_Days_5avg             NaN\n",
              "Stay_Days_6avg             NaN\n",
              "Revenue_Per_Pax       10916.55\n",
              "Guest_Category_Ind         NaN\n",
              "Guest_Category_Fam         NaN\n",
              "Guest_Category_MM          NaN\n",
              "Guest_Category_JM          NaN\n",
              "Lead_Days                11.96\n",
              "Lead_Days_0              26.08\n",
              "Lead_Days_1              17.80\n",
              "Lead_Days_2               9.82\n",
              "Lead_Days_3               5.95\n",
              "Lead_Days_4               5.58\n",
              "Lead_Days_5               3.54\n",
              "Lead_Days_6               3.99\n",
              "Lead_Days_7               2.04\n",
              "Lead_Days_8              25.20\n",
              "Cluster                    NaN\n",
              "dtype: float64"
            ]
          },
          "metadata": {
            "tags": []
          },
          "execution_count": 293
        }
      ]
    },
    {
      "cell_type": "code",
      "metadata": {
        "id": "rP8DMI7f8-5H",
        "outputId": "1d0798b2-0d8f-44e3-be86-2f55d66ed8e4",
        "colab": {
          "base_uri": "https://localhost:8080/"
        }
      },
      "source": [
        "cluster_data[\"Guest_Category\"] = cluster_data[\"Guest_Category\"].apply(lambda x : 'Guest_Category_Ind' if x == \"Individual\" \r\n",
        "                                                            else 'Guest_Category_Fam' if x == \"Family\"\r\n",
        "                                                            else 'Guest_Category_MM' if x == \"Middle Management\"\r\n",
        "                                                            else 'Guest_Category_JM'  )\r\n",
        "guest_cat_count_data = cluster_data[\"Guest_Category\"].value_counts()\r\n",
        "print(guest_cat_count_data)\r\n",
        "\r\n",
        "guest_cat_share_data = round(guest_cat_count_data / num_of_guests, 4) * 100\r\n",
        "\r\n",
        "for ind in guest_cat_share_data.index:\r\n",
        "  cluster_analysis[ind] = guest_cat_share_data[ind]\r\n",
        "\r\n",
        "cluster_analysis\r\n",
        "\r\n",
        "\r\n",
        "# cluster_data[\"Guest_Category\"].value_counts()"
      ],
      "execution_count": 294,
      "outputs": [
        {
          "output_type": "stream",
          "text": [
            "Guest_Category_MM     3208\n",
            "Guest_Category_Ind    2182\n",
            "Guest_Category_Fam    1388\n",
            "Guest_Category_JM      420\n",
            "Name: Guest_Category, dtype: int64\n"
          ],
          "name": "stdout"
        },
        {
          "output_type": "execute_result",
          "data": {
            "text/plain": [
              "Reservation_Count         1.57\n",
              "Reserv_Count_1           75.90\n",
              "Reserv_Count_2           12.96\n",
              "Reserv_Count_3            4.74\n",
              "Reserv_Count_4            6.40\n",
              "Hotel_Count               1.03\n",
              "Hotel_Count_1            97.25\n",
              "Hotel_Count_2             2.32\n",
              "Hotel_Count_3             0.31\n",
              "Hotel_Count_4             0.13\n",
              "Gender_M                 65.92\n",
              "Gender_F                  8.72\n",
              "Gender_Un                25.35\n",
              "Metro                     1.55\n",
              "Non_Metro                 0.02\n",
              "EARLY                     1.00\n",
              "LATE                      1.00\n",
              "MP                        1.00\n",
              "MEAL                      1.00\n",
              "ROOM                   5754.48\n",
              "VAS                       1.00\n",
              "Country_IN               95.83\n",
              "Country_Non_IN            4.17\n",
              "Stay_Days                 2.29\n",
              "Stay_Days_0                NaN\n",
              "Stay_Days_1              47.93\n",
              "Stay_Days_2              27.87\n",
              "Stay_Days_3              11.70\n",
              "Stay_Days_4               4.14\n",
              "Stay_Days_5               2.20\n",
              "Stay_Days_6               6.17\n",
              "Stay_Days_0avg             NaN\n",
              "Stay_Days_1avg             NaN\n",
              "Stay_Days_2avg             NaN\n",
              "Stay_Days_3avg             NaN\n",
              "Stay_Days_4avg             NaN\n",
              "Stay_Days_5avg             NaN\n",
              "Stay_Days_6avg             NaN\n",
              "Revenue_Per_Pax       10916.55\n",
              "Guest_Category_Ind       30.31\n",
              "Guest_Category_Fam       19.28\n",
              "Guest_Category_MM        44.57\n",
              "Guest_Category_JM         5.83\n",
              "Lead_Days                11.96\n",
              "Lead_Days_0              26.08\n",
              "Lead_Days_1              17.80\n",
              "Lead_Days_2               9.82\n",
              "Lead_Days_3               5.95\n",
              "Lead_Days_4               5.58\n",
              "Lead_Days_5               3.54\n",
              "Lead_Days_6               3.99\n",
              "Lead_Days_7               2.04\n",
              "Lead_Days_8              25.20\n",
              "Cluster                    NaN\n",
              "dtype: float64"
            ]
          },
          "metadata": {
            "tags": []
          },
          "execution_count": 294
        }
      ]
    },
    {
      "cell_type": "code",
      "metadata": {
        "id": "8Q6r9dzR9ksz"
      },
      "source": [
        ""
      ],
      "execution_count": null,
      "outputs": []
    }
  ]
}