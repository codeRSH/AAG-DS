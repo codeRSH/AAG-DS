{
  "nbformat": 4,
  "nbformat_minor": 0,
  "metadata": {
    "colab": {
      "name": "AAG-Cluster-Analysis.ipynb",
      "provenance": [],
      "collapsed_sections": [],
      "authorship_tag": "ABX9TyMuJUK2PylO8sWRwdhjpZCa",
      "include_colab_link": true
    },
    "kernelspec": {
      "name": "python3",
      "display_name": "Python 3"
    }
  },
  "cells": [
    {
      "cell_type": "markdown",
      "metadata": {
        "id": "view-in-github",
        "colab_type": "text"
      },
      "source": [
        "<a href=\"https://colab.research.google.com/github/codeRSH/AAG-DS/blob/main/AAG_Cluster_Analysis.ipynb\" target=\"_parent\"><img src=\"https://colab.research.google.com/assets/colab-badge.svg\" alt=\"Open In Colab\"/></a>"
      ]
    },
    {
      "cell_type": "markdown",
      "metadata": {
        "id": "7Yn2wVOeeAQX"
      },
      "source": [
        "# Cluster Analysis Using Python"
      ]
    },
    {
      "cell_type": "markdown",
      "metadata": {
        "id": "YzA0iwGOq0Pm"
      },
      "source": [
        "## Initial Setup"
      ]
    },
    {
      "cell_type": "markdown",
      "metadata": {
        "id": "B3ekGsF9qj0T"
      },
      "source": [
        "### Mount Drive to Read files"
      ]
    },
    {
      "cell_type": "code",
      "metadata": {
        "id": "BhBkh7OAgIu0",
        "colab": {
          "base_uri": "https://localhost:8080/"
        },
        "outputId": "96a6794b-6a96-4aee-dcc9-2a97df2cb039"
      },
      "source": [
        "from google.colab import drive\n",
        "\n",
        "drive.mount('/content/drive')"
      ],
      "execution_count": 101,
      "outputs": [
        {
          "output_type": "stream",
          "text": [
            "Drive already mounted at /content/drive; to attempt to forcibly remount, call drive.mount(\"/content/drive\", force_remount=True).\n"
          ],
          "name": "stdout"
        }
      ]
    },
    {
      "cell_type": "markdown",
      "metadata": {
        "id": "3crOX2IwgUIq"
      },
      "source": [
        "### Import All Relevant Libraries"
      ]
    },
    {
      "cell_type": "code",
      "metadata": {
        "id": "QvlOLYb6gN3T"
      },
      "source": [
        "import glob\n",
        "import pandas as pd\n",
        "import numpy as np"
      ],
      "execution_count": 102,
      "outputs": []
    },
    {
      "cell_type": "markdown",
      "metadata": {
        "id": "0VCwwRoH17TB"
      },
      "source": [
        "### Make Plots show within the notebook output"
      ]
    },
    {
      "cell_type": "code",
      "metadata": {
        "id": "WpuEe0Vieo8-"
      },
      "source": [
        "import matplotlib as mp\r\n",
        "import matplotlib.pyplot as plt\r\n",
        "%matplotlib inline"
      ],
      "execution_count": 103,
      "outputs": []
    },
    {
      "cell_type": "markdown",
      "metadata": {
        "id": "z0xukazU33I1"
      },
      "source": [
        "### Ignore Warnings (for clean output)"
      ]
    },
    {
      "cell_type": "code",
      "metadata": {
        "id": "rbLT-i5v3107"
      },
      "source": [
        "import warnings\r\n",
        "warnings.filterwarnings('ignore')"
      ],
      "execution_count": 104,
      "outputs": []
    },
    {
      "cell_type": "markdown",
      "metadata": {
        "id": "TlbbMgIghPqS"
      },
      "source": [
        "### Define File Paths"
      ]
    },
    {
      "cell_type": "code",
      "metadata": {
        "id": "QuLKHcEnhUop"
      },
      "source": [
        "init_input_path = \"/content/drive/MyDrive/AAG DS Folder/Capstone/\"\n",
        "\n",
        "input_cluster_path = init_input_path + \"cluster/*csv\"\n",
        "\n",
        "init_output_path = \"/content/drive/MyDrive/AAG DS Folder/Capstone/output/\"\n",
        "ouptut_cluster_path = init_output_path + \"cluster_final_analysis.csv\""
      ],
      "execution_count": 105,
      "outputs": []
    },
    {
      "cell_type": "markdown",
      "metadata": {
        "id": "83d79DN3gker"
      },
      "source": [
        "## Data Loading and Wrangling"
      ]
    },
    {
      "cell_type": "markdown",
      "metadata": {
        "id": "1WRlyKJ4Ocwt"
      },
      "source": [
        "### Read Cluster Input Data"
      ]
    },
    {
      "cell_type": "code",
      "metadata": {
        "colab": {
          "base_uri": "https://localhost:8080/",
          "height": 544
        },
        "id": "Ze1yl-_DfaWn",
        "outputId": "fd1e428c-f2bc-4fc7-e1d5-d1dab1d41ba5"
      },
      "source": [
        "# Input Cluster Data Frame\r\n",
        "cluster_data = pd.DataFrame()\r\n",
        "\r\n",
        "print(glob.glob(input_cluster_path))\r\n",
        "\r\n",
        "# Read the Cluster data from all the available csv files\r\n",
        "for file in glob.glob(input_cluster_path):\r\n",
        "    data = pd.read_csv(file, parse_dates=True, encoding=\"latin1\",\r\n",
        "                       error_bad_lines=False, usecols = [*range(1, 10), *range(11, 20)] )\r\n",
        "    cluster_data = cluster_data.append(data)\r\n",
        "\r\n",
        "cluster_data.columns = ['Guest_ID', 'Reservation_Count', 'Hotel_Count', 'Gender', \r\n",
        "                     'Metro', 'Non_Metro', 'EARLY', 'LATE', 'MP', 'MEAL',\t\r\n",
        "                     'ROOM', 'VAS', 'Country_Key', 'Stay_Days', 'Revenue_Per_Pax',\t\r\n",
        "                     'Guest_Category', 'Lead_Days',\t'Cluster' ]\r\n",
        "\r\n",
        "cluster_data"
      ],
      "execution_count": 106,
      "outputs": [
        {
          "output_type": "stream",
          "text": [
            "['/content/drive/MyDrive/AAG DS Folder/Capstone/cluster/Cluster_Data.csv']\n"
          ],
          "name": "stdout"
        },
        {
          "output_type": "execute_result",
          "data": {
            "text/html": [
              "<div>\n",
              "<style scoped>\n",
              "    .dataframe tbody tr th:only-of-type {\n",
              "        vertical-align: middle;\n",
              "    }\n",
              "\n",
              "    .dataframe tbody tr th {\n",
              "        vertical-align: top;\n",
              "    }\n",
              "\n",
              "    .dataframe thead th {\n",
              "        text-align: right;\n",
              "    }\n",
              "</style>\n",
              "<table border=\"1\" class=\"dataframe\">\n",
              "  <thead>\n",
              "    <tr style=\"text-align: right;\">\n",
              "      <th></th>\n",
              "      <th>Guest_ID</th>\n",
              "      <th>Reservation_Count</th>\n",
              "      <th>Hotel_Count</th>\n",
              "      <th>Gender</th>\n",
              "      <th>Metro</th>\n",
              "      <th>Non_Metro</th>\n",
              "      <th>EARLY</th>\n",
              "      <th>LATE</th>\n",
              "      <th>MP</th>\n",
              "      <th>MEAL</th>\n",
              "      <th>ROOM</th>\n",
              "      <th>VAS</th>\n",
              "      <th>Country_Key</th>\n",
              "      <th>Stay_Days</th>\n",
              "      <th>Revenue_Per_Pax</th>\n",
              "      <th>Guest_Category</th>\n",
              "      <th>Lead_Days</th>\n",
              "      <th>Cluster</th>\n",
              "    </tr>\n",
              "  </thead>\n",
              "  <tbody>\n",
              "    <tr>\n",
              "      <th>0</th>\n",
              "      <td>3</td>\n",
              "      <td>1</td>\n",
              "      <td>1</td>\n",
              "      <td>Undisclosed</td>\n",
              "      <td>0</td>\n",
              "      <td>1</td>\n",
              "      <td>0.0</td>\n",
              "      <td>0.0</td>\n",
              "      <td>0.0</td>\n",
              "      <td>1.0</td>\n",
              "      <td>7.0800</td>\n",
              "      <td>0.0</td>\n",
              "      <td>IN</td>\n",
              "      <td>1</td>\n",
              "      <td>70.0800</td>\n",
              "      <td>Individual</td>\n",
              "      <td>0.0</td>\n",
              "      <td>2</td>\n",
              "    </tr>\n",
              "    <tr>\n",
              "      <th>1</th>\n",
              "      <td>26</td>\n",
              "      <td>1</td>\n",
              "      <td>1</td>\n",
              "      <td>Male</td>\n",
              "      <td>0</td>\n",
              "      <td>1</td>\n",
              "      <td>0.0</td>\n",
              "      <td>0.0</td>\n",
              "      <td>0.0</td>\n",
              "      <td>1.0</td>\n",
              "      <td>3113.9020</td>\n",
              "      <td>0.0</td>\n",
              "      <td>IN</td>\n",
              "      <td>14</td>\n",
              "      <td>65789.6280</td>\n",
              "      <td>Middle Management</td>\n",
              "      <td>1.0</td>\n",
              "      <td>5</td>\n",
              "    </tr>\n",
              "    <tr>\n",
              "      <th>2</th>\n",
              "      <td>33</td>\n",
              "      <td>2</td>\n",
              "      <td>1</td>\n",
              "      <td>Male</td>\n",
              "      <td>0</td>\n",
              "      <td>2</td>\n",
              "      <td>0.0</td>\n",
              "      <td>0.0</td>\n",
              "      <td>0.0</td>\n",
              "      <td>1.0</td>\n",
              "      <td>0.0000</td>\n",
              "      <td>0.0</td>\n",
              "      <td>IN</td>\n",
              "      <td>1</td>\n",
              "      <td>315.0000</td>\n",
              "      <td>Individual</td>\n",
              "      <td>0.0</td>\n",
              "      <td>1</td>\n",
              "    </tr>\n",
              "    <tr>\n",
              "      <th>3</th>\n",
              "      <td>51</td>\n",
              "      <td>1</td>\n",
              "      <td>1</td>\n",
              "      <td>Undisclosed</td>\n",
              "      <td>1</td>\n",
              "      <td>0</td>\n",
              "      <td>0.0</td>\n",
              "      <td>0.0</td>\n",
              "      <td>0.0</td>\n",
              "      <td>1.0</td>\n",
              "      <td>4982.8096</td>\n",
              "      <td>0.0</td>\n",
              "      <td>IN</td>\n",
              "      <td>3</td>\n",
              "      <td>8986.2144</td>\n",
              "      <td>Junior Management</td>\n",
              "      <td>4.0</td>\n",
              "      <td>2</td>\n",
              "    </tr>\n",
              "    <tr>\n",
              "      <th>4</th>\n",
              "      <td>133</td>\n",
              "      <td>1</td>\n",
              "      <td>1</td>\n",
              "      <td>Male</td>\n",
              "      <td>0</td>\n",
              "      <td>1</td>\n",
              "      <td>0.0</td>\n",
              "      <td>0.0</td>\n",
              "      <td>0.0</td>\n",
              "      <td>0.0</td>\n",
              "      <td>0.0000</td>\n",
              "      <td>1.0</td>\n",
              "      <td>IN</td>\n",
              "      <td>1</td>\n",
              "      <td>241.9000</td>\n",
              "      <td>Individual</td>\n",
              "      <td>0.0</td>\n",
              "      <td>1</td>\n",
              "    </tr>\n",
              "    <tr>\n",
              "      <th>...</th>\n",
              "      <td>...</td>\n",
              "      <td>...</td>\n",
              "      <td>...</td>\n",
              "      <td>...</td>\n",
              "      <td>...</td>\n",
              "      <td>...</td>\n",
              "      <td>...</td>\n",
              "      <td>...</td>\n",
              "      <td>...</td>\n",
              "      <td>...</td>\n",
              "      <td>...</td>\n",
              "      <td>...</td>\n",
              "      <td>...</td>\n",
              "      <td>...</td>\n",
              "      <td>...</td>\n",
              "      <td>...</td>\n",
              "      <td>...</td>\n",
              "      <td>...</td>\n",
              "    </tr>\n",
              "    <tr>\n",
              "      <th>455818</th>\n",
              "      <td>90450512</td>\n",
              "      <td>1</td>\n",
              "      <td>1</td>\n",
              "      <td>Undisclosed</td>\n",
              "      <td>0</td>\n",
              "      <td>1</td>\n",
              "      <td>0.0</td>\n",
              "      <td>0.0</td>\n",
              "      <td>0.0</td>\n",
              "      <td>0.0</td>\n",
              "      <td>5437.4400</td>\n",
              "      <td>0.0</td>\n",
              "      <td>IN</td>\n",
              "      <td>1</td>\n",
              "      <td>9437.4400</td>\n",
              "      <td>Middle Management</td>\n",
              "      <td>4.0</td>\n",
              "      <td>4</td>\n",
              "    </tr>\n",
              "    <tr>\n",
              "      <th>455819</th>\n",
              "      <td>90450817</td>\n",
              "      <td>8</td>\n",
              "      <td>1</td>\n",
              "      <td>Undisclosed</td>\n",
              "      <td>0</td>\n",
              "      <td>8</td>\n",
              "      <td>0.0</td>\n",
              "      <td>0.0</td>\n",
              "      <td>0.0</td>\n",
              "      <td>0.0</td>\n",
              "      <td>27499.2800</td>\n",
              "      <td>0.0</td>\n",
              "      <td>IN</td>\n",
              "      <td>1</td>\n",
              "      <td>3437.4100</td>\n",
              "      <td>Middle Management</td>\n",
              "      <td>0.0</td>\n",
              "      <td>4</td>\n",
              "    </tr>\n",
              "    <tr>\n",
              "      <th>455820</th>\n",
              "      <td>90450995</td>\n",
              "      <td>2</td>\n",
              "      <td>1</td>\n",
              "      <td>Undisclosed</td>\n",
              "      <td>0</td>\n",
              "      <td>2</td>\n",
              "      <td>0.0</td>\n",
              "      <td>0.0</td>\n",
              "      <td>0.0</td>\n",
              "      <td>1.0</td>\n",
              "      <td>7770.0000</td>\n",
              "      <td>0.0</td>\n",
              "      <td>IN</td>\n",
              "      <td>1</td>\n",
              "      <td>7022.1500</td>\n",
              "      <td>Individual</td>\n",
              "      <td>1.5</td>\n",
              "      <td>2</td>\n",
              "    </tr>\n",
              "    <tr>\n",
              "      <th>455821</th>\n",
              "      <td>90451050</td>\n",
              "      <td>1</td>\n",
              "      <td>1</td>\n",
              "      <td>Undisclosed</td>\n",
              "      <td>0</td>\n",
              "      <td>1</td>\n",
              "      <td>0.0</td>\n",
              "      <td>0.0</td>\n",
              "      <td>0.0</td>\n",
              "      <td>1.0</td>\n",
              "      <td>0.0000</td>\n",
              "      <td>0.0</td>\n",
              "      <td>IN</td>\n",
              "      <td>1</td>\n",
              "      <td>1.0500</td>\n",
              "      <td>Middle Management</td>\n",
              "      <td>0.0</td>\n",
              "      <td>4</td>\n",
              "    </tr>\n",
              "    <tr>\n",
              "      <th>455822</th>\n",
              "      <td>90451158</td>\n",
              "      <td>2</td>\n",
              "      <td>1</td>\n",
              "      <td>Undisclosed</td>\n",
              "      <td>0</td>\n",
              "      <td>2</td>\n",
              "      <td>0.0</td>\n",
              "      <td>0.0</td>\n",
              "      <td>0.0</td>\n",
              "      <td>0.0</td>\n",
              "      <td>7080.0000</td>\n",
              "      <td>0.0</td>\n",
              "      <td>IN</td>\n",
              "      <td>1</td>\n",
              "      <td>7080.0000</td>\n",
              "      <td>Middle Management</td>\n",
              "      <td>1.0</td>\n",
              "      <td>4</td>\n",
              "    </tr>\n",
              "  </tbody>\n",
              "</table>\n",
              "<p>455823 rows × 18 columns</p>\n",
              "</div>"
            ],
            "text/plain": [
              "        Guest_ID  Reservation_Count  ...  Lead_Days Cluster\n",
              "0              3                  1  ...        0.0       2\n",
              "1             26                  1  ...        1.0       5\n",
              "2             33                  2  ...        0.0       1\n",
              "3             51                  1  ...        4.0       2\n",
              "4            133                  1  ...        0.0       1\n",
              "...          ...                ...  ...        ...     ...\n",
              "455818  90450512                  1  ...        4.0       4\n",
              "455819  90450817                  8  ...        0.0       4\n",
              "455820  90450995                  2  ...        1.5       2\n",
              "455821  90451050                  1  ...        0.0       4\n",
              "455822  90451158                  2  ...        1.0       4\n",
              "\n",
              "[455823 rows x 18 columns]"
            ]
          },
          "metadata": {
            "tags": []
          },
          "execution_count": 106
        }
      ]
    },
    {
      "cell_type": "code",
      "metadata": {
        "id": "TJp-f1nGwD6n"
      },
      "source": [
        "cluster_data[\"Lead_Days\"] = cluster_data[\"Lead_Days\"].round().astype(int)"
      ],
      "execution_count": 107,
      "outputs": []
    },
    {
      "cell_type": "code",
      "metadata": {
        "colab": {
          "base_uri": "https://localhost:8080/",
          "height": 526
        },
        "id": "rwJmQ2rq3Elf",
        "outputId": "0e204f4d-b506-4006-cdde-4755850e389e"
      },
      "source": [
        "cluster_data[['EARLY', 'LATE', 'MP', 'MEAL', 'VAS']] = cluster_data[['EARLY', 'LATE', 'MP', 'MEAL', 'VAS']] * 100\r\n",
        "cluster_data"
      ],
      "execution_count": 108,
      "outputs": [
        {
          "output_type": "execute_result",
          "data": {
            "text/html": [
              "<div>\n",
              "<style scoped>\n",
              "    .dataframe tbody tr th:only-of-type {\n",
              "        vertical-align: middle;\n",
              "    }\n",
              "\n",
              "    .dataframe tbody tr th {\n",
              "        vertical-align: top;\n",
              "    }\n",
              "\n",
              "    .dataframe thead th {\n",
              "        text-align: right;\n",
              "    }\n",
              "</style>\n",
              "<table border=\"1\" class=\"dataframe\">\n",
              "  <thead>\n",
              "    <tr style=\"text-align: right;\">\n",
              "      <th></th>\n",
              "      <th>Guest_ID</th>\n",
              "      <th>Reservation_Count</th>\n",
              "      <th>Hotel_Count</th>\n",
              "      <th>Gender</th>\n",
              "      <th>Metro</th>\n",
              "      <th>Non_Metro</th>\n",
              "      <th>EARLY</th>\n",
              "      <th>LATE</th>\n",
              "      <th>MP</th>\n",
              "      <th>MEAL</th>\n",
              "      <th>ROOM</th>\n",
              "      <th>VAS</th>\n",
              "      <th>Country_Key</th>\n",
              "      <th>Stay_Days</th>\n",
              "      <th>Revenue_Per_Pax</th>\n",
              "      <th>Guest_Category</th>\n",
              "      <th>Lead_Days</th>\n",
              "      <th>Cluster</th>\n",
              "    </tr>\n",
              "  </thead>\n",
              "  <tbody>\n",
              "    <tr>\n",
              "      <th>0</th>\n",
              "      <td>3</td>\n",
              "      <td>1</td>\n",
              "      <td>1</td>\n",
              "      <td>Undisclosed</td>\n",
              "      <td>0</td>\n",
              "      <td>1</td>\n",
              "      <td>0.0</td>\n",
              "      <td>0.0</td>\n",
              "      <td>0.0</td>\n",
              "      <td>100.0</td>\n",
              "      <td>7.0800</td>\n",
              "      <td>0.0</td>\n",
              "      <td>IN</td>\n",
              "      <td>1</td>\n",
              "      <td>70.0800</td>\n",
              "      <td>Individual</td>\n",
              "      <td>0</td>\n",
              "      <td>2</td>\n",
              "    </tr>\n",
              "    <tr>\n",
              "      <th>1</th>\n",
              "      <td>26</td>\n",
              "      <td>1</td>\n",
              "      <td>1</td>\n",
              "      <td>Male</td>\n",
              "      <td>0</td>\n",
              "      <td>1</td>\n",
              "      <td>0.0</td>\n",
              "      <td>0.0</td>\n",
              "      <td>0.0</td>\n",
              "      <td>100.0</td>\n",
              "      <td>3113.9020</td>\n",
              "      <td>0.0</td>\n",
              "      <td>IN</td>\n",
              "      <td>14</td>\n",
              "      <td>65789.6280</td>\n",
              "      <td>Middle Management</td>\n",
              "      <td>1</td>\n",
              "      <td>5</td>\n",
              "    </tr>\n",
              "    <tr>\n",
              "      <th>2</th>\n",
              "      <td>33</td>\n",
              "      <td>2</td>\n",
              "      <td>1</td>\n",
              "      <td>Male</td>\n",
              "      <td>0</td>\n",
              "      <td>2</td>\n",
              "      <td>0.0</td>\n",
              "      <td>0.0</td>\n",
              "      <td>0.0</td>\n",
              "      <td>100.0</td>\n",
              "      <td>0.0000</td>\n",
              "      <td>0.0</td>\n",
              "      <td>IN</td>\n",
              "      <td>1</td>\n",
              "      <td>315.0000</td>\n",
              "      <td>Individual</td>\n",
              "      <td>0</td>\n",
              "      <td>1</td>\n",
              "    </tr>\n",
              "    <tr>\n",
              "      <th>3</th>\n",
              "      <td>51</td>\n",
              "      <td>1</td>\n",
              "      <td>1</td>\n",
              "      <td>Undisclosed</td>\n",
              "      <td>1</td>\n",
              "      <td>0</td>\n",
              "      <td>0.0</td>\n",
              "      <td>0.0</td>\n",
              "      <td>0.0</td>\n",
              "      <td>100.0</td>\n",
              "      <td>4982.8096</td>\n",
              "      <td>0.0</td>\n",
              "      <td>IN</td>\n",
              "      <td>3</td>\n",
              "      <td>8986.2144</td>\n",
              "      <td>Junior Management</td>\n",
              "      <td>4</td>\n",
              "      <td>2</td>\n",
              "    </tr>\n",
              "    <tr>\n",
              "      <th>4</th>\n",
              "      <td>133</td>\n",
              "      <td>1</td>\n",
              "      <td>1</td>\n",
              "      <td>Male</td>\n",
              "      <td>0</td>\n",
              "      <td>1</td>\n",
              "      <td>0.0</td>\n",
              "      <td>0.0</td>\n",
              "      <td>0.0</td>\n",
              "      <td>0.0</td>\n",
              "      <td>0.0000</td>\n",
              "      <td>100.0</td>\n",
              "      <td>IN</td>\n",
              "      <td>1</td>\n",
              "      <td>241.9000</td>\n",
              "      <td>Individual</td>\n",
              "      <td>0</td>\n",
              "      <td>1</td>\n",
              "    </tr>\n",
              "    <tr>\n",
              "      <th>...</th>\n",
              "      <td>...</td>\n",
              "      <td>...</td>\n",
              "      <td>...</td>\n",
              "      <td>...</td>\n",
              "      <td>...</td>\n",
              "      <td>...</td>\n",
              "      <td>...</td>\n",
              "      <td>...</td>\n",
              "      <td>...</td>\n",
              "      <td>...</td>\n",
              "      <td>...</td>\n",
              "      <td>...</td>\n",
              "      <td>...</td>\n",
              "      <td>...</td>\n",
              "      <td>...</td>\n",
              "      <td>...</td>\n",
              "      <td>...</td>\n",
              "      <td>...</td>\n",
              "    </tr>\n",
              "    <tr>\n",
              "      <th>455818</th>\n",
              "      <td>90450512</td>\n",
              "      <td>1</td>\n",
              "      <td>1</td>\n",
              "      <td>Undisclosed</td>\n",
              "      <td>0</td>\n",
              "      <td>1</td>\n",
              "      <td>0.0</td>\n",
              "      <td>0.0</td>\n",
              "      <td>0.0</td>\n",
              "      <td>0.0</td>\n",
              "      <td>5437.4400</td>\n",
              "      <td>0.0</td>\n",
              "      <td>IN</td>\n",
              "      <td>1</td>\n",
              "      <td>9437.4400</td>\n",
              "      <td>Middle Management</td>\n",
              "      <td>4</td>\n",
              "      <td>4</td>\n",
              "    </tr>\n",
              "    <tr>\n",
              "      <th>455819</th>\n",
              "      <td>90450817</td>\n",
              "      <td>8</td>\n",
              "      <td>1</td>\n",
              "      <td>Undisclosed</td>\n",
              "      <td>0</td>\n",
              "      <td>8</td>\n",
              "      <td>0.0</td>\n",
              "      <td>0.0</td>\n",
              "      <td>0.0</td>\n",
              "      <td>0.0</td>\n",
              "      <td>27499.2800</td>\n",
              "      <td>0.0</td>\n",
              "      <td>IN</td>\n",
              "      <td>1</td>\n",
              "      <td>3437.4100</td>\n",
              "      <td>Middle Management</td>\n",
              "      <td>0</td>\n",
              "      <td>4</td>\n",
              "    </tr>\n",
              "    <tr>\n",
              "      <th>455820</th>\n",
              "      <td>90450995</td>\n",
              "      <td>2</td>\n",
              "      <td>1</td>\n",
              "      <td>Undisclosed</td>\n",
              "      <td>0</td>\n",
              "      <td>2</td>\n",
              "      <td>0.0</td>\n",
              "      <td>0.0</td>\n",
              "      <td>0.0</td>\n",
              "      <td>100.0</td>\n",
              "      <td>7770.0000</td>\n",
              "      <td>0.0</td>\n",
              "      <td>IN</td>\n",
              "      <td>1</td>\n",
              "      <td>7022.1500</td>\n",
              "      <td>Individual</td>\n",
              "      <td>2</td>\n",
              "      <td>2</td>\n",
              "    </tr>\n",
              "    <tr>\n",
              "      <th>455821</th>\n",
              "      <td>90451050</td>\n",
              "      <td>1</td>\n",
              "      <td>1</td>\n",
              "      <td>Undisclosed</td>\n",
              "      <td>0</td>\n",
              "      <td>1</td>\n",
              "      <td>0.0</td>\n",
              "      <td>0.0</td>\n",
              "      <td>0.0</td>\n",
              "      <td>100.0</td>\n",
              "      <td>0.0000</td>\n",
              "      <td>0.0</td>\n",
              "      <td>IN</td>\n",
              "      <td>1</td>\n",
              "      <td>1.0500</td>\n",
              "      <td>Middle Management</td>\n",
              "      <td>0</td>\n",
              "      <td>4</td>\n",
              "    </tr>\n",
              "    <tr>\n",
              "      <th>455822</th>\n",
              "      <td>90451158</td>\n",
              "      <td>2</td>\n",
              "      <td>1</td>\n",
              "      <td>Undisclosed</td>\n",
              "      <td>0</td>\n",
              "      <td>2</td>\n",
              "      <td>0.0</td>\n",
              "      <td>0.0</td>\n",
              "      <td>0.0</td>\n",
              "      <td>0.0</td>\n",
              "      <td>7080.0000</td>\n",
              "      <td>0.0</td>\n",
              "      <td>IN</td>\n",
              "      <td>1</td>\n",
              "      <td>7080.0000</td>\n",
              "      <td>Middle Management</td>\n",
              "      <td>1</td>\n",
              "      <td>4</td>\n",
              "    </tr>\n",
              "  </tbody>\n",
              "</table>\n",
              "<p>455823 rows × 18 columns</p>\n",
              "</div>"
            ],
            "text/plain": [
              "        Guest_ID  Reservation_Count  ...  Lead_Days Cluster\n",
              "0              3                  1  ...          0       2\n",
              "1             26                  1  ...          1       5\n",
              "2             33                  2  ...          0       1\n",
              "3             51                  1  ...          4       2\n",
              "4            133                  1  ...          0       1\n",
              "...          ...                ...  ...        ...     ...\n",
              "455818  90450512                  1  ...          4       4\n",
              "455819  90450817                  8  ...          0       4\n",
              "455820  90450995                  2  ...          2       2\n",
              "455821  90451050                  1  ...          0       4\n",
              "455822  90451158                  2  ...          1       4\n",
              "\n",
              "[455823 rows x 18 columns]"
            ]
          },
          "metadata": {
            "tags": []
          },
          "execution_count": 108
        }
      ]
    },
    {
      "cell_type": "code",
      "metadata": {
        "colab": {
          "base_uri": "https://localhost:8080/"
        },
        "id": "L7PND55zxbXe",
        "outputId": "ce63ff35-220d-47ea-d1b9-109bc9e22595"
      },
      "source": [
        "# Determine the Number of guests\r\n",
        "num_of_guests = cluster_data[\"Guest_ID\"].nunique()\r\n",
        "num_of_guests"
      ],
      "execution_count": 109,
      "outputs": [
        {
          "output_type": "execute_result",
          "data": {
            "text/plain": [
              "455823"
            ]
          },
          "metadata": {
            "tags": []
          },
          "execution_count": 109
        }
      ]
    },
    {
      "cell_type": "code",
      "metadata": {
        "id": "gwQDJfVbybVt"
      },
      "source": [
        "cluster_analysis = pd.Series(index = ['Reservation_Count', \r\n",
        "                                      'Reserv_Count_1', 'Reserv_Count_2',\r\n",
        "                                      'Reserv_Count_3', 'Reserv_Count_4', \r\n",
        "                                      'Hotel_Count', \r\n",
        "                                      'Hotel_Count_1', 'Hotel_Count_2',\r\n",
        "                                      'Hotel_Count_3','Hotel_Count_4',\r\n",
        "                                      'Gender_M', 'Gender_F', 'Gender_Un',\r\n",
        "                                      'Metro', 'Non_Metro', 'EARLY', 'LATE', \r\n",
        "                                      'MP', 'MEAL', 'VAS',  'ROOM', 'Country_IN',\r\n",
        "                                      'Country_Non_IN', 'Stay_Days', 'Stay_Days_0',\r\n",
        "                                      'Stay_Days_1', 'Stay_Days_2', 'Stay_Days_3',\r\n",
        "                                      'Stay_Days_4', 'Stay_Days_5', 'Stay_Days_6',\r\n",
        "                                      'Revenue_Per_Pax',\t'Guest_Category_Ind',\r\n",
        "                                      'Guest_Category_Fam', 'Guest_Category_MM', 'Guest_Category_JM', \r\n",
        "                                      'Lead_Days',  'Lead_Days_0',  'Lead_Days_1',\t\r\n",
        "                                      'Lead_Days_2',\t 'Lead_Days_3',\t 'Lead_Days_4',\t\r\n",
        "                                      'Lead_Days_5',\t 'Lead_Days_6',\t 'Lead_Days_7',\t\r\n",
        "                                      'Lead_Days_8',\t'Cluster' ])"
      ],
      "execution_count": 110,
      "outputs": []
    },
    {
      "cell_type": "code",
      "metadata": {
        "colab": {
          "base_uri": "https://localhost:8080/"
        },
        "id": "OLUTm_f576oB",
        "outputId": "e749fa7f-9344-477c-ec4f-ae71e9683c1a"
      },
      "source": [
        "cluster_analysis.shape"
      ],
      "execution_count": 111,
      "outputs": [
        {
          "output_type": "execute_result",
          "data": {
            "text/plain": [
              "(47,)"
            ]
          },
          "metadata": {
            "tags": []
          },
          "execution_count": 111
        }
      ]
    },
    {
      "cell_type": "code",
      "metadata": {
        "colab": {
          "base_uri": "https://localhost:8080/"
        },
        "id": "05bxahSg4CiN",
        "outputId": "ba245ffe-1537-475b-d53b-64add4c9c740"
      },
      "source": [
        "avg_of_cluster_data = round((cluster_data[['Reservation_Count', 'Hotel_Count',\t\r\n",
        "                                            'Metro', 'Non_Metro', 'EARLY', 'LATE', \r\n",
        "                                            'MP', 'MEAL', \r\n",
        "                                            'ROOM', 'VAS', 'Stay_Days', \r\n",
        "                                            'Revenue_Per_Pax',\t'Lead_Days', 'Cluster'\r\n",
        "                                    \t ]].sum() / num_of_guests), 2 )\r\n",
        "avg_of_cluster_data"
      ],
      "execution_count": 112,
      "outputs": [
        {
          "output_type": "execute_result",
          "data": {
            "text/plain": [
              "Reservation_Count       1.41\n",
              "Hotel_Count             1.05\n",
              "Metro                   0.76\n",
              "Non_Metro               0.65\n",
              "EARLY                   6.61\n",
              "LATE                    5.34\n",
              "MP                      5.30\n",
              "MEAL                   51.25\n",
              "ROOM                 4691.51\n",
              "VAS                    13.21\n",
              "Stay_Days               2.06\n",
              "Revenue_Per_Pax      6756.43\n",
              "Lead_Days               9.16\n",
              "Cluster                 2.41\n",
              "dtype: float64"
            ]
          },
          "metadata": {
            "tags": []
          },
          "execution_count": 112
        }
      ]
    },
    {
      "cell_type": "code",
      "metadata": {
        "id": "0JJ7ugao6I6d"
      },
      "source": [
        "for ind in avg_of_cluster_data.index:\r\n",
        "  cluster_analysis[ind] = avg_of_cluster_data[ind]"
      ],
      "execution_count": 113,
      "outputs": []
    },
    {
      "cell_type": "code",
      "metadata": {
        "id": "0StHkczOB9a9"
      },
      "source": [
        "def get_freq_dist(col_name, main_df, last_count, num_total_records, analysis_df, init_label):\r\n",
        "    col_series = main_df[col_name].copy()\r\n",
        "    dist_df = col_series.value_counts()\r\n",
        "    # print(dist_df.head(10))\r\n",
        "    \r\n",
        "    # print(\"###############\")\r\n",
        "    dist_df.sort_index(inplace=True)\r\n",
        "    # print(dist_df.head(10))\r\n",
        "\r\n",
        "    # print(\"###############\")\r\n",
        "    # print(dist_df[last_count])\r\n",
        "\r\n",
        "    # print(\"#############\")\r\n",
        "    dist_df[last_count] = dist_df.loc[last_count:].sum()\r\n",
        "    # print(dist_df[last_count])\r\n",
        "    # print(dist_df.loc[last_count:])\r\n",
        "    \r\n",
        "    \r\n",
        "    # print(\"###############\")\r\n",
        "    dist_df = dist_df.loc[:last_count]\r\n",
        "    # print(dist_df)\r\n",
        "\r\n",
        "\r\n",
        "    # print(\"###############\")\r\n",
        "    dist_df_share = round(dist_df / num_total_records, 4) * 100\r\n",
        "    # print(dist_df_share)\r\n",
        "        \r\n",
        "    for ind in dist_df_share.index:\r\n",
        "        an_ind = init_label + str(ind)\r\n",
        "        analysis_df[an_ind] = dist_df_share[ind]\r\n",
        "\r\n",
        "    return analysis_df"
      ],
      "execution_count": 114,
      "outputs": []
    },
    {
      "cell_type": "code",
      "metadata": {
        "id": "sJ8rs_vKRF1L"
      },
      "source": [
        "\r\n",
        "cluster_analysis = get_freq_dist(col_name = \"Reservation_Count\", main_df = cluster_data, \r\n",
        "                                 last_count = 4 , num_total_records = num_of_guests, \r\n",
        "                                 analysis_df = cluster_analysis, init_label = 'Reserv_Count_'\r\n",
        "                                )\r\n",
        "\r\n",
        "# cluster_analysis"
      ],
      "execution_count": 115,
      "outputs": []
    },
    {
      "cell_type": "code",
      "metadata": {
        "id": "eZfUE5OhHpKp"
      },
      "source": [
        "cluster_analysis = get_freq_dist(col_name = \"Hotel_Count\", main_df = cluster_data, \r\n",
        "                                 last_count = 4, num_total_records = num_of_guests, \r\n",
        "                                 analysis_df = cluster_analysis, init_label = 'Hotel_Count_'\r\n",
        "                                )\r\n",
        "\r\n",
        "\r\n",
        "# cluster_analysis"
      ],
      "execution_count": 116,
      "outputs": []
    },
    {
      "cell_type": "code",
      "metadata": {
        "id": "HzyucXOwIUv3"
      },
      "source": [
        "cluster_analysis = get_freq_dist(col_name = \"Stay_Days\", main_df = cluster_data, \r\n",
        "                                  last_count = 6, \r\n",
        "                                  num_total_records = num_of_guests,\r\n",
        "                                  analysis_df = cluster_analysis, init_label = 'Stay_Days_'\r\n",
        "                                )\r\n",
        "\r\n",
        "\r\n",
        "# cluster_analysis"
      ],
      "execution_count": 117,
      "outputs": []
    },
    {
      "cell_type": "code",
      "metadata": {
        "id": "NNUebBDALTf9",
        "colab": {
          "base_uri": "https://localhost:8080/"
        },
        "outputId": "09b68d3e-75ca-4990-a231-0eacabd254e7"
      },
      "source": [
        "cluster_analysis = get_freq_dist(col_name = \"Lead_Days\", main_df = cluster_data, \r\n",
        "                                  last_count = 8, num_total_records = num_of_guests, \r\n",
        "                                  analysis_df = cluster_analysis, init_label = 'Lead_Days_'\r\n",
        "                                )\r\n",
        "\r\n",
        "\r\n",
        "cluster_analysis"
      ],
      "execution_count": 118,
      "outputs": [
        {
          "output_type": "execute_result",
          "data": {
            "text/plain": [
              "Reservation_Count        1.41\n",
              "Reserv_Count_1          81.36\n",
              "Reserv_Count_2          11.58\n",
              "Reserv_Count_3           3.30\n",
              "Reserv_Count_4           3.75\n",
              "Hotel_Count              1.05\n",
              "Hotel_Count_1           95.86\n",
              "Hotel_Count_2            3.61\n",
              "Hotel_Count_3            0.41\n",
              "Hotel_Count_4            0.12\n",
              "Gender_M                  NaN\n",
              "Gender_F                  NaN\n",
              "Gender_Un                 NaN\n",
              "Metro                    0.76\n",
              "Non_Metro                0.65\n",
              "EARLY                    6.61\n",
              "LATE                     5.34\n",
              "MP                       5.30\n",
              "MEAL                    51.25\n",
              "VAS                     13.21\n",
              "ROOM                  4691.51\n",
              "Country_IN                NaN\n",
              "Country_Non_IN            NaN\n",
              "Stay_Days                2.06\n",
              "Stay_Days_0               NaN\n",
              "Stay_Days_1             59.82\n",
              "Stay_Days_2             21.77\n",
              "Stay_Days_3              8.13\n",
              "Stay_Days_4              3.51\n",
              "Stay_Days_5              1.82\n",
              "Stay_Days_6              4.94\n",
              "Revenue_Per_Pax       6756.43\n",
              "Guest_Category_Ind        NaN\n",
              "Guest_Category_Fam        NaN\n",
              "Guest_Category_MM         NaN\n",
              "Guest_Category_JM         NaN\n",
              "Lead_Days                9.16\n",
              "Lead_Days_0             34.02\n",
              "Lead_Days_1             16.61\n",
              "Lead_Days_2              9.24\n",
              "Lead_Days_3              5.34\n",
              "Lead_Days_4              4.42\n",
              "Lead_Days_5              3.11\n",
              "Lead_Days_6              2.74\n",
              "Lead_Days_7              1.86\n",
              "Lead_Days_8             22.65\n",
              "Cluster                  2.41\n",
              "dtype: float64"
            ]
          },
          "metadata": {
            "tags": []
          },
          "execution_count": 118
        }
      ]
    },
    {
      "cell_type": "code",
      "metadata": {
        "id": "daakdxVbyGDc",
        "colab": {
          "base_uri": "https://localhost:8080/"
        },
        "outputId": "e28d575c-c941-40d9-cb76-14f8d5826d59"
      },
      "source": [
        "cluster_data[\"Country_Key\"] = cluster_data[\"Country_Key\"].apply(lambda x : \"Country_Non_IN\" if x != \"IN\" else \"Country_IN\")\r\n",
        "country_count_data = cluster_data[\"Country_Key\"].value_counts()\r\n",
        "\r\n",
        "print(country_count_data)\r\n",
        "\r\n",
        "country_share_data = round(country_count_data / num_of_guests, 4) * 100\r\n",
        "\r\n",
        "for ind in country_share_data.index:\r\n",
        "  cluster_analysis[ind] = country_share_data[ind]\r\n",
        "\r\n",
        "cluster_analysis"
      ],
      "execution_count": 119,
      "outputs": [
        {
          "output_type": "stream",
          "text": [
            "Country_IN        443317\n",
            "Country_Non_IN     12506\n",
            "Name: Country_Key, dtype: int64\n"
          ],
          "name": "stdout"
        },
        {
          "output_type": "execute_result",
          "data": {
            "text/plain": [
              "Reservation_Count        1.41\n",
              "Reserv_Count_1          81.36\n",
              "Reserv_Count_2          11.58\n",
              "Reserv_Count_3           3.30\n",
              "Reserv_Count_4           3.75\n",
              "Hotel_Count              1.05\n",
              "Hotel_Count_1           95.86\n",
              "Hotel_Count_2            3.61\n",
              "Hotel_Count_3            0.41\n",
              "Hotel_Count_4            0.12\n",
              "Gender_M                  NaN\n",
              "Gender_F                  NaN\n",
              "Gender_Un                 NaN\n",
              "Metro                    0.76\n",
              "Non_Metro                0.65\n",
              "EARLY                    6.61\n",
              "LATE                     5.34\n",
              "MP                       5.30\n",
              "MEAL                    51.25\n",
              "VAS                     13.21\n",
              "ROOM                  4691.51\n",
              "Country_IN              97.26\n",
              "Country_Non_IN           2.74\n",
              "Stay_Days                2.06\n",
              "Stay_Days_0               NaN\n",
              "Stay_Days_1             59.82\n",
              "Stay_Days_2             21.77\n",
              "Stay_Days_3              8.13\n",
              "Stay_Days_4              3.51\n",
              "Stay_Days_5              1.82\n",
              "Stay_Days_6              4.94\n",
              "Revenue_Per_Pax       6756.43\n",
              "Guest_Category_Ind        NaN\n",
              "Guest_Category_Fam        NaN\n",
              "Guest_Category_MM         NaN\n",
              "Guest_Category_JM         NaN\n",
              "Lead_Days                9.16\n",
              "Lead_Days_0             34.02\n",
              "Lead_Days_1             16.61\n",
              "Lead_Days_2              9.24\n",
              "Lead_Days_3              5.34\n",
              "Lead_Days_4              4.42\n",
              "Lead_Days_5              3.11\n",
              "Lead_Days_6              2.74\n",
              "Lead_Days_7              1.86\n",
              "Lead_Days_8             22.65\n",
              "Cluster                  2.41\n",
              "dtype: float64"
            ]
          },
          "metadata": {
            "tags": []
          },
          "execution_count": 119
        }
      ]
    },
    {
      "cell_type": "code",
      "metadata": {
        "id": "W25hqCN646vs",
        "colab": {
          "base_uri": "https://localhost:8080/"
        },
        "outputId": "af6c5013-c4fc-42b8-c2eb-00d230486233"
      },
      "source": [
        "cluster_data[\"Gender\"] = cluster_data[\"Gender\"].apply(lambda x : \"Gender_M\" if x == \"Male\" \r\n",
        "                                                            else \"Gender_F\" if x == \"Female\"\r\n",
        "                                                            else \"Gender_Un\")\r\n",
        "gender_count_data = cluster_data[\"Gender\"].value_counts()\r\n",
        "print(gender_count_data)\r\n",
        "\r\n",
        "gender_share_data = round(gender_count_data / num_of_guests, 4) * 100\r\n",
        "\r\n",
        "for ind in gender_share_data.index:\r\n",
        "  cluster_analysis[ind] = gender_share_data[ind]\r\n",
        "\r\n",
        "cluster_analysis"
      ],
      "execution_count": 120,
      "outputs": [
        {
          "output_type": "stream",
          "text": [
            "Gender_M     251931\n",
            "Gender_Un    164270\n",
            "Gender_F      39622\n",
            "Name: Gender, dtype: int64\n"
          ],
          "name": "stdout"
        },
        {
          "output_type": "execute_result",
          "data": {
            "text/plain": [
              "Reservation_Count        1.41\n",
              "Reserv_Count_1          81.36\n",
              "Reserv_Count_2          11.58\n",
              "Reserv_Count_3           3.30\n",
              "Reserv_Count_4           3.75\n",
              "Hotel_Count              1.05\n",
              "Hotel_Count_1           95.86\n",
              "Hotel_Count_2            3.61\n",
              "Hotel_Count_3            0.41\n",
              "Hotel_Count_4            0.12\n",
              "Gender_M                55.27\n",
              "Gender_F                 8.69\n",
              "Gender_Un               36.04\n",
              "Metro                    0.76\n",
              "Non_Metro                0.65\n",
              "EARLY                    6.61\n",
              "LATE                     5.34\n",
              "MP                       5.30\n",
              "MEAL                    51.25\n",
              "VAS                     13.21\n",
              "ROOM                  4691.51\n",
              "Country_IN              97.26\n",
              "Country_Non_IN           2.74\n",
              "Stay_Days                2.06\n",
              "Stay_Days_0               NaN\n",
              "Stay_Days_1             59.82\n",
              "Stay_Days_2             21.77\n",
              "Stay_Days_3              8.13\n",
              "Stay_Days_4              3.51\n",
              "Stay_Days_5              1.82\n",
              "Stay_Days_6              4.94\n",
              "Revenue_Per_Pax       6756.43\n",
              "Guest_Category_Ind        NaN\n",
              "Guest_Category_Fam        NaN\n",
              "Guest_Category_MM         NaN\n",
              "Guest_Category_JM         NaN\n",
              "Lead_Days                9.16\n",
              "Lead_Days_0             34.02\n",
              "Lead_Days_1             16.61\n",
              "Lead_Days_2              9.24\n",
              "Lead_Days_3              5.34\n",
              "Lead_Days_4              4.42\n",
              "Lead_Days_5              3.11\n",
              "Lead_Days_6              2.74\n",
              "Lead_Days_7              1.86\n",
              "Lead_Days_8             22.65\n",
              "Cluster                  2.41\n",
              "dtype: float64"
            ]
          },
          "metadata": {
            "tags": []
          },
          "execution_count": 120
        }
      ]
    },
    {
      "cell_type": "code",
      "metadata": {
        "id": "rP8DMI7f8-5H",
        "colab": {
          "base_uri": "https://localhost:8080/"
        },
        "outputId": "aea184ce-6199-4066-e006-0ca5dcb6a812"
      },
      "source": [
        "cluster_data[\"Guest_Category\"] = cluster_data[\"Guest_Category\"].apply(lambda x : 'Guest_Category_Ind' if x == \"Individual\" \r\n",
        "                                                            else 'Guest_Category_Fam' if x == \"Family\"\r\n",
        "                                                            else 'Guest_Category_MM' if x == \"Middle Management\"\r\n",
        "                                                            else 'Guest_Category_JM'  )\r\n",
        "guest_cat_count_data = cluster_data[\"Guest_Category\"].value_counts()\r\n",
        "# print(guest_cat_count_data)\r\n",
        "\r\n",
        "guest_cat_share_data = round(guest_cat_count_data / num_of_guests, 4) * 100\r\n",
        "\r\n",
        "for ind in guest_cat_share_data.index:\r\n",
        "  cluster_analysis[ind] = guest_cat_share_data[ind]\r\n",
        "\r\n",
        "cluster_analysis\r\n",
        "\r\n",
        "\r\n",
        "# cluster_data[\"Guest_Category\"].value_counts()"
      ],
      "execution_count": 121,
      "outputs": [
        {
          "output_type": "execute_result",
          "data": {
            "text/plain": [
              "Reservation_Count        1.41\n",
              "Reserv_Count_1          81.36\n",
              "Reserv_Count_2          11.58\n",
              "Reserv_Count_3           3.30\n",
              "Reserv_Count_4           3.75\n",
              "Hotel_Count              1.05\n",
              "Hotel_Count_1           95.86\n",
              "Hotel_Count_2            3.61\n",
              "Hotel_Count_3            0.41\n",
              "Hotel_Count_4            0.12\n",
              "Gender_M                55.27\n",
              "Gender_F                 8.69\n",
              "Gender_Un               36.04\n",
              "Metro                    0.76\n",
              "Non_Metro                0.65\n",
              "EARLY                    6.61\n",
              "LATE                     5.34\n",
              "MP                       5.30\n",
              "MEAL                    51.25\n",
              "VAS                     13.21\n",
              "ROOM                  4691.51\n",
              "Country_IN              97.26\n",
              "Country_Non_IN           2.74\n",
              "Stay_Days                2.06\n",
              "Stay_Days_0               NaN\n",
              "Stay_Days_1             59.82\n",
              "Stay_Days_2             21.77\n",
              "Stay_Days_3              8.13\n",
              "Stay_Days_4              3.51\n",
              "Stay_Days_5              1.82\n",
              "Stay_Days_6              4.94\n",
              "Revenue_Per_Pax       6756.43\n",
              "Guest_Category_Ind      26.13\n",
              "Guest_Category_Fam      41.30\n",
              "Guest_Category_MM       21.53\n",
              "Guest_Category_JM       11.03\n",
              "Lead_Days                9.16\n",
              "Lead_Days_0             34.02\n",
              "Lead_Days_1             16.61\n",
              "Lead_Days_2              9.24\n",
              "Lead_Days_3              5.34\n",
              "Lead_Days_4              4.42\n",
              "Lead_Days_5              3.11\n",
              "Lead_Days_6              2.74\n",
              "Lead_Days_7              1.86\n",
              "Lead_Days_8             22.65\n",
              "Cluster                  2.41\n",
              "dtype: float64"
            ]
          },
          "metadata": {
            "tags": []
          },
          "execution_count": 121
        }
      ]
    },
    {
      "cell_type": "code",
      "metadata": {
        "id": "8Q6r9dzR9ksz",
        "colab": {
          "base_uri": "https://localhost:8080/"
        },
        "outputId": "8d2dbb32-8768-473a-b04d-a6b5dd5199e6"
      },
      "source": [
        "cluster_analysis.fillna(value=0, inplace=True)\r\n",
        "cluster_analysis"
      ],
      "execution_count": 122,
      "outputs": [
        {
          "output_type": "execute_result",
          "data": {
            "text/plain": [
              "Reservation_Count        1.41\n",
              "Reserv_Count_1          81.36\n",
              "Reserv_Count_2          11.58\n",
              "Reserv_Count_3           3.30\n",
              "Reserv_Count_4           3.75\n",
              "Hotel_Count              1.05\n",
              "Hotel_Count_1           95.86\n",
              "Hotel_Count_2            3.61\n",
              "Hotel_Count_3            0.41\n",
              "Hotel_Count_4            0.12\n",
              "Gender_M                55.27\n",
              "Gender_F                 8.69\n",
              "Gender_Un               36.04\n",
              "Metro                    0.76\n",
              "Non_Metro                0.65\n",
              "EARLY                    6.61\n",
              "LATE                     5.34\n",
              "MP                       5.30\n",
              "MEAL                    51.25\n",
              "VAS                     13.21\n",
              "ROOM                  4691.51\n",
              "Country_IN              97.26\n",
              "Country_Non_IN           2.74\n",
              "Stay_Days                2.06\n",
              "Stay_Days_0              0.00\n",
              "Stay_Days_1             59.82\n",
              "Stay_Days_2             21.77\n",
              "Stay_Days_3              8.13\n",
              "Stay_Days_4              3.51\n",
              "Stay_Days_5              1.82\n",
              "Stay_Days_6              4.94\n",
              "Revenue_Per_Pax       6756.43\n",
              "Guest_Category_Ind      26.13\n",
              "Guest_Category_Fam      41.30\n",
              "Guest_Category_MM       21.53\n",
              "Guest_Category_JM       11.03\n",
              "Lead_Days                9.16\n",
              "Lead_Days_0             34.02\n",
              "Lead_Days_1             16.61\n",
              "Lead_Days_2              9.24\n",
              "Lead_Days_3              5.34\n",
              "Lead_Days_4              4.42\n",
              "Lead_Days_5              3.11\n",
              "Lead_Days_6              2.74\n",
              "Lead_Days_7              1.86\n",
              "Lead_Days_8             22.65\n",
              "Cluster                  2.41\n",
              "dtype: float64"
            ]
          },
          "metadata": {
            "tags": []
          },
          "execution_count": 122
        }
      ]
    },
    {
      "cell_type": "code",
      "metadata": {
        "colab": {
          "base_uri": "https://localhost:8080/",
          "height": 97
        },
        "id": "QG_WtPCy49j4",
        "outputId": "17884caf-0922-411a-e760-925321e9eb80"
      },
      "source": [
        "cluster_analysis_df = pd.DataFrame()\r\n",
        "cluster_analysis_df = cluster_analysis_df.append(cluster_analysis, ignore_index = True)\r\n",
        "cluster_analysis_df"
      ],
      "execution_count": 123,
      "outputs": [
        {
          "output_type": "execute_result",
          "data": {
            "text/html": [
              "<div>\n",
              "<style scoped>\n",
              "    .dataframe tbody tr th:only-of-type {\n",
              "        vertical-align: middle;\n",
              "    }\n",
              "\n",
              "    .dataframe tbody tr th {\n",
              "        vertical-align: top;\n",
              "    }\n",
              "\n",
              "    .dataframe thead th {\n",
              "        text-align: right;\n",
              "    }\n",
              "</style>\n",
              "<table border=\"1\" class=\"dataframe\">\n",
              "  <thead>\n",
              "    <tr style=\"text-align: right;\">\n",
              "      <th></th>\n",
              "      <th>Cluster</th>\n",
              "      <th>Country_IN</th>\n",
              "      <th>Country_Non_IN</th>\n",
              "      <th>EARLY</th>\n",
              "      <th>Gender_F</th>\n",
              "      <th>Gender_M</th>\n",
              "      <th>Gender_Un</th>\n",
              "      <th>Guest_Category_Fam</th>\n",
              "      <th>Guest_Category_Ind</th>\n",
              "      <th>Guest_Category_JM</th>\n",
              "      <th>Guest_Category_MM</th>\n",
              "      <th>Hotel_Count</th>\n",
              "      <th>Hotel_Count_1</th>\n",
              "      <th>Hotel_Count_2</th>\n",
              "      <th>Hotel_Count_3</th>\n",
              "      <th>Hotel_Count_4</th>\n",
              "      <th>LATE</th>\n",
              "      <th>Lead_Days</th>\n",
              "      <th>Lead_Days_0</th>\n",
              "      <th>Lead_Days_1</th>\n",
              "      <th>Lead_Days_2</th>\n",
              "      <th>Lead_Days_3</th>\n",
              "      <th>Lead_Days_4</th>\n",
              "      <th>Lead_Days_5</th>\n",
              "      <th>Lead_Days_6</th>\n",
              "      <th>Lead_Days_7</th>\n",
              "      <th>Lead_Days_8</th>\n",
              "      <th>MEAL</th>\n",
              "      <th>MP</th>\n",
              "      <th>Metro</th>\n",
              "      <th>Non_Metro</th>\n",
              "      <th>ROOM</th>\n",
              "      <th>Reserv_Count_1</th>\n",
              "      <th>Reserv_Count_2</th>\n",
              "      <th>Reserv_Count_3</th>\n",
              "      <th>Reserv_Count_4</th>\n",
              "      <th>Reservation_Count</th>\n",
              "      <th>Revenue_Per_Pax</th>\n",
              "      <th>Stay_Days</th>\n",
              "      <th>Stay_Days_0</th>\n",
              "      <th>Stay_Days_1</th>\n",
              "      <th>Stay_Days_2</th>\n",
              "      <th>Stay_Days_3</th>\n",
              "      <th>Stay_Days_4</th>\n",
              "      <th>Stay_Days_5</th>\n",
              "      <th>Stay_Days_6</th>\n",
              "      <th>VAS</th>\n",
              "    </tr>\n",
              "  </thead>\n",
              "  <tbody>\n",
              "    <tr>\n",
              "      <th>0</th>\n",
              "      <td>2.41</td>\n",
              "      <td>97.26</td>\n",
              "      <td>2.74</td>\n",
              "      <td>6.61</td>\n",
              "      <td>8.69</td>\n",
              "      <td>55.27</td>\n",
              "      <td>36.04</td>\n",
              "      <td>41.3</td>\n",
              "      <td>26.13</td>\n",
              "      <td>11.03</td>\n",
              "      <td>21.53</td>\n",
              "      <td>1.05</td>\n",
              "      <td>95.86</td>\n",
              "      <td>3.61</td>\n",
              "      <td>0.41</td>\n",
              "      <td>0.12</td>\n",
              "      <td>5.34</td>\n",
              "      <td>9.16</td>\n",
              "      <td>34.02</td>\n",
              "      <td>16.61</td>\n",
              "      <td>9.24</td>\n",
              "      <td>5.34</td>\n",
              "      <td>4.42</td>\n",
              "      <td>3.11</td>\n",
              "      <td>2.74</td>\n",
              "      <td>1.86</td>\n",
              "      <td>22.65</td>\n",
              "      <td>51.25</td>\n",
              "      <td>5.3</td>\n",
              "      <td>0.76</td>\n",
              "      <td>0.65</td>\n",
              "      <td>4691.51</td>\n",
              "      <td>81.36</td>\n",
              "      <td>11.58</td>\n",
              "      <td>3.3</td>\n",
              "      <td>3.75</td>\n",
              "      <td>1.41</td>\n",
              "      <td>6756.43</td>\n",
              "      <td>2.06</td>\n",
              "      <td>0.0</td>\n",
              "      <td>59.82</td>\n",
              "      <td>21.77</td>\n",
              "      <td>8.13</td>\n",
              "      <td>3.51</td>\n",
              "      <td>1.82</td>\n",
              "      <td>4.94</td>\n",
              "      <td>13.21</td>\n",
              "    </tr>\n",
              "  </tbody>\n",
              "</table>\n",
              "</div>"
            ],
            "text/plain": [
              "   Cluster  Country_IN  Country_Non_IN  ...  Stay_Days_5  Stay_Days_6    VAS\n",
              "0     2.41       97.26            2.74  ...         1.82         4.94  13.21\n",
              "\n",
              "[1 rows x 47 columns]"
            ]
          },
          "metadata": {
            "tags": []
          },
          "execution_count": 123
        }
      ]
    },
    {
      "cell_type": "code",
      "metadata": {
        "colab": {
          "base_uri": "https://localhost:8080/",
          "height": 31
        },
        "id": "C_MVN50i6V_-",
        "outputId": "66e32b4c-f688-4bc1-c071-e4b40fcd3da4"
      },
      "source": [
        ""
      ],
      "execution_count": 99,
      "outputs": [
        {
          "output_type": "execute_result",
          "data": {
            "text/html": [
              "<div>\n",
              "<style scoped>\n",
              "    .dataframe tbody tr th:only-of-type {\n",
              "        vertical-align: middle;\n",
              "    }\n",
              "\n",
              "    .dataframe tbody tr th {\n",
              "        vertical-align: top;\n",
              "    }\n",
              "\n",
              "    .dataframe thead th {\n",
              "        text-align: right;\n",
              "    }\n",
              "</style>\n",
              "<table border=\"1\" class=\"dataframe\">\n",
              "  <thead>\n",
              "    <tr style=\"text-align: right;\">\n",
              "      <th></th>\n",
              "    </tr>\n",
              "  </thead>\n",
              "  <tbody>\n",
              "  </tbody>\n",
              "</table>\n",
              "</div>"
            ],
            "text/plain": [
              "Empty DataFrame\n",
              "Columns: []\n",
              "Index: []"
            ]
          },
          "metadata": {
            "tags": []
          },
          "execution_count": 99
        }
      ]
    },
    {
      "cell_type": "code",
      "metadata": {
        "id": "f1ChJNHR6aLQ"
      },
      "source": [
        ""
      ],
      "execution_count": null,
      "outputs": []
    }
  ]
}