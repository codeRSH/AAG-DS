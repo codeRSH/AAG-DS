{
  "nbformat": 4,
  "nbformat_minor": 0,
  "metadata": {
    "colab": {
      "name": "AAG-Cluster-Analysis.ipynb",
      "provenance": [],
      "collapsed_sections": [],
      "authorship_tag": "ABX9TyNPXCU3NyfLAD59KJel4haz",
      "include_colab_link": true
    },
    "kernelspec": {
      "name": "python3",
      "display_name": "Python 3"
    }
  },
  "cells": [
    {
      "cell_type": "markdown",
      "metadata": {
        "id": "view-in-github",
        "colab_type": "text"
      },
      "source": [
        "<a href=\"https://colab.research.google.com/github/codeRSH/AAG-DS/blob/main/AAG_Cluster_Analysis.ipynb\" target=\"_parent\"><img src=\"https://colab.research.google.com/assets/colab-badge.svg\" alt=\"Open In Colab\"/></a>"
      ]
    },
    {
      "cell_type": "markdown",
      "metadata": {
        "id": "7Yn2wVOeeAQX"
      },
      "source": [
        "# Cluster Analysis Using Python"
      ]
    },
    {
      "cell_type": "markdown",
      "metadata": {
        "id": "YzA0iwGOq0Pm"
      },
      "source": [
        "## Initial Setup"
      ]
    },
    {
      "cell_type": "markdown",
      "metadata": {
        "id": "B3ekGsF9qj0T"
      },
      "source": [
        "### Mount Drive to Read files"
      ]
    },
    {
      "cell_type": "code",
      "metadata": {
        "id": "BhBkh7OAgIu0",
        "colab": {
          "base_uri": "https://localhost:8080/"
        },
        "outputId": "f5d7d58a-a30c-4478-b677-5ae821a693e6"
      },
      "source": [
        "from google.colab import drive\n",
        "\n",
        "drive.mount('/content/drive')"
      ],
      "execution_count": 1,
      "outputs": [
        {
          "output_type": "stream",
          "text": [
            "Mounted at /content/drive\n"
          ],
          "name": "stdout"
        }
      ]
    },
    {
      "cell_type": "markdown",
      "metadata": {
        "id": "3crOX2IwgUIq"
      },
      "source": [
        "### Import All Relevant Libraries"
      ]
    },
    {
      "cell_type": "code",
      "metadata": {
        "id": "QvlOLYb6gN3T"
      },
      "source": [
        "import glob\n",
        "import pandas as pd\n",
        "import numpy as np"
      ],
      "execution_count": 2,
      "outputs": []
    },
    {
      "cell_type": "markdown",
      "metadata": {
        "id": "0VCwwRoH17TB"
      },
      "source": [
        "### Make Plots show within the notebook output"
      ]
    },
    {
      "cell_type": "code",
      "metadata": {
        "id": "WpuEe0Vieo8-"
      },
      "source": [
        "import matplotlib as mp\r\n",
        "import matplotlib.pyplot as plt\r\n",
        "%matplotlib inline"
      ],
      "execution_count": 3,
      "outputs": []
    },
    {
      "cell_type": "markdown",
      "metadata": {
        "id": "z0xukazU33I1"
      },
      "source": [
        "### Ignore Warnings (for clean output)"
      ]
    },
    {
      "cell_type": "code",
      "metadata": {
        "id": "rbLT-i5v3107"
      },
      "source": [
        "import warnings\r\n",
        "warnings.filterwarnings('ignore')"
      ],
      "execution_count": 4,
      "outputs": []
    },
    {
      "cell_type": "markdown",
      "metadata": {
        "id": "TlbbMgIghPqS"
      },
      "source": [
        "### Define File Paths"
      ]
    },
    {
      "cell_type": "code",
      "metadata": {
        "id": "QuLKHcEnhUop"
      },
      "source": [
        "init_input_path = \"/content/drive/MyDrive/AAG DS Folder/Capstone/\"\n",
        "\n",
        "input_cluster_path = init_input_path + \"cluster/*csv\"\n",
        "\n",
        "init_output_path = \"/content/drive/MyDrive/AAG DS Folder/Capstone/output/\"\n",
        "ouptut_cluster_path = init_output_path + \"cluster_final_analysis.csv\""
      ],
      "execution_count": 5,
      "outputs": []
    },
    {
      "cell_type": "markdown",
      "metadata": {
        "id": "83d79DN3gker"
      },
      "source": [
        "## Data Loading and Wrangling"
      ]
    },
    {
      "cell_type": "markdown",
      "metadata": {
        "id": "1WRlyKJ4Ocwt"
      },
      "source": [
        "### Read Cluster Input Data"
      ]
    },
    {
      "cell_type": "code",
      "metadata": {
        "colab": {
          "base_uri": "https://localhost:8080/",
          "height": 489
        },
        "id": "Ze1yl-_DfaWn",
        "outputId": "583794df-2544-4dd5-cbbf-8f6130c3c905"
      },
      "source": [
        "# Input Cluster Data Frame\r\n",
        "cluster_data = pd.DataFrame()\r\n",
        "\r\n",
        "print(glob.glob(input_cluster_path))\r\n",
        "\r\n",
        "# Read the Cluster data from all the available csv files\r\n",
        "for file in glob.glob(input_cluster_path):\r\n",
        "    data = pd.read_csv(file, parse_dates=True, encoding=\"latin1\",\r\n",
        "                       error_bad_lines=False, usecols = [*range(1, 10), *range(11, 20)] )\r\n",
        "    cluster_data = cluster_data.append(data)\r\n",
        "\r\n",
        "cluster_data.columns = ['Guest_ID', 'Reservation_Count', 'Hotel_Count', 'Gender', \r\n",
        "                     'Metro', 'Non_Metro', 'EARLY', 'LATE', 'MP', 'MEAL',\t\r\n",
        "                     'ROOM', 'VAS', 'Country_Key', 'Stay_Days', 'Revenue_Per_Pax',\t\r\n",
        "                     'Guest_Category', 'Lead_Days',\t'Cluster' ]\r\n",
        "\r\n",
        "cluster_data"
      ],
      "execution_count": 28,
      "outputs": [
        {
          "output_type": "stream",
          "text": [
            "['/content/drive/MyDrive/AAG DS Folder/Capstone/cluster/kmeans_clusters.csv']\n"
          ],
          "name": "stdout"
        },
        {
          "output_type": "execute_result",
          "data": {
            "text/html": [
              "<div>\n",
              "<style scoped>\n",
              "    .dataframe tbody tr th:only-of-type {\n",
              "        vertical-align: middle;\n",
              "    }\n",
              "\n",
              "    .dataframe tbody tr th {\n",
              "        vertical-align: top;\n",
              "    }\n",
              "\n",
              "    .dataframe thead th {\n",
              "        text-align: right;\n",
              "    }\n",
              "</style>\n",
              "<table border=\"1\" class=\"dataframe\">\n",
              "  <thead>\n",
              "    <tr style=\"text-align: right;\">\n",
              "      <th></th>\n",
              "      <th>Guest_ID</th>\n",
              "      <th>Reservation_Count</th>\n",
              "      <th>Hotel_Count</th>\n",
              "      <th>Gender</th>\n",
              "      <th>Metro</th>\n",
              "      <th>Non_Metro</th>\n",
              "      <th>EARLY</th>\n",
              "      <th>LATE</th>\n",
              "      <th>MP</th>\n",
              "      <th>MEAL</th>\n",
              "      <th>ROOM</th>\n",
              "      <th>VAS</th>\n",
              "      <th>Country_Key</th>\n",
              "      <th>Stay_Days</th>\n",
              "      <th>Revenue_Per_Pax</th>\n",
              "      <th>Guest_Category</th>\n",
              "      <th>Lead_Days</th>\n",
              "      <th>Cluster</th>\n",
              "    </tr>\n",
              "  </thead>\n",
              "  <tbody>\n",
              "    <tr>\n",
              "      <th>0</th>\n",
              "      <td>39853</td>\n",
              "      <td>1</td>\n",
              "      <td>1</td>\n",
              "      <td>Undisclosed</td>\n",
              "      <td>1</td>\n",
              "      <td>0</td>\n",
              "      <td>1.0</td>\n",
              "      <td>1.0</td>\n",
              "      <td>1.0</td>\n",
              "      <td>1.0</td>\n",
              "      <td>3275.774400</td>\n",
              "      <td>1.0</td>\n",
              "      <td>IN</td>\n",
              "      <td>1</td>\n",
              "      <td>4212.774400</td>\n",
              "      <td>Individual</td>\n",
              "      <td>1.000000</td>\n",
              "      <td>4</td>\n",
              "    </tr>\n",
              "    <tr>\n",
              "      <th>1</th>\n",
              "      <td>55125</td>\n",
              "      <td>4</td>\n",
              "      <td>1</td>\n",
              "      <td>Undisclosed</td>\n",
              "      <td>4</td>\n",
              "      <td>0</td>\n",
              "      <td>1.0</td>\n",
              "      <td>1.0</td>\n",
              "      <td>1.0</td>\n",
              "      <td>1.0</td>\n",
              "      <td>16078.568000</td>\n",
              "      <td>1.0</td>\n",
              "      <td>IN</td>\n",
              "      <td>2</td>\n",
              "      <td>9577.284000</td>\n",
              "      <td>Middle Management</td>\n",
              "      <td>2.750000</td>\n",
              "      <td>3</td>\n",
              "    </tr>\n",
              "    <tr>\n",
              "      <th>2</th>\n",
              "      <td>60873</td>\n",
              "      <td>3</td>\n",
              "      <td>2</td>\n",
              "      <td>Undisclosed</td>\n",
              "      <td>2</td>\n",
              "      <td>1</td>\n",
              "      <td>1.0</td>\n",
              "      <td>1.0</td>\n",
              "      <td>1.0</td>\n",
              "      <td>1.0</td>\n",
              "      <td>6137.915533</td>\n",
              "      <td>1.0</td>\n",
              "      <td>IN</td>\n",
              "      <td>6</td>\n",
              "      <td>20389.146600</td>\n",
              "      <td>Middle Management</td>\n",
              "      <td>2.000000</td>\n",
              "      <td>3</td>\n",
              "    </tr>\n",
              "    <tr>\n",
              "      <th>3</th>\n",
              "      <td>74138</td>\n",
              "      <td>8</td>\n",
              "      <td>1</td>\n",
              "      <td>Undisclosed</td>\n",
              "      <td>8</td>\n",
              "      <td>0</td>\n",
              "      <td>1.0</td>\n",
              "      <td>1.0</td>\n",
              "      <td>1.0</td>\n",
              "      <td>1.0</td>\n",
              "      <td>11308.820000</td>\n",
              "      <td>1.0</td>\n",
              "      <td>IN</td>\n",
              "      <td>1</td>\n",
              "      <td>4566.273333</td>\n",
              "      <td>Middle Management</td>\n",
              "      <td>0.666667</td>\n",
              "      <td>3</td>\n",
              "    </tr>\n",
              "    <tr>\n",
              "      <th>4</th>\n",
              "      <td>112568</td>\n",
              "      <td>1</td>\n",
              "      <td>1</td>\n",
              "      <td>Undisclosed</td>\n",
              "      <td>1</td>\n",
              "      <td>0</td>\n",
              "      <td>1.0</td>\n",
              "      <td>1.0</td>\n",
              "      <td>1.0</td>\n",
              "      <td>1.0</td>\n",
              "      <td>5341.320000</td>\n",
              "      <td>1.0</td>\n",
              "      <td>IN</td>\n",
              "      <td>1</td>\n",
              "      <td>5822.320000</td>\n",
              "      <td>Individual</td>\n",
              "      <td>1.000000</td>\n",
              "      <td>4</td>\n",
              "    </tr>\n",
              "    <tr>\n",
              "      <th>...</th>\n",
              "      <td>...</td>\n",
              "      <td>...</td>\n",
              "      <td>...</td>\n",
              "      <td>...</td>\n",
              "      <td>...</td>\n",
              "      <td>...</td>\n",
              "      <td>...</td>\n",
              "      <td>...</td>\n",
              "      <td>...</td>\n",
              "      <td>...</td>\n",
              "      <td>...</td>\n",
              "      <td>...</td>\n",
              "      <td>...</td>\n",
              "      <td>...</td>\n",
              "      <td>...</td>\n",
              "      <td>...</td>\n",
              "      <td>...</td>\n",
              "      <td>...</td>\n",
              "    </tr>\n",
              "    <tr>\n",
              "      <th>7193</th>\n",
              "      <td>3757436</td>\n",
              "      <td>1</td>\n",
              "      <td>1</td>\n",
              "      <td>Male</td>\n",
              "      <td>1</td>\n",
              "      <td>0</td>\n",
              "      <td>1.0</td>\n",
              "      <td>1.0</td>\n",
              "      <td>1.0</td>\n",
              "      <td>1.0</td>\n",
              "      <td>3457.245000</td>\n",
              "      <td>1.0</td>\n",
              "      <td>IN</td>\n",
              "      <td>2</td>\n",
              "      <td>10890.880000</td>\n",
              "      <td>Family</td>\n",
              "      <td>319.000000</td>\n",
              "      <td>5</td>\n",
              "    </tr>\n",
              "    <tr>\n",
              "      <th>7194</th>\n",
              "      <td>3757460</td>\n",
              "      <td>1</td>\n",
              "      <td>1</td>\n",
              "      <td>Undisclosed</td>\n",
              "      <td>1</td>\n",
              "      <td>0</td>\n",
              "      <td>1.0</td>\n",
              "      <td>1.0</td>\n",
              "      <td>1.0</td>\n",
              "      <td>1.0</td>\n",
              "      <td>3438.410000</td>\n",
              "      <td>1.0</td>\n",
              "      <td>IN</td>\n",
              "      <td>2</td>\n",
              "      <td>10603.005000</td>\n",
              "      <td>Family</td>\n",
              "      <td>319.000000</td>\n",
              "      <td>2</td>\n",
              "    </tr>\n",
              "    <tr>\n",
              "      <th>7195</th>\n",
              "      <td>3757466</td>\n",
              "      <td>1</td>\n",
              "      <td>1</td>\n",
              "      <td>Undisclosed</td>\n",
              "      <td>1</td>\n",
              "      <td>0</td>\n",
              "      <td>1.0</td>\n",
              "      <td>1.0</td>\n",
              "      <td>1.0</td>\n",
              "      <td>1.0</td>\n",
              "      <td>3438.410000</td>\n",
              "      <td>1.0</td>\n",
              "      <td>IN</td>\n",
              "      <td>2</td>\n",
              "      <td>10603.005000</td>\n",
              "      <td>Family</td>\n",
              "      <td>319.000000</td>\n",
              "      <td>2</td>\n",
              "    </tr>\n",
              "    <tr>\n",
              "      <th>7196</th>\n",
              "      <td>3757480</td>\n",
              "      <td>1</td>\n",
              "      <td>1</td>\n",
              "      <td>Female</td>\n",
              "      <td>1</td>\n",
              "      <td>0</td>\n",
              "      <td>1.0</td>\n",
              "      <td>1.0</td>\n",
              "      <td>1.0</td>\n",
              "      <td>1.0</td>\n",
              "      <td>3438.410000</td>\n",
              "      <td>1.0</td>\n",
              "      <td>IN</td>\n",
              "      <td>2</td>\n",
              "      <td>10603.005000</td>\n",
              "      <td>Family</td>\n",
              "      <td>319.000000</td>\n",
              "      <td>2</td>\n",
              "    </tr>\n",
              "    <tr>\n",
              "      <th>7197</th>\n",
              "      <td>3757499</td>\n",
              "      <td>1</td>\n",
              "      <td>1</td>\n",
              "      <td>Undisclosed</td>\n",
              "      <td>1</td>\n",
              "      <td>0</td>\n",
              "      <td>1.0</td>\n",
              "      <td>1.0</td>\n",
              "      <td>1.0</td>\n",
              "      <td>1.0</td>\n",
              "      <td>3438.410000</td>\n",
              "      <td>1.0</td>\n",
              "      <td>IN</td>\n",
              "      <td>2</td>\n",
              "      <td>10603.005000</td>\n",
              "      <td>Family</td>\n",
              "      <td>319.000000</td>\n",
              "      <td>2</td>\n",
              "    </tr>\n",
              "  </tbody>\n",
              "</table>\n",
              "<p>7198 rows × 18 columns</p>\n",
              "</div>"
            ],
            "text/plain": [
              "      Guest_ID  Reservation_Count  ...   Lead_Days Cluster\n",
              "0        39853                  1  ...    1.000000       4\n",
              "1        55125                  4  ...    2.750000       3\n",
              "2        60873                  3  ...    2.000000       3\n",
              "3        74138                  8  ...    0.666667       3\n",
              "4       112568                  1  ...    1.000000       4\n",
              "...        ...                ...  ...         ...     ...\n",
              "7193   3757436                  1  ...  319.000000       5\n",
              "7194   3757460                  1  ...  319.000000       2\n",
              "7195   3757466                  1  ...  319.000000       2\n",
              "7196   3757480                  1  ...  319.000000       2\n",
              "7197   3757499                  1  ...  319.000000       2\n",
              "\n",
              "[7198 rows x 18 columns]"
            ]
          },
          "metadata": {
            "tags": []
          },
          "execution_count": 28
        }
      ]
    },
    {
      "cell_type": "code",
      "metadata": {
        "colab": {
          "base_uri": "https://localhost:8080/"
        },
        "id": "L7PND55zxbXe",
        "outputId": "7330e5b0-da42-43e7-aacd-bfb6f3737469"
      },
      "source": [
        "# Determine the Number of guests\r\n",
        "num_of_guests = cluster_data[\"Guest_ID\"].nunique()\r\n",
        "num_of_guests"
      ],
      "execution_count": 29,
      "outputs": [
        {
          "output_type": "execute_result",
          "data": {
            "text/plain": [
              "7198"
            ]
          },
          "metadata": {
            "tags": []
          },
          "execution_count": 29
        }
      ]
    },
    {
      "cell_type": "code",
      "metadata": {
        "id": "E1D_OGb4ql9f",
        "colab": {
          "base_uri": "https://localhost:8080/"
        },
        "outputId": "b42b2a93-6466-4e1b-ed9d-b00003c233aa"
      },
      "source": [
        "round(cluster_data[\"Reservation_Count\"].sum() / num_of_guests, 2)"
      ],
      "execution_count": 30,
      "outputs": [
        {
          "output_type": "execute_result",
          "data": {
            "text/plain": [
              "1.57"
            ]
          },
          "metadata": {
            "tags": []
          },
          "execution_count": 30
        }
      ]
    },
    {
      "cell_type": "code",
      "metadata": {
        "colab": {
          "base_uri": "https://localhost:8080/"
        },
        "id": "gwQDJfVbybVt",
        "outputId": "8bd544f0-b5d4-4d17-9984-d02fdf6ac631"
      },
      "source": [
        "cluster_analysis = pd.Series(index = ['Reservation_Count', \r\n",
        "                                           'Reserv_Count_1', 'Reserv_Count_2',\r\n",
        "                                           'Reserv_Count_3', 'Reserv_Count_3plus', \r\n",
        "                                           'Hotel_Count', \r\n",
        "                                           'Hotel_Count_1', 'Hotel_Count_2',\r\n",
        "                                           'Hotel_Count_3','Hotel_Count_3plus',\r\n",
        "                                           'Gender_M', 'Gender_F', 'Gender_Un',\r\n",
        "                                           'Metro', 'Non_Metro', 'EARLY', 'LATE', \r\n",
        "                                           'MP', 'MEAL', 'ROOM', 'VAS', 'Country_IN',\r\n",
        "                                           'Country_Non_IN', 'Stay_Days', 'Stay_Days_0',\r\n",
        "                                           'Stay_Days_1', 'Stay_Days_2', 'Stay_Days_3',\r\n",
        "                                           'Stay_Days_4', 'Stay_Days_5', 'Stay_Days_5plus',\r\n",
        "                                           'Stay_Days_0avg', 'Stay_Days_1avg', 'Stay_Days_2avg', \r\n",
        "                                           'Stay_Days_3avg', 'Stay_Days_4avg', 'Stay_Days_5avg', \r\n",
        "                                           'Stay_Days_5plusavg', 'Revenue_Per_Pax',\t'Guest_Category_Ind',\r\n",
        "                                           'Guest_Category_Fam', 'Guest_Category_Smg', 'Guest_Category_Mmg', \r\n",
        "                                           'Lead_Days',  'Lead_Days_0',  'Lead_Days_1',\t\r\n",
        "                                           'Lead_Days_2',\t 'Lead_Days_3',\t 'Lead_Days_4',\t\r\n",
        "                                           'Lead_Days_5',\t 'Lead_Days_6',\t 'Lead_Days_7',\t\r\n",
        "                                           'Lead_Days_7plus',\t'Cluster' ])\r\n",
        "\r\n",
        "# pd.Series()\r\n",
        "\r\n",
        "# cluster_analysis.append(pd.Series(), ignore_index=True)\r\n",
        "cluster_analysis"
      ],
      "execution_count": 44,
      "outputs": [
        {
          "output_type": "execute_result",
          "data": {
            "text/plain": [
              "Reservation_Count    NaN\n",
              "Reserv_Count_0       NaN\n",
              "Reserv_Count_1       NaN\n",
              "Reserv_Count_2       NaN\n",
              "Reserv_Count_3       NaN\n",
              "Reserv_Count_3plus   NaN\n",
              "Hotel_Count          NaN\n",
              "Hotel_Count_0        NaN\n",
              "Hotel_Count_1        NaN\n",
              "Hotel_Count_2        NaN\n",
              "Hotel_Count_3        NaN\n",
              "Hotel_Count_3plus    NaN\n",
              "Gender_M             NaN\n",
              "Gender_F             NaN\n",
              "Gender_Un            NaN\n",
              "Metro                NaN\n",
              "Non_Metro            NaN\n",
              "EARLY                NaN\n",
              "LATE                 NaN\n",
              "MP                   NaN\n",
              "MEAL                 NaN\n",
              "ROOM                 NaN\n",
              "VAS                  NaN\n",
              "Country_IN           NaN\n",
              "Country_Non_IN       NaN\n",
              "Stay_Days            NaN\n",
              "Stay_Days_0          NaN\n",
              "Stay_Days_1          NaN\n",
              "Stay_Days_2          NaN\n",
              "Stay_Days_3          NaN\n",
              "Stay_Days_4          NaN\n",
              "Stay_Days_5          NaN\n",
              "Stay_Days_5plus      NaN\n",
              "Stay_Days_0avg       NaN\n",
              "Stay_Days_1avg       NaN\n",
              "Stay_Days_2avg       NaN\n",
              "Stay_Days_3avg       NaN\n",
              "Stay_Days_4avg       NaN\n",
              "Stay_Days_5avg       NaN\n",
              "Stay_Days_5plusavg   NaN\n",
              "Revenue_Per_Pax      NaN\n",
              "Guest_Category_Ind   NaN\n",
              "Guest_Category_Fam   NaN\n",
              "Guest_Category_Smg   NaN\n",
              "Guest_Category_Mmg   NaN\n",
              "Lead_Days            NaN\n",
              "Lead_Days_0          NaN\n",
              "Lead_Days_1          NaN\n",
              "Lead_Days_2          NaN\n",
              "Lead_Days_3          NaN\n",
              "Lead_Days_4          NaN\n",
              "Lead_Days_5          NaN\n",
              "Lead_Days_6          NaN\n",
              "Lead_Days_7          NaN\n",
              "Lead_Days_7plus      NaN\n",
              "Cluster              NaN\n",
              "dtype: float64"
            ]
          },
          "metadata": {
            "tags": []
          },
          "execution_count": 44
        }
      ]
    },
    {
      "cell_type": "code",
      "metadata": {
        "colab": {
          "base_uri": "https://localhost:8080/"
        },
        "id": "OLUTm_f576oB",
        "outputId": "7ab6c29a-0eb6-4a03-fcaf-785fa5dd708b"
      },
      "source": [
        "cluster_analysis.shape"
      ],
      "execution_count": 45,
      "outputs": [
        {
          "output_type": "execute_result",
          "data": {
            "text/plain": [
              "(56,)"
            ]
          },
          "metadata": {
            "tags": []
          },
          "execution_count": 45
        }
      ]
    },
    {
      "cell_type": "code",
      "metadata": {
        "colab": {
          "base_uri": "https://localhost:8080/"
        },
        "id": "05bxahSg4CiN",
        "outputId": "d35b7ec6-73d7-43f2-ca0d-c8c00ca17c65"
      },
      "source": [
        "avg_of_cluster_data = round((cluster_data[['Reservation_Count', 'Hotel_Count', \r\n",
        "                     'Metro', 'Non_Metro', 'EARLY', 'LATE', 'MP', 'MEAL',\t\r\n",
        "                     'ROOM', 'VAS', 'Stay_Days', 'Revenue_Per_Pax',\t\r\n",
        "                    'Lead_Days',\t ]].sum() / num_of_guests), 2 )\r\n",
        "avg_of_cluster_data"
      ],
      "execution_count": 46,
      "outputs": [
        {
          "output_type": "execute_result",
          "data": {
            "text/plain": [
              "Reservation_Count        1.57\n",
              "Hotel_Count              1.03\n",
              "Metro                    1.55\n",
              "Non_Metro                0.02\n",
              "EARLY                    1.00\n",
              "LATE                     1.00\n",
              "MP                       1.00\n",
              "MEAL                     1.00\n",
              "ROOM                  5754.48\n",
              "VAS                      1.00\n",
              "Stay_Days                2.29\n",
              "Revenue_Per_Pax      10916.55\n",
              "Lead_Days               11.96\n",
              "dtype: float64"
            ]
          },
          "metadata": {
            "tags": []
          },
          "execution_count": 46
        }
      ]
    },
    {
      "cell_type": "code",
      "metadata": {
        "id": "0JJ7ugao6I6d"
      },
      "source": [
        "for ind in avg_of_cluster_data.index:\r\n",
        "  cluster_analysis[ind] = avg_of_cluster_data[ind]"
      ],
      "execution_count": 50,
      "outputs": []
    },
    {
      "cell_type": "code",
      "metadata": {
        "id": "Es7n8HKE63Gf"
      },
      "source": [
        "cluster_data_reserv_count = cluster_data[\"Reservation_Count\"].value_counts()"
      ],
      "execution_count": 73,
      "outputs": []
    },
    {
      "cell_type": "code",
      "metadata": {
        "colab": {
          "base_uri": "https://localhost:8080/"
        },
        "id": "2jMyBZTW9-jf",
        "outputId": "577529bc-41f8-42b9-c22b-920dc5a5e4fd"
      },
      "source": [
        "cluster_data_reserv_count[4] = cluster_data_reserv_count.loc[4:].sum()\r\n",
        "cluster_data_reserv_count.loc[4]"
      ],
      "execution_count": 74,
      "outputs": [
        {
          "output_type": "execute_result",
          "data": {
            "text/plain": [
              "461"
            ]
          },
          "metadata": {
            "tags": []
          },
          "execution_count": 74
        }
      ]
    },
    {
      "cell_type": "code",
      "metadata": {
        "colab": {
          "base_uri": "https://localhost:8080/"
        },
        "id": "PNpUCI9i-i1D",
        "outputId": "44b4432f-e433-4a60-bca7-4175174d2186"
      },
      "source": [
        "cluster_data_reserv_count = cluster_data_reserv_count[:4]\r\n",
        "cluster_data_reserv_count"
      ],
      "execution_count": 75,
      "outputs": [
        {
          "output_type": "execute_result",
          "data": {
            "text/plain": [
              "1    5463\n",
              "2     933\n",
              "3     341\n",
              "4     461\n",
              "Name: Reservation_Count, dtype: int64"
            ]
          },
          "metadata": {
            "tags": []
          },
          "execution_count": 75
        }
      ]
    },
    {
      "cell_type": "code",
      "metadata": {
        "colab": {
          "base_uri": "https://localhost:8080/"
        },
        "id": "XcrJPYDE-kQX",
        "outputId": "e833224f-c585-4739-f9f4-415a06537c85"
      },
      "source": [
        "cluster_data_reserv_share = round(cluster_data_reserv_count / num_of_guests, 4) * 100\r\n",
        "cluster_data_reserv_share"
      ],
      "execution_count": 76,
      "outputs": [
        {
          "output_type": "execute_result",
          "data": {
            "text/plain": [
              "1    75.90\n",
              "2    12.96\n",
              "3     4.74\n",
              "4     6.40\n",
              "Name: Reservation_Count, dtype: float64"
            ]
          },
          "metadata": {
            "tags": []
          },
          "execution_count": 76
        }
      ]
    },
    {
      "cell_type": "code",
      "metadata": {
        "colab": {
          "base_uri": "https://localhost:8080/"
        },
        "id": "8Feq3L-o_aX_",
        "outputId": "16ee6b14-91f2-447f-cbdb-9eb507618f49"
      },
      "source": [
        "cluster_data_reserv_share.index = ['Reserv_Count_1', 'Reserv_Count_2',\r\n",
        "                                   'Reserv_Count_3', 'Reserv_Count_3plus']\r\n",
        "cluster_data_reserv_share"
      ],
      "execution_count": 78,
      "outputs": [
        {
          "output_type": "execute_result",
          "data": {
            "text/plain": [
              "Reserv_Count_1        75.90\n",
              "Reserv_Count_2        12.96\n",
              "Reserv_Count_3         4.74\n",
              "Reserv_Count_3plus     6.40\n",
              "Name: Reservation_Count, dtype: float64"
            ]
          },
          "metadata": {
            "tags": []
          },
          "execution_count": 78
        }
      ]
    },
    {
      "cell_type": "code",
      "metadata": {
        "id": "rcftMNY1ASmT"
      },
      "source": [
        "for ind in cluster_data_reserv_share.index:\r\n",
        "  cluster_analysis[ind] = cluster_data_reserv_share[ind]"
      ],
      "execution_count": 80,
      "outputs": []
    },
    {
      "cell_type": "code",
      "metadata": {
        "colab": {
          "base_uri": "https://localhost:8080/"
        },
        "id": "iViF9vT1BXlL",
        "outputId": "3811b83b-de81-46f1-d74b-9b4bc176b263"
      },
      "source": [
        "cluster_analysis"
      ],
      "execution_count": 81,
      "outputs": [
        {
          "output_type": "execute_result",
          "data": {
            "text/plain": [
              "Reservation_Count         1.57\n",
              "Reserv_Count_0             NaN\n",
              "Reserv_Count_1           75.90\n",
              "Reserv_Count_2           12.96\n",
              "Reserv_Count_3            4.74\n",
              "Reserv_Count_3plus        6.40\n",
              "Hotel_Count               1.03\n",
              "Hotel_Count_0              NaN\n",
              "Hotel_Count_1              NaN\n",
              "Hotel_Count_2              NaN\n",
              "Hotel_Count_3              NaN\n",
              "Hotel_Count_3plus          NaN\n",
              "Gender_M                   NaN\n",
              "Gender_F                   NaN\n",
              "Gender_Un                  NaN\n",
              "Metro                     1.55\n",
              "Non_Metro                 0.02\n",
              "EARLY                     1.00\n",
              "LATE                      1.00\n",
              "MP                        1.00\n",
              "MEAL                      1.00\n",
              "ROOM                   5754.48\n",
              "VAS                       1.00\n",
              "Country_IN                 NaN\n",
              "Country_Non_IN             NaN\n",
              "Stay_Days                 2.29\n",
              "Stay_Days_0                NaN\n",
              "Stay_Days_1                NaN\n",
              "Stay_Days_2                NaN\n",
              "Stay_Days_3                NaN\n",
              "Stay_Days_4                NaN\n",
              "Stay_Days_5                NaN\n",
              "Stay_Days_5plus            NaN\n",
              "Stay_Days_0avg             NaN\n",
              "Stay_Days_1avg             NaN\n",
              "Stay_Days_2avg             NaN\n",
              "Stay_Days_3avg             NaN\n",
              "Stay_Days_4avg             NaN\n",
              "Stay_Days_5avg             NaN\n",
              "Stay_Days_5plusavg         NaN\n",
              "Revenue_Per_Pax       10916.55\n",
              "Guest_Category_Ind         NaN\n",
              "Guest_Category_Fam         NaN\n",
              "Guest_Category_Smg         NaN\n",
              "Guest_Category_Mmg         NaN\n",
              "Lead_Days                11.96\n",
              "Lead_Days_0                NaN\n",
              "Lead_Days_1                NaN\n",
              "Lead_Days_2                NaN\n",
              "Lead_Days_3                NaN\n",
              "Lead_Days_4                NaN\n",
              "Lead_Days_5                NaN\n",
              "Lead_Days_6                NaN\n",
              "Lead_Days_7                NaN\n",
              "Lead_Days_7plus            NaN\n",
              "Cluster                    NaN\n",
              "dtype: float64"
            ]
          },
          "metadata": {
            "tags": []
          },
          "execution_count": 81
        }
      ]
    },
    {
      "cell_type": "code",
      "metadata": {
        "id": "0StHkczOB9a9"
      },
      "source": [
        "def get_freq_dist(col_name, main_df, last_count, num_total_records, index_list, analysis_df):\r\n",
        "    dist_df = main_df[col_name].value_counts()\r\n",
        "    print(dist_df)\r\n",
        "    first_index = dist_df.first_valid_index()\r\n",
        "    print(first_index)\r\n",
        "    dist_df[last_count] = dist_df.loc[last_count:].sum()\r\n",
        "    print(dist_df.loc[last_count:])\r\n",
        "    dist_df = dist_df[:last_count]\r\n",
        "    dist_df_share = round(dist_df / num_total_records, 4) * 100\r\n",
        "    dist_df_share.index = index_list[first_index:]\r\n",
        "\r\n",
        "    for ind in dist_df_share.index:\r\n",
        "        analysis_df[ind] = dist_df_share[ind]\r\n",
        "\r\n",
        "    return analysis_df"
      ],
      "execution_count": 99,
      "outputs": []
    },
    {
      "cell_type": "code",
      "metadata": {
        "id": "eZfUE5OhHpKp",
        "outputId": "72f2e01d-6352-4cf6-8831-2e42e15b1b5e",
        "colab": {
          "base_uri": "https://localhost:8080/"
        }
      },
      "source": [
        "cluster_analysis = get_freq_dist(col_name = \"Hotel_Count\", main_df = cluster_data, \r\n",
        "                                 last_count = 4, num_total_records = num_of_guests, \r\n",
        "                                 index_list = ['Hotel_Count_1', 'Hotel_Count_2', 'Hotel_Count_3','Hotel_Count_3plus'],\r\n",
        "                                 analysis_df = cluster_analysis\r\n",
        "                                )\r\n",
        "\r\n",
        "\r\n",
        "cluster_analysis"
      ],
      "execution_count": 89,
      "outputs": [
        {
          "output_type": "execute_result",
          "data": {
            "text/plain": [
              "Reservation_Count         1.57\n",
              "Reserv_Count_0             NaN\n",
              "Reserv_Count_1           75.90\n",
              "Reserv_Count_2           12.96\n",
              "Reserv_Count_3            4.74\n",
              "Reserv_Count_3plus        6.40\n",
              "Hotel_Count               1.03\n",
              "Hotel_Count_0              NaN\n",
              "Hotel_Count_1            97.25\n",
              "Hotel_Count_2             2.32\n",
              "Hotel_Count_3             0.31\n",
              "Hotel_Count_3plus         0.13\n",
              "Gender_M                   NaN\n",
              "Gender_F                   NaN\n",
              "Gender_Un                  NaN\n",
              "Metro                     1.55\n",
              "Non_Metro                 0.02\n",
              "EARLY                     1.00\n",
              "LATE                      1.00\n",
              "MP                        1.00\n",
              "MEAL                      1.00\n",
              "ROOM                   5754.48\n",
              "VAS                       1.00\n",
              "Country_IN                 NaN\n",
              "Country_Non_IN             NaN\n",
              "Stay_Days                 2.29\n",
              "Stay_Days_0                NaN\n",
              "Stay_Days_1                NaN\n",
              "Stay_Days_2                NaN\n",
              "Stay_Days_3                NaN\n",
              "Stay_Days_4                NaN\n",
              "Stay_Days_5                NaN\n",
              "Stay_Days_5plus            NaN\n",
              "Stay_Days_0avg             NaN\n",
              "Stay_Days_1avg             NaN\n",
              "Stay_Days_2avg             NaN\n",
              "Stay_Days_3avg             NaN\n",
              "Stay_Days_4avg             NaN\n",
              "Stay_Days_5avg             NaN\n",
              "Stay_Days_5plusavg         NaN\n",
              "Revenue_Per_Pax       10916.55\n",
              "Guest_Category_Ind         NaN\n",
              "Guest_Category_Fam         NaN\n",
              "Guest_Category_Smg         NaN\n",
              "Guest_Category_Mmg         NaN\n",
              "Lead_Days                11.96\n",
              "Lead_Days_0                NaN\n",
              "Lead_Days_1                NaN\n",
              "Lead_Days_2                NaN\n",
              "Lead_Days_3                NaN\n",
              "Lead_Days_4                NaN\n",
              "Lead_Days_5                NaN\n",
              "Lead_Days_6                NaN\n",
              "Lead_Days_7                NaN\n",
              "Lead_Days_7plus            NaN\n",
              "Cluster                    NaN\n",
              "dtype: float64"
            ]
          },
          "metadata": {
            "tags": []
          },
          "execution_count": 89
        }
      ]
    },
    {
      "cell_type": "code",
      "metadata": {
        "id": "HzyucXOwIUv3",
        "outputId": "d6a86189-fb6c-4ea6-8976-122a9b117e7c",
        "colab": {
          "base_uri": "https://localhost:8080/",
          "height": 1000
        }
      },
      "source": [
        "cluster_analysis1 = get_freq_dist(col_name = \"Stay_Days\", main_df = cluster_data, \r\n",
        "                                 last_count = 7, num_total_records = num_of_guests, \r\n",
        "                                 index_list = ['Stay_Days_0', 'Stay_Days_1', 'Stay_Days_2', \r\n",
        "                                               'Stay_Days_3', 'Stay_Days_4', 'Stay_Days_5', \r\n",
        "                                               'Stay_Days_5plus'],\r\n",
        "                                 analysis_df = cluster_analysis\r\n",
        "                                )\r\n",
        "\r\n",
        "\r\n",
        "cluster_analysis1"
      ],
      "execution_count": 100,
      "outputs": [
        {
          "output_type": "stream",
          "text": [
            "1     3450\n",
            "2     2006\n",
            "3      842\n",
            "4      298\n",
            "5      158\n",
            "7      117\n",
            "6       89\n",
            "15      42\n",
            "10      40\n",
            "8       36\n",
            "9       34\n",
            "14      19\n",
            "11      10\n",
            "13      10\n",
            "12       8\n",
            "18       5\n",
            "16       5\n",
            "19       4\n",
            "20       3\n",
            "27       3\n",
            "17       3\n",
            "24       2\n",
            "43       2\n",
            "33       2\n",
            "30       2\n",
            "21       1\n",
            "36       1\n",
            "32       1\n",
            "35       1\n",
            "22       1\n",
            "34       1\n",
            "42       1\n",
            "25       1\n",
            "Name: Stay_Days, dtype: int64\n",
            "1\n",
            "7     444\n",
            "6      89\n",
            "15     42\n",
            "10     40\n",
            "8      36\n",
            "9      34\n",
            "14     19\n",
            "11     10\n",
            "13     10\n",
            "12      8\n",
            "18      5\n",
            "16      5\n",
            "19      4\n",
            "20      3\n",
            "27      3\n",
            "17      3\n",
            "24      2\n",
            "43      2\n",
            "33      2\n",
            "30      2\n",
            "21      1\n",
            "36      1\n",
            "32      1\n",
            "35      1\n",
            "22      1\n",
            "34      1\n",
            "42      1\n",
            "25      1\n",
            "Name: Stay_Days, dtype: int64\n"
          ],
          "name": "stdout"
        },
        {
          "output_type": "error",
          "ename": "ValueError",
          "evalue": "ignored",
          "traceback": [
            "\u001b[0;31m---------------------------------------------------------------------------\u001b[0m",
            "\u001b[0;31mValueError\u001b[0m                                Traceback (most recent call last)",
            "\u001b[0;32m<ipython-input-100-767822aa4fc5>\u001b[0m in \u001b[0;36m<module>\u001b[0;34m()\u001b[0m\n\u001b[1;32m      4\u001b[0m                                                \u001b[0;34m'Stay_Days_3'\u001b[0m\u001b[0;34m,\u001b[0m \u001b[0;34m'Stay_Days_4'\u001b[0m\u001b[0;34m,\u001b[0m \u001b[0;34m'Stay_Days_5'\u001b[0m\u001b[0;34m,\u001b[0m\u001b[0;34m\u001b[0m\u001b[0;34m\u001b[0m\u001b[0m\n\u001b[1;32m      5\u001b[0m                                                'Stay_Days_5plus'],\n\u001b[0;32m----> 6\u001b[0;31m                                  \u001b[0manalysis_df\u001b[0m \u001b[0;34m=\u001b[0m \u001b[0mcluster_analysis\u001b[0m\u001b[0;34m\u001b[0m\u001b[0;34m\u001b[0m\u001b[0m\n\u001b[0m\u001b[1;32m      7\u001b[0m                                 )\n\u001b[1;32m      8\u001b[0m \u001b[0;34m\u001b[0m\u001b[0m\n",
            "\u001b[0;32m<ipython-input-99-f34b3c4b7b1e>\u001b[0m in \u001b[0;36mget_freq_dist\u001b[0;34m(col_name, main_df, last_count, num_total_records, index_list, analysis_df)\u001b[0m\n\u001b[1;32m      8\u001b[0m     \u001b[0mdist_df\u001b[0m \u001b[0;34m=\u001b[0m \u001b[0mdist_df\u001b[0m\u001b[0;34m[\u001b[0m\u001b[0;34m:\u001b[0m\u001b[0mlast_count\u001b[0m\u001b[0;34m]\u001b[0m\u001b[0;34m\u001b[0m\u001b[0;34m\u001b[0m\u001b[0m\n\u001b[1;32m      9\u001b[0m     \u001b[0mdist_df_share\u001b[0m \u001b[0;34m=\u001b[0m \u001b[0mround\u001b[0m\u001b[0;34m(\u001b[0m\u001b[0mdist_df\u001b[0m \u001b[0;34m/\u001b[0m \u001b[0mnum_total_records\u001b[0m\u001b[0;34m,\u001b[0m \u001b[0;36m4\u001b[0m\u001b[0;34m)\u001b[0m \u001b[0;34m*\u001b[0m \u001b[0;36m100\u001b[0m\u001b[0;34m\u001b[0m\u001b[0;34m\u001b[0m\u001b[0m\n\u001b[0;32m---> 10\u001b[0;31m     \u001b[0mdist_df_share\u001b[0m\u001b[0;34m.\u001b[0m\u001b[0mindex\u001b[0m \u001b[0;34m=\u001b[0m \u001b[0mindex_list\u001b[0m\u001b[0;34m[\u001b[0m\u001b[0mfirst_index\u001b[0m\u001b[0;34m:\u001b[0m\u001b[0;34m]\u001b[0m\u001b[0;34m\u001b[0m\u001b[0;34m\u001b[0m\u001b[0m\n\u001b[0m\u001b[1;32m     11\u001b[0m \u001b[0;34m\u001b[0m\u001b[0m\n\u001b[1;32m     12\u001b[0m     \u001b[0;32mfor\u001b[0m \u001b[0mind\u001b[0m \u001b[0;32min\u001b[0m \u001b[0mdist_df_share\u001b[0m\u001b[0;34m.\u001b[0m\u001b[0mindex\u001b[0m\u001b[0;34m:\u001b[0m\u001b[0;34m\u001b[0m\u001b[0;34m\u001b[0m\u001b[0m\n",
            "\u001b[0;32m/usr/local/lib/python3.6/dist-packages/pandas/core/generic.py\u001b[0m in \u001b[0;36m__setattr__\u001b[0;34m(self, name, value)\u001b[0m\n\u001b[1;32m   5152\u001b[0m         \u001b[0;32mtry\u001b[0m\u001b[0;34m:\u001b[0m\u001b[0;34m\u001b[0m\u001b[0;34m\u001b[0m\u001b[0m\n\u001b[1;32m   5153\u001b[0m             \u001b[0mobject\u001b[0m\u001b[0;34m.\u001b[0m\u001b[0m__getattribute__\u001b[0m\u001b[0;34m(\u001b[0m\u001b[0mself\u001b[0m\u001b[0;34m,\u001b[0m \u001b[0mname\u001b[0m\u001b[0;34m)\u001b[0m\u001b[0;34m\u001b[0m\u001b[0;34m\u001b[0m\u001b[0m\n\u001b[0;32m-> 5154\u001b[0;31m             \u001b[0;32mreturn\u001b[0m \u001b[0mobject\u001b[0m\u001b[0;34m.\u001b[0m\u001b[0m__setattr__\u001b[0m\u001b[0;34m(\u001b[0m\u001b[0mself\u001b[0m\u001b[0;34m,\u001b[0m \u001b[0mname\u001b[0m\u001b[0;34m,\u001b[0m \u001b[0mvalue\u001b[0m\u001b[0;34m)\u001b[0m\u001b[0;34m\u001b[0m\u001b[0;34m\u001b[0m\u001b[0m\n\u001b[0m\u001b[1;32m   5155\u001b[0m         \u001b[0;32mexcept\u001b[0m \u001b[0mAttributeError\u001b[0m\u001b[0;34m:\u001b[0m\u001b[0;34m\u001b[0m\u001b[0;34m\u001b[0m\u001b[0m\n\u001b[1;32m   5156\u001b[0m             \u001b[0;32mpass\u001b[0m\u001b[0;34m\u001b[0m\u001b[0;34m\u001b[0m\u001b[0m\n",
            "\u001b[0;32mpandas/_libs/properties.pyx\u001b[0m in \u001b[0;36mpandas._libs.properties.AxisProperty.__set__\u001b[0;34m()\u001b[0m\n",
            "\u001b[0;32m/usr/local/lib/python3.6/dist-packages/pandas/core/series.py\u001b[0m in \u001b[0;36m_set_axis\u001b[0;34m(self, axis, labels, fastpath)\u001b[0m\n\u001b[1;32m    422\u001b[0m         \u001b[0;32mif\u001b[0m \u001b[0;32mnot\u001b[0m \u001b[0mfastpath\u001b[0m\u001b[0;34m:\u001b[0m\u001b[0;34m\u001b[0m\u001b[0;34m\u001b[0m\u001b[0m\n\u001b[1;32m    423\u001b[0m             \u001b[0;31m# The ensure_index call above ensures we have an Index object\u001b[0m\u001b[0;34m\u001b[0m\u001b[0;34m\u001b[0m\u001b[0;34m\u001b[0m\u001b[0m\n\u001b[0;32m--> 424\u001b[0;31m             \u001b[0mself\u001b[0m\u001b[0;34m.\u001b[0m\u001b[0m_mgr\u001b[0m\u001b[0;34m.\u001b[0m\u001b[0mset_axis\u001b[0m\u001b[0;34m(\u001b[0m\u001b[0maxis\u001b[0m\u001b[0;34m,\u001b[0m \u001b[0mlabels\u001b[0m\u001b[0;34m)\u001b[0m\u001b[0;34m\u001b[0m\u001b[0;34m\u001b[0m\u001b[0m\n\u001b[0m\u001b[1;32m    425\u001b[0m \u001b[0;34m\u001b[0m\u001b[0m\n\u001b[1;32m    426\u001b[0m     \u001b[0;31m# ndarray compatibility\u001b[0m\u001b[0;34m\u001b[0m\u001b[0;34m\u001b[0m\u001b[0;34m\u001b[0m\u001b[0m\n",
            "\u001b[0;32m/usr/local/lib/python3.6/dist-packages/pandas/core/internals/managers.py\u001b[0m in \u001b[0;36mset_axis\u001b[0;34m(self, axis, new_labels)\u001b[0m\n\u001b[1;32m    225\u001b[0m         \u001b[0;32mif\u001b[0m \u001b[0mnew_len\u001b[0m \u001b[0;34m!=\u001b[0m \u001b[0mold_len\u001b[0m\u001b[0;34m:\u001b[0m\u001b[0;34m\u001b[0m\u001b[0;34m\u001b[0m\u001b[0m\n\u001b[1;32m    226\u001b[0m             raise ValueError(\n\u001b[0;32m--> 227\u001b[0;31m                 \u001b[0;34mf\"Length mismatch: Expected axis has {old_len} elements, new \"\u001b[0m\u001b[0;34m\u001b[0m\u001b[0;34m\u001b[0m\u001b[0m\n\u001b[0m\u001b[1;32m    228\u001b[0m                 \u001b[0;34mf\"values have {new_len} elements\"\u001b[0m\u001b[0;34m\u001b[0m\u001b[0;34m\u001b[0m\u001b[0m\n\u001b[1;32m    229\u001b[0m             )\n",
            "\u001b[0;31mValueError\u001b[0m: Length mismatch: Expected axis has 7 elements, new values have 6 elements"
          ]
        }
      ]
    },
    {
      "cell_type": "code",
      "metadata": {
        "id": "NNUebBDALTf9"
      },
      "source": [
        ""
      ],
      "execution_count": null,
      "outputs": []
    }
  ]
}